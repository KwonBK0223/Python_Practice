{
 "cells": [
  {
   "cell_type": "markdown",
   "id": "6d0379dc",
   "metadata": {},
   "source": [
    "# 25238\n",
    "가희와 방어율 무시"
   ]
  },
  {
   "cell_type": "code",
   "execution_count": 14,
   "id": "e583069c",
   "metadata": {
    "scrolled": true
   },
   "outputs": [
    {
     "name": "stdout",
     "output_type": "stream",
     "text": [
      "336 71\n",
      "1\n"
     ]
    }
   ],
   "source": [
    "a,b=map(int,input().split())\n",
    "k=(a*(100-b))/100\n",
    "if k>=100:\n",
    "    print(0)\n",
    "else:\n",
    "    print(1)"
   ]
  },
  {
   "cell_type": "markdown",
   "id": "3179c296",
   "metadata": {},
   "source": [
    "# 10101\n",
    "삼각형 외우기"
   ]
  },
  {
   "cell_type": "code",
   "execution_count": 25,
   "id": "3c45ff5a",
   "metadata": {
    "scrolled": true
   },
   "outputs": [
    {
     "name": "stdout",
     "output_type": "stream",
     "text": [
      "60\n",
      "70\n",
      "50\n",
      "Scalene\n"
     ]
    }
   ],
   "source": [
    "a=int(input())\n",
    "b=int(input())\n",
    "c=int(input())\n",
    "if a==60 and b==60 and c==60:\n",
    "    print(\"Equilateral\")\n",
    "elif a+b+c==180:\n",
    "    if a==b or b==c or c==a:\n",
    "        print(\"Isosceles\")\n",
    "    else:\n",
    "        print(\"Scalene\")\n",
    "else:\n",
    "    print(\"Error\")"
   ]
  },
  {
   "cell_type": "markdown",
   "id": "b9b1db88",
   "metadata": {},
   "source": [
    "# 2443\n",
    "별찍기 - 6"
   ]
  },
  {
   "cell_type": "code",
   "execution_count": 27,
   "id": "1fbd465b",
   "metadata": {
    "scrolled": true
   },
   "outputs": [
    {
     "name": "stdout",
     "output_type": "stream",
     "text": [
      "5\n",
      "*********\n",
      " *******\n",
      "  *****\n",
      "   ***\n",
      "    *\n"
     ]
    }
   ],
   "source": [
    "a=int(input())\n",
    "for i in range(a,0,-1):\n",
    "    print(' '*(a-i)+'*'*(2*i-1))"
   ]
  },
  {
   "cell_type": "markdown",
   "id": "6880b659",
   "metadata": {},
   "source": [
    "# 1550\n",
    "16진수"
   ]
  },
  {
   "cell_type": "code",
   "execution_count": 32,
   "id": "aec3a233",
   "metadata": {},
   "outputs": [
    {
     "name": "stdout",
     "output_type": "stream",
     "text": [
      "A9\n",
      "169\n"
     ]
    }
   ],
   "source": [
    "print(int(input(), 16))"
   ]
  },
  {
   "cell_type": "markdown",
   "id": "56bb4c1f",
   "metadata": {},
   "source": [
    "# 10814\n",
    "나이순 정렬"
   ]
  },
  {
   "cell_type": "code",
   "execution_count": 43,
   "id": "07a51478",
   "metadata": {
    "scrolled": false
   },
   "outputs": [
    {
     "name": "stdout",
     "output_type": "stream",
     "text": [
      "3\n",
      "21 Junkyu\n",
      "21 Dohyun\n",
      "20 Sunyoung\n",
      "20 Sunyoung\n",
      "21 Junkyu\n",
      "21 Dohyun\n"
     ]
    }
   ],
   "source": [
    "a=int(input())\n",
    "b=[]\n",
    "for i in range(a):\n",
    "    age,name=input().split()\n",
    "    age=int(age)\n",
    "    b.append((age,name))\n",
    "b.sort(key = lambda x: x[0])\n",
    "for i in range(a):\n",
    "    print(b[i][0],b[i][1])"
   ]
  },
  {
   "cell_type": "markdown",
   "id": "5bcbc346",
   "metadata": {},
   "source": [
    "# 3009\n",
    "네번째 점"
   ]
  },
  {
   "cell_type": "code",
   "execution_count": 56,
   "id": "99ac5822",
   "metadata": {},
   "outputs": [
    {
     "name": "stdout",
     "output_type": "stream",
     "text": [
      "30 20\n",
      "10 10\n",
      "10 20\n",
      "30 10\n"
     ]
    }
   ],
   "source": [
    "x=[]\n",
    "ans1=0\n",
    "ans2=0\n",
    "for i in range(3):\n",
    "    a,b=map(int,input().split())\n",
    "    x.append([a,b])\n",
    "if x[0][0]==x[1][0]:\n",
    "    ans1=x[2][0]\n",
    "elif x[0][0]==x[2][0]:\n",
    "    ans1=x[1][0]\n",
    "else:\n",
    "    ans1=x[0][0]\n",
    "\n",
    "if x[0][1]==x[1][1]:\n",
    "    ans2=x[2][1]\n",
    "elif x[0][1]==x[2][1]:\n",
    "    ans2=x[1][1]\n",
    "else:\n",
    "    ans2=x[0][1]\n",
    "\n",
    "print(ans1,ans2)"
   ]
  },
  {
   "cell_type": "markdown",
   "id": "d2d3bffb",
   "metadata": {},
   "source": [
    "# 10214\n",
    "Baseball"
   ]
  },
  {
   "cell_type": "code",
   "execution_count": 64,
   "id": "c25d5292",
   "metadata": {},
   "outputs": [
    {
     "name": "stdout",
     "output_type": "stream",
     "text": [
      "1\n",
      "1 0\n",
      "0 0\n",
      "0 0\n",
      "0 0\n",
      "0 0\n",
      "0 0\n",
      "0 0\n",
      "0 0\n",
      "0 0\n",
      "Yonsei\n"
     ]
    }
   ],
   "source": [
    "score_Y=0\n",
    "score_K=0\n",
    "for j in range(int(input())):\n",
    "    for i in range(9):\n",
    "        x,y=map(int,input().split())\n",
    "        score_Y+=x\n",
    "        score_K+=y\n",
    "    if score_Y>score_K:\n",
    "        print(\"Yonsei\")\n",
    "    elif score_Y<score_K:\n",
    "        print(\"Korea\")\n",
    "    else:\n",
    "        print(\"Draw\")"
   ]
  },
  {
   "cell_type": "markdown",
   "id": "1a3531bc",
   "metadata": {},
   "source": [
    "# 10103\n",
    "주사위 게임"
   ]
  },
  {
   "cell_type": "code",
   "execution_count": 67,
   "id": "419d27b0",
   "metadata": {},
   "outputs": [
    {
     "name": "stdout",
     "output_type": "stream",
     "text": [
      "4\n",
      "5 6\n",
      "6 6\n",
      "4 3\n",
      "5 2\n",
      "94\n",
      "91\n"
     ]
    }
   ],
   "source": [
    "a,b=100,100\n",
    "for i in range(int(input())):\n",
    "    x,y=map(int,input().split())\n",
    "    if x>y:\n",
    "        b-=x\n",
    "    elif x<y:\n",
    "        a-=y\n",
    "print(a)\n",
    "print(b)"
   ]
  }
 ],
 "metadata": {
  "kernelspec": {
   "display_name": "Python 3 (ipykernel)",
   "language": "python",
   "name": "python3"
  },
  "language_info": {
   "codemirror_mode": {
    "name": "ipython",
    "version": 3
   },
   "file_extension": ".py",
   "mimetype": "text/x-python",
   "name": "python",
   "nbconvert_exporter": "python",
   "pygments_lexer": "ipython3",
   "version": "3.9.12"
  }
 },
 "nbformat": 4,
 "nbformat_minor": 5
}
