{
 "cells": [
  {
   "cell_type": "markdown",
   "id": "f5c0462b",
   "metadata": {},
   "source": [
    "# 15962\n",
    "새로운 시작"
   ]
  },
  {
   "cell_type": "code",
   "execution_count": 1,
   "id": "879e0373",
   "metadata": {},
   "outputs": [
    {
     "name": "stdout",
     "output_type": "stream",
     "text": [
      "파이팅!!\n"
     ]
    }
   ],
   "source": [
    "print(\"파이팅!!\")"
   ]
  },
  {
   "cell_type": "markdown",
   "id": "b7fa5455",
   "metadata": {},
   "source": [
    "# 27110\n",
    "특식배부"
   ]
  },
  {
   "cell_type": "code",
   "execution_count": 6,
   "id": "6c114278",
   "metadata": {},
   "outputs": [
    {
     "name": "stdout",
     "output_type": "stream",
     "text": [
      "10\n",
      "100 200 300\n",
      "30\n"
     ]
    }
   ],
   "source": [
    "n=int(input())\n",
    "a=list(map(int,input().split()))\n",
    "ans=0\n",
    "for i in range(3):\n",
    "    if a[i]<=n:\n",
    "        ans+=a[i]\n",
    "    else:\n",
    "        ans+=n\n",
    "print(ans)"
   ]
  },
  {
   "cell_type": "markdown",
   "id": "0691144b",
   "metadata": {},
   "source": [
    "# 15953\n",
    "상금헌터"
   ]
  },
  {
   "cell_type": "code",
   "execution_count": 7,
   "id": "aa2784fb",
   "metadata": {
    "scrolled": true
   },
   "outputs": [
    {
     "name": "stdout",
     "output_type": "stream",
     "text": [
      "6\n",
      "8 4\n",
      "1780000\n",
      "13 19\n",
      "620000\n",
      "8 10\n",
      "1140000\n",
      "18 18\n",
      "320000\n",
      "8 25\n",
      "820000\n",
      "13 16\n",
      "620000\n"
     ]
    }
   ],
   "source": [
    "a=int(input())\n",
    "for i in range(a):\n",
    "    x,y=map(int,input().split())\n",
    "    ans=0\n",
    "    if x==1:\n",
    "        ans+=5000000\n",
    "    elif x>=2 and x<=3:\n",
    "        ans+=3000000\n",
    "    elif x>=4 and x<=6:\n",
    "        ans+=2000000\n",
    "    elif x>=7 and x<=10:\n",
    "        ans+=500000\n",
    "    elif x>=11 and x<=15:\n",
    "        ans+=300000\n",
    "    elif x>=16 and x<=21:\n",
    "        ans+=100000\n",
    "    else: ans+=0\n",
    "    if y==1:\n",
    "        ans+=5120000\n",
    "    elif y>=2 and y<=3:\n",
    "        ans+=2560000\n",
    "    elif y>=4 and y<=7:\n",
    "        ans+=1280000\n",
    "    elif y>=8 and y<=15:\n",
    "        ans+=640000\n",
    "    elif y>=16 and y<=31:\n",
    "        ans+=320000\n",
    "    else:ans+=0\n",
    "    print(ans)"
   ]
  },
  {
   "cell_type": "markdown",
   "id": "c9d70c5e",
   "metadata": {},
   "source": [
    "# 1350\n",
    "진짜 공간"
   ]
  },
  {
   "cell_type": "code",
   "execution_count": 17,
   "id": "f93d3e74",
   "metadata": {
    "scrolled": false
   },
   "outputs": [
    {
     "name": "stdout",
     "output_type": "stream",
     "text": [
      "6\n",
      "0 0 0 0 0 0\n",
      "8\n",
      "0\n"
     ]
    }
   ],
   "source": [
    "a=int(input())\n",
    "b=list(map(int,input().split()))\n",
    "c=int(input())\n",
    "ans=0\n",
    "for i in range(a):\n",
    "    if b[i]==0:\n",
    "        ans+=0\n",
    "    elif b[i]<=c:\n",
    "        ans+=c\n",
    "    else:\n",
    "        if b[i]%c!=0:\n",
    "            t=(b[i]//c)+1\n",
    "        else:\n",
    "            t=b[i]//c\n",
    "        ans+=(t*c)\n",
    "print(ans)"
   ]
  },
  {
   "cell_type": "markdown",
   "id": "7c5199fb",
   "metadata": {},
   "source": [
    "# 16396\n",
    "선그리기"
   ]
  },
  {
   "cell_type": "code",
   "execution_count": 41,
   "id": "3d9ca432",
   "metadata": {},
   "outputs": [
    {
     "name": "stdout",
     "output_type": "stream",
     "text": [
      "4\n",
      "1 3\n",
      "2 5\n",
      "4 9\n",
      "11 13\n",
      "10\n"
     ]
    }
   ],
   "source": [
    "ans=[0]*10001\n",
    "k=int(input())\n",
    "for i in range(k):\n",
    "    a,b=map(int,input().split())\n",
    "    for j in range(a,b):\n",
    "        ans[j]=1\n",
    "print(sum(ans))"
   ]
  }
 ],
 "metadata": {
  "kernelspec": {
   "display_name": "Python 3 (ipykernel)",
   "language": "python",
   "name": "python3"
  },
  "language_info": {
   "codemirror_mode": {
    "name": "ipython",
    "version": 3
   },
   "file_extension": ".py",
   "mimetype": "text/x-python",
   "name": "python",
   "nbconvert_exporter": "python",
   "pygments_lexer": "ipython3",
   "version": "3.9.12"
  }
 },
 "nbformat": 4,
 "nbformat_minor": 5
}
