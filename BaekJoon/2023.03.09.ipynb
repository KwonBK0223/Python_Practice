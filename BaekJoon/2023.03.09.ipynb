{
 "cells": [
  {
   "cell_type": "markdown",
   "id": "1041da4b",
   "metadata": {},
   "source": [
    "# 10610\n",
    "30"
   ]
  },
  {
   "cell_type": "code",
   "execution_count": 47,
   "id": "be80b26d",
   "metadata": {},
   "outputs": [
    {
     "name": "stdout",
     "output_type": "stream",
     "text": [
      "80875542\n",
      "88755420\n"
     ]
    }
   ],
   "source": [
    "a=int(input())\n",
    "str_a=str(a)\n",
    "len_a=len(str_a)\n",
    "x=[0]*len_a\n",
    "for i in range(len_a):\n",
    "    x[i]=int(str_a[i])\n",
    "if 0 in x:\n",
    "    x.remove(0)\n",
    "    if sum(x)%3!=0:\n",
    "        print(-1)\n",
    "    else:\n",
    "        x.sort()\n",
    "        x.reverse()\n",
    "        for i in range(len(x)):\n",
    "            print(x[i],end='')\n",
    "        print(0)\n",
    "else:\n",
    "    print(-1)"
   ]
  },
  {
   "cell_type": "code",
   "execution_count": null,
   "id": "310a138c",
   "metadata": {},
   "outputs": [],
   "source": []
  }
 ],
 "metadata": {
  "kernelspec": {
   "display_name": "Python 3 (ipykernel)",
   "language": "python",
   "name": "python3"
  },
  "language_info": {
   "codemirror_mode": {
    "name": "ipython",
    "version": 3
   },
   "file_extension": ".py",
   "mimetype": "text/x-python",
   "name": "python",
   "nbconvert_exporter": "python",
   "pygments_lexer": "ipython3",
   "version": "3.9.12"
  }
 },
 "nbformat": 4,
 "nbformat_minor": 5
}
