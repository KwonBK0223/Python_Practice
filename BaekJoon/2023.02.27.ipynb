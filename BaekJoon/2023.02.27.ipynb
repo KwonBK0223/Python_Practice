{
 "cells": [
  {
   "cell_type": "markdown",
   "id": "2ff8c396",
   "metadata": {},
   "source": [
    "# 16430\n",
    "제리와 톰"
   ]
  },
  {
   "cell_type": "code",
   "execution_count": 3,
   "id": "53a3095e",
   "metadata": {},
   "outputs": [
    {
     "name": "stdout",
     "output_type": "stream",
     "text": [
      "5 8\n",
      "3 8\n"
     ]
    }
   ],
   "source": [
    "a,b=map(int,input().split())\n",
    "print(b-a,b)"
   ]
  },
  {
   "cell_type": "markdown",
   "id": "7ebb2051",
   "metadata": {},
   "source": [
    "# 14489\n",
    "치킨 두마리"
   ]
  },
  {
   "cell_type": "code",
   "execution_count": 14,
   "id": "4c92eb4b",
   "metadata": {},
   "outputs": [
    {
     "name": "stdout",
     "output_type": "stream",
     "text": [
      "1000000000 1000000000\n",
      "1000000001\n",
      "2000000000\n"
     ]
    }
   ],
   "source": [
    "a,b=map(int,input().split())\n",
    "c=int(input())\n",
    "ans=a+b\n",
    "if ans<2*c:\n",
    "    print(ans)\n",
    "else:\n",
    "    print(ans-2*c)"
   ]
  },
  {
   "cell_type": "markdown",
   "id": "84b8d970",
   "metadata": {},
   "source": [
    "# 1547\n",
    "공"
   ]
  },
  {
   "cell_type": "code",
   "execution_count": 24,
   "id": "8c9002e4",
   "metadata": {
    "scrolled": true
   },
   "outputs": [
    {
     "name": "stdout",
     "output_type": "stream",
     "text": [
      "9\n",
      "1 2\n",
      "3 2\n",
      "1 2\n",
      "2 1\n",
      "2 1\n",
      "3 2\n",
      "1 3\n",
      "3 1\n",
      "1 2\n",
      "1\n"
     ]
    }
   ],
   "source": [
    "a=int(input())\n",
    "c=[1,0,0]\n",
    "for i in range(a):\n",
    "    x,y=map(int,input().split())\n",
    "    x-=1\n",
    "    y-=1\n",
    "    temp=c[x]\n",
    "    c[x]=c[y]\n",
    "    c[y]=temp\n",
    "print(c.index(1)+1)"
   ]
  },
  {
   "cell_type": "markdown",
   "id": "c46ee4d3",
   "metadata": {},
   "source": [
    "# 1233\n",
    "주사위"
   ]
  },
  {
   "cell_type": "code",
   "execution_count": 42,
   "id": "9c2b0795",
   "metadata": {},
   "outputs": [
    {
     "name": "stdout",
     "output_type": "stream",
     "text": [
      "3 2 3\n",
      "5\n"
     ]
    }
   ],
   "source": [
    "a,b,c=map(int,input().split())\n",
    "k=[0]*(a+b+c+1)\n",
    "for i in range(1,a+1):\n",
    "    for j in range(1,b+1):\n",
    "        for t in range(1,c+1):\n",
    "            n=i+j+t\n",
    "            k[n]+=1\n",
    "x=max(k)\n",
    "ans=k.index(x)\n",
    "print(ans)"
   ]
  },
  {
   "cell_type": "markdown",
   "id": "929959f5",
   "metadata": {},
   "source": [
    "# 5996\n",
    "애너그램"
   ]
  },
  {
   "cell_type": "code",
   "execution_count": 60,
   "id": "62b3e38c",
   "metadata": {},
   "outputs": [
    {
     "name": "stdout",
     "output_type": "stream",
     "text": [
      "3\n",
      "blather reblath\n",
      "blather & reblath are anagrams.\n",
      "maryland landam\n",
      "maryland & landam are NOT anagrams.\n",
      "bizarre brazier\n",
      "bizarre & brazier are anagrams.\n"
     ]
    }
   ],
   "source": [
    "for i in range(int(input())):\n",
    "    x,y=input().split()\n",
    "    a1=list(x)\n",
    "    a2=list(y)\n",
    "    a1.sort()\n",
    "    a2.sort()\n",
    "    if a1==a2:\n",
    "        print(f'{x} & {y} are anagrams.')\n",
    "    else:\n",
    "        print(f'{x} & {y} are NOT anagrams.')"
   ]
  },
  {
   "cell_type": "markdown",
   "id": "4b06f4dd",
   "metadata": {},
   "source": [
    "# 11651\n",
    "좌표 정렬하기 2"
   ]
  },
  {
   "cell_type": "code",
   "execution_count": 62,
   "id": "850f4261",
   "metadata": {},
   "outputs": [
    {
     "name": "stdout",
     "output_type": "stream",
     "text": [
      "5\n",
      "0 4\n",
      "1 2\n",
      "1 -1\n",
      "2 2\n",
      "3 3\n",
      "1 -1\n",
      "1 2\n",
      "2 2\n",
      "3 3\n",
      "0 4\n"
     ]
    }
   ],
   "source": [
    "a=int(input())\n",
    "ans=[]\n",
    "for i in range(a):\n",
    "    x,y=map(int,input().split())\n",
    "    ans.append([y,x])    # y랑 x를 바꿔서 받아서\n",
    "ans.sort()               # y를 기준으로 정렬을하고\n",
    "for i in range(len(ans)):\n",
    "    print(ans[i][1],ans[i][0])  # 다시 원상태로 출력"
   ]
  },
  {
   "cell_type": "code",
   "execution_count": null,
   "id": "22070213",
   "metadata": {},
   "outputs": [],
   "source": []
  }
 ],
 "metadata": {
  "kernelspec": {
   "display_name": "Python 3 (ipykernel)",
   "language": "python",
   "name": "python3"
  },
  "language_info": {
   "codemirror_mode": {
    "name": "ipython",
    "version": 3
   },
   "file_extension": ".py",
   "mimetype": "text/x-python",
   "name": "python",
   "nbconvert_exporter": "python",
   "pygments_lexer": "ipython3",
   "version": "3.9.12"
  }
 },
 "nbformat": 4,
 "nbformat_minor": 5
}
