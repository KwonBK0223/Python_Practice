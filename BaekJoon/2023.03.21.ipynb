{
 "cells": [
  {
   "cell_type": "markdown",
   "id": "8a3a12b3",
   "metadata": {},
   "source": [
    "# 1834\n",
    "나머지와 몫이 같은수"
   ]
  },
  {
   "cell_type": "code",
   "execution_count": 3,
   "id": "72215004",
   "metadata": {},
   "outputs": [
    {
     "name": "stdout",
     "output_type": "stream",
     "text": [
      "2000000\n",
      "3999999999999000000\n"
     ]
    }
   ],
   "source": [
    "a = int(input())\n",
    "ans = 0\n",
    "for i in range(1,a):\n",
    "    k=(a*i)+i\n",
    "    ans+=k\n",
    "print(ans)"
   ]
  },
  {
   "cell_type": "markdown",
   "id": "d972af1e",
   "metadata": {},
   "source": [
    "# 5555\n",
    "반지"
   ]
  },
  {
   "cell_type": "code",
   "execution_count": 37,
   "id": "6f8f80e0",
   "metadata": {},
   "outputs": [
    {
     "name": "stdout",
     "output_type": "stream",
     "text": [
      "abcd\n",
      "3\n",
      "abcdxxxxxx\n",
      "yyyyyyabcdxx\n",
      "dcbazzzzzz\n",
      "2\n"
     ]
    }
   ],
   "source": [
    "ring = input()\n",
    "k = int(input())\n",
    "ans = 0\n",
    "for i in range(k):\n",
    "    x=input()\n",
    "    x+=x\n",
    "    if ring in x:\n",
    "        ans+=1\n",
    "print(ans)"
   ]
  }
 ],
 "metadata": {
  "kernelspec": {
   "display_name": "Python 3 (ipykernel)",
   "language": "python",
   "name": "python3"
  },
  "language_info": {
   "codemirror_mode": {
    "name": "ipython",
    "version": 3
   },
   "file_extension": ".py",
   "mimetype": "text/x-python",
   "name": "python",
   "nbconvert_exporter": "python",
   "pygments_lexer": "ipython3",
   "version": "3.9.12"
  }
 },
 "nbformat": 4,
 "nbformat_minor": 5
}
