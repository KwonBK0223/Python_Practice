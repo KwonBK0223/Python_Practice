{
 "cells": [
  {
   "cell_type": "markdown",
   "id": "be1c1442",
   "metadata": {},
   "source": [
    "# 9654\n",
    "나부 함대 데이터"
   ]
  },
  {
   "cell_type": "code",
   "execution_count": 1,
   "id": "d11987fa",
   "metadata": {},
   "outputs": [
    {
     "name": "stdout",
     "output_type": "stream",
     "text": [
      "SHIP NAME      CLASS          DEPLOYMENT IN SERVICE\n",
      "N2 Bomber      Heavy Fighter  Limited    21\n",
      "J-Type 327     Light Combat   Unlimited  1\n",
      "NX Cruiser     Medium Fighter Limited    18\n",
      "N1 Starfighter Medium Fighter Unlimited  25\n",
      "Royal Cruiser  Light Combat   Limited    4\n"
     ]
    }
   ],
   "source": [
    "print(\"SHIP NAME      CLASS          DEPLOYMENT IN SERVICE\")\n",
    "print(\"N2 Bomber      Heavy Fighter  Limited    21        \")\n",
    "print(\"J-Type 327     Light Combat   Unlimited  1         \")\n",
    "print(\"NX Cruiser     Medium Fighter Limited    18        \")\n",
    "print(\"N1 Starfighter Medium Fighter Unlimited  25        \")\n",
    "print(\"Royal Cruiser  Light Combat   Limited    4         \")"
   ]
  },
  {
   "cell_type": "markdown",
   "id": "964bb5ba",
   "metadata": {},
   "source": [
    "# 10797\n",
    "10부제"
   ]
  },
  {
   "cell_type": "code",
   "execution_count": 3,
   "id": "cad99726",
   "metadata": {},
   "outputs": [
    {
     "name": "stdout",
     "output_type": "stream",
     "text": [
      "5\n",
      "1 3 0 7 4\n",
      "0\n"
     ]
    }
   ],
   "source": [
    "count=0\n",
    "a=int(input())\n",
    "b=list(map(int,input().split()))\n",
    "for i in range(5):\n",
    "    if b[i]==a:\n",
    "        count+=1\n",
    "print(count)"
   ]
  },
  {
   "cell_type": "markdown",
   "id": "8fc151b4",
   "metadata": {},
   "source": [
    "# 2446\n",
    "별찍기 - 9"
   ]
  },
  {
   "cell_type": "code",
   "execution_count": 12,
   "id": "765fb217",
   "metadata": {},
   "outputs": [
    {
     "name": "stdout",
     "output_type": "stream",
     "text": [
      "5\n",
      "*********\n",
      " *******\n",
      "  *****\n",
      "   ***\n",
      "    *\n",
      "   ***\n",
      "  *****\n",
      " *******\n",
      "*********\n"
     ]
    }
   ],
   "source": [
    "a=int(input())\n",
    "for i in range(a,0,-1):\n",
    "    print(' '*(a-i)+'*'*(2*i-1))\n",
    "for i in range(2,a+1):\n",
    "    print(' '*(a-i)+'*'*(2*i-1))"
   ]
  },
  {
   "cell_type": "markdown",
   "id": "b88dc56f",
   "metadata": {},
   "source": [
    "# 10988\n",
    "펠린드롬인지 확인하기"
   ]
  },
  {
   "cell_type": "code",
   "execution_count": 23,
   "id": "6930c1f0",
   "metadata": {},
   "outputs": [
    {
     "name": "stdout",
     "output_type": "stream",
     "text": [
      "baekjoon\n",
      "0\n"
     ]
    }
   ],
   "source": [
    "a=input()\n",
    "b=len(a)\n",
    "k=[]\n",
    "t=[]\n",
    "for i in range(b):\n",
    "    k.append(a[i])\n",
    "    t.append(a[i])\n",
    "t.reverse()\n",
    "if t==k:print(1)\n",
    "else:print(0)"
   ]
  },
  {
   "cell_type": "markdown",
   "id": "453f0467",
   "metadata": {},
   "source": [
    "# 2947\n",
    "나무 조각"
   ]
  },
  {
   "cell_type": "code",
   "execution_count": 40,
   "id": "543cbc63",
   "metadata": {},
   "outputs": [
    {
     "name": "stdout",
     "output_type": "stream",
     "text": [
      "2 3 4 5 1\n",
      "2 3 4 1 5 \n",
      "2 3 1 4 5 \n",
      "2 1 3 4 5 \n",
      "1 2 3 4 5 \n"
     ]
    }
   ],
   "source": [
    "a=list(map(int,input().split()))\n",
    "while 1:\n",
    "    if a[0]>a[1]:\n",
    "        temp=a[0]\n",
    "        a[0]=a[1]\n",
    "        a[1]=temp\n",
    "        for i in range(5):\n",
    "            print(a[i],end=' ')\n",
    "        print()\n",
    "    if a[1]>a[2]:\n",
    "        temp=a[1]\n",
    "        a[1]=a[2]\n",
    "        a[2]=temp\n",
    "        for i in range(5):\n",
    "            print(a[i],end=' ')\n",
    "        print()\n",
    "    if a[2]>a[3]:\n",
    "        temp=a[2]\n",
    "        a[2]=a[3]\n",
    "        a[3]=temp\n",
    "        for i in range(5):\n",
    "            print(a[i],end=' ')\n",
    "        print()\n",
    "    if a[3]>a[4]:\n",
    "        temp=a[3]\n",
    "        a[3]=a[4]\n",
    "        a[4]=temp\n",
    "        for i in range(5):\n",
    "            print(a[i],end=' ')\n",
    "        print()\n",
    "    if a==[1,2,3,4,5]:break"
   ]
  },
  {
   "cell_type": "markdown",
   "id": "378e7413",
   "metadata": {},
   "source": [
    "# 1181\n",
    "단어정렬"
   ]
  },
  {
   "cell_type": "code",
   "execution_count": 56,
   "id": "614984c0",
   "metadata": {},
   "outputs": [
    {
     "name": "stdout",
     "output_type": "stream",
     "text": [
      "13\n",
      "but\n",
      "i\n",
      "wont\n",
      "hesitate\n",
      "no\n",
      "more\n",
      "no\n",
      "more\n",
      "it\n",
      "cannot\n",
      "wait\n",
      "im\n",
      "yours\n",
      "i\n",
      "im\n",
      "it\n",
      "no\n",
      "but\n",
      "more\n",
      "wait\n",
      "wont\n",
      "yours\n",
      "cannot\n",
      "hesitate\n"
     ]
    }
   ],
   "source": [
    "a=int(input())\n",
    "b=[]\n",
    "for i in range(a):\n",
    "    b.append(input())\n",
    "c=set(b)\n",
    "b=list(c)\n",
    "b.sort()\n",
    "b.sort(key=len)\n",
    "for i in range(len(b)):\n",
    "    print(b[i])"
   ]
  },
  {
   "cell_type": "markdown",
   "id": "164c9306",
   "metadata": {},
   "source": [
    "# 9613\n",
    "GCD 합"
   ]
  },
  {
   "cell_type": "code",
   "execution_count": 58,
   "id": "d23f1bab",
   "metadata": {},
   "outputs": [
    {
     "name": "stdout",
     "output_type": "stream",
     "text": [
      "3\n",
      "4 10 20 30 40\n",
      "70\n",
      "3 7 5 12\n",
      "3\n",
      "3 125 15 25\n",
      "35\n"
     ]
    }
   ],
   "source": [
    "import math\n",
    "for i in range(int(input())):\n",
    "    a=list(map(int,input().split()))\n",
    "    x=a[0]\n",
    "    k=a[1:]\n",
    "    ans=[]\n",
    "    for j in range(x):\n",
    "        for n in range(j+1,x):\n",
    "            p=math.gcd(k[j],k[n])\n",
    "            ans.append(p)\n",
    "    print(sum(ans))"
   ]
  }
 ],
 "metadata": {
  "kernelspec": {
   "display_name": "Python 3 (ipykernel)",
   "language": "python",
   "name": "python3"
  },
  "language_info": {
   "codemirror_mode": {
    "name": "ipython",
    "version": 3
   },
   "file_extension": ".py",
   "mimetype": "text/x-python",
   "name": "python",
   "nbconvert_exporter": "python",
   "pygments_lexer": "ipython3",
   "version": "3.9.12"
  }
 },
 "nbformat": 4,
 "nbformat_minor": 5
}
