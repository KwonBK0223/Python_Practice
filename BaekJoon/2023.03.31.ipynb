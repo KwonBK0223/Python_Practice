{
 "cells": [
  {
   "cell_type": "markdown",
   "id": "42771235",
   "metadata": {},
   "source": [
    "# 1032\n",
    "명령 프롬프트"
   ]
  },
  {
   "cell_type": "code",
   "execution_count": 10,
   "id": "2b1feed6",
   "metadata": {},
   "outputs": [
    {
     "name": "stdout",
     "output_type": "stream",
     "text": [
      "3\n",
      "config.sys\n",
      "config.inf\n",
      "configures\n",
      "config????"
     ]
    }
   ],
   "source": [
    "a = int(input())\n",
    "ans=[]\n",
    "\n",
    "for i in range(a):\n",
    "    k = input()\n",
    "    k = list(k)\n",
    "    ans.append(k)\n",
    "x=ans[0]\n",
    "len_x=len(x)\n",
    "for i in range(1,a):\n",
    "    for j in range(len_x):\n",
    "        if x[j] != ans[i][j]:\n",
    "            x[j]=\"?\"\n",
    "for i in range(len_x):\n",
    "    print(x[i],end='')"
   ]
  },
  {
   "cell_type": "markdown",
   "id": "542400ae",
   "metadata": {},
   "source": [
    "# 2309\n",
    "일곱 난쟁이"
   ]
  },
  {
   "cell_type": "code",
   "execution_count": 41,
   "id": "1eee10a6",
   "metadata": {
    "scrolled": true
   },
   "outputs": [
    {
     "name": "stdout",
     "output_type": "stream",
     "text": [
      "20\n",
      "7\n",
      "23\n",
      "19\n",
      "10\n",
      "15\n",
      "25\n",
      "8\n",
      "13\n",
      "7\n",
      "8\n",
      "10\n",
      "13\n",
      "19\n",
      "20\n",
      "23\n"
     ]
    }
   ],
   "source": [
    "a=[0]*9\n",
    "for i in range(9):\n",
    "    k=int(input())\n",
    "    a[i]=k\n",
    "a.sort()\n",
    "x=sum(a)\n",
    "q=0\n",
    "w=0\n",
    "for i in range(9):\n",
    "    for j in range(i+1,9):\n",
    "        \n",
    "        if x-(a[i]+a[j]) == 100:\n",
    "             q,w = a[i],a[j]\n",
    "a.remove(q)\n",
    "a.remove(w)\n",
    "for i in range(len(a)):\n",
    "    print(a[i])\n",
    "    "
   ]
  },
  {
   "cell_type": "markdown",
   "id": "c76d4458",
   "metadata": {},
   "source": [
    "# 2748\n",
    "피보나치수 2"
   ]
  },
  {
   "cell_type": "code",
   "execution_count": 54,
   "id": "3e93e358",
   "metadata": {},
   "outputs": [
    {
     "name": "stdout",
     "output_type": "stream",
     "text": [
      "10\n",
      "55\n"
     ]
    }
   ],
   "source": [
    "def fib(a):\n",
    "    x=0\n",
    "    y=1\n",
    "    for i in range(a-1):\n",
    "        temp = x\n",
    "        x = y\n",
    "        y = temp+y\n",
    "    print(y)\n",
    "\n",
    "\n",
    "    fib(int(input()))"
   ]
  },
  {
   "cell_type": "markdown",
   "id": "eb1dfecc",
   "metadata": {},
   "source": [
    "# 10798\n",
    "세로 읽기"
   ]
  },
  {
   "cell_type": "code",
   "execution_count": 73,
   "id": "9c4a91bf",
   "metadata": {},
   "outputs": [
    {
     "name": "stdout",
     "output_type": "stream",
     "text": [
      "AABCDD\n",
      "afzz\n",
      "09121\n",
      "a8EWg6\n",
      "P5h3kx\n",
      "Aa0aPAf985Bz1EhCz2W3D1gkD6x\n"
     ]
    }
   ],
   "source": [
    "a=[]\n",
    "for i in range(5):\n",
    "    k=input()\n",
    "    a.append(k)\n",
    "b=[0]*5\n",
    "for i in range(5):\n",
    "    b[i]=len(a[i])\n",
    "for i in range(5):\n",
    "    if b[i]!=max(b):\n",
    "        a[i]+=\"/\"*(max(b)-b[i])\n",
    "ans=\"\"\n",
    "for i in range(max(b)):\n",
    "    for j in range(5):\n",
    "        ans+=a[j][i]\n",
    "ans2 = ans.replace('/','')\n",
    "print(ans2)"
   ]
  },
  {
   "cell_type": "markdown",
   "id": "22ed9f3f",
   "metadata": {},
   "source": [
    "# 9093\n",
    "단어 뒤집기"
   ]
  },
  {
   "cell_type": "code",
   "execution_count": 82,
   "id": "3bfed77e",
   "metadata": {},
   "outputs": [
    {
     "name": "stdout",
     "output_type": "stream",
     "text": [
      "2\n",
      "I am happy today\n",
      "I ma yppah yadot We want to win the first prize\n",
      "eW tnaw ot niw eht tsrif ezirp "
     ]
    }
   ],
   "source": [
    "for i in range(int(input())):\n",
    "    x = list(input().split())\n",
    "    for j in range(len(x)):\n",
    "        x[j]=x[j][::-1]\n",
    "    for j in range(len(x)):\n",
    "        print(x[j],end=' ')"
   ]
  },
  {
   "cell_type": "markdown",
   "id": "39463beb",
   "metadata": {},
   "source": [
    "# 27866\n",
    "문자와 문자열"
   ]
  },
  {
   "cell_type": "code",
   "execution_count": 84,
   "id": "1fda62aa",
   "metadata": {},
   "outputs": [
    {
     "name": "stdout",
     "output_type": "stream",
     "text": [
      "shiftpsh\n",
      "6\n",
      "p\n"
     ]
    }
   ],
   "source": [
    "a=input()\n",
    "b=int(input())\n",
    "print(a[b-1])"
   ]
  },
  {
   "cell_type": "markdown",
   "id": "a19aa5d7",
   "metadata": {},
   "source": [
    "# 4796\n",
    "캠핑"
   ]
  },
  {
   "cell_type": "code",
   "execution_count": 89,
   "id": "f69fde0d",
   "metadata": {},
   "outputs": [
    {
     "name": "stdout",
     "output_type": "stream",
     "text": [
      "5 8 20\n",
      "Case 1: 14\n",
      "5 8 17\n",
      "Case 2: 11\n",
      "0 0 0\n"
     ]
    }
   ],
   "source": [
    "i=1\n",
    "while 1:\n",
    "    a,b,c = map(int,input().split())\n",
    "    ans = 0\n",
    "    if a==0 and b==0 and c==0:break\n",
    "    x = c//b\n",
    "    y = c%b\n",
    "    ans = a*x+min(y,a)\n",
    "    print(f'Case {i}: {ans}')\n",
    "    i+=1"
   ]
  }
 ],
 "metadata": {
  "kernelspec": {
   "display_name": "Python 3 (ipykernel)",
   "language": "python",
   "name": "python3"
  },
  "language_info": {
   "codemirror_mode": {
    "name": "ipython",
    "version": 3
   },
   "file_extension": ".py",
   "mimetype": "text/x-python",
   "name": "python",
   "nbconvert_exporter": "python",
   "pygments_lexer": "ipython3",
   "version": "3.9.12"
  }
 },
 "nbformat": 4,
 "nbformat_minor": 5
}
