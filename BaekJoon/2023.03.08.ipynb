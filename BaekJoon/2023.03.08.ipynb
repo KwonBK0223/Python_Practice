{
 "cells": [
  {
   "cell_type": "markdown",
   "id": "010d567a",
   "metadata": {},
   "source": [
    "# 1018\n",
    "체스판 다시 칠하기"
   ]
  },
  {
   "cell_type": "code",
   "execution_count": 1,
   "id": "63bf5b47",
   "metadata": {},
   "outputs": [
    {
     "name": "stdout",
     "output_type": "stream",
     "text": [
      "8 8\n",
      "WBWBWBWB\n",
      "BWBWBWBW\n",
      "WBWBWBWB\n",
      "BWBBBWBW\n",
      "WBWBWBWB\n",
      "BWBWBWBW\n",
      "WBWBWBWB\n",
      "BWBWBWBW\n",
      "1\n"
     ]
    }
   ],
   "source": [
    "n, m = map(int, input().split())\n",
    "\n",
    "board = []\n",
    "for i in range(n):\n",
    "    board.append(input())\n",
    "\n",
    "min_changes = float('inf')\n",
    "\n",
    "for i in range(n-7):\n",
    "    for j in range(m-7):\n",
    "        # 시작점이 W인 경우와 B인 경우를 모두 계산\n",
    "        # W로 시작하는 경우\n",
    "        changes_w = 0\n",
    "        for k in range(i, i+8):\n",
    "            for l in range(j, j+8):\n",
    "                if (k+l) % 2 == 0:\n",
    "                    if board[k][l] != 'W':\n",
    "                        changes_w += 1\n",
    "                else:\n",
    "                    if board[k][l] != 'B':\n",
    "                        changes_w += 1\n",
    "        \n",
    "        # B로 시작하는 경우\n",
    "        changes_b = 0\n",
    "        for k in range(i, i+8):\n",
    "            for l in range(j, j+8):\n",
    "                if (k+l) % 2 == 0:\n",
    "                    if board[k][l] != 'B':\n",
    "                        changes_b += 1\n",
    "                else:\n",
    "                    if board[k][l] != 'W':\n",
    "                        changes_b += 1\n",
    "        \n",
    "        # 더 작은 값을 min_changes에 저장\n",
    "        min_changes = min(min_changes, changes_w, changes_b)\n",
    "\n",
    "print(min_changes)\n"
   ]
  },
  {
   "cell_type": "code",
   "execution_count": null,
   "id": "4668cafd",
   "metadata": {},
   "outputs": [],
   "source": []
  }
 ],
 "metadata": {
  "kernelspec": {
   "display_name": "Python 3 (ipykernel)",
   "language": "python",
   "name": "python3"
  },
  "language_info": {
   "codemirror_mode": {
    "name": "ipython",
    "version": 3
   },
   "file_extension": ".py",
   "mimetype": "text/x-python",
   "name": "python",
   "nbconvert_exporter": "python",
   "pygments_lexer": "ipython3",
   "version": "3.9.12"
  }
 },
 "nbformat": 4,
 "nbformat_minor": 5
}
