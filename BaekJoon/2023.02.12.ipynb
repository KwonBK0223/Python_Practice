{
 "cells": [
  {
   "cell_type": "markdown",
   "id": "4a91bedb",
   "metadata": {},
   "source": [
    "# 16394\n",
    "홍익대학교"
   ]
  },
  {
   "cell_type": "code",
   "execution_count": 5,
   "id": "0a40b8d9",
   "metadata": {},
   "outputs": [
    {
     "name": "stdout",
     "output_type": "stream",
     "text": [
      "2018\n",
      "72\n"
     ]
    }
   ],
   "source": [
    "print(int(input())-1946)"
   ]
  },
  {
   "cell_type": "markdown",
   "id": "45882e0c",
   "metadata": {},
   "source": [
    "# 15726\n",
    "이칙연산"
   ]
  },
  {
   "cell_type": "code",
   "execution_count": 7,
   "id": "8e3ebe9a",
   "metadata": {},
   "outputs": [
    {
     "name": "stdout",
     "output_type": "stream",
     "text": [
      "32 16 8\n",
      "64\n"
     ]
    }
   ],
   "source": [
    "import math\n",
    "a,b,c=map(int,input().split())\n",
    "x,y=0,0\n",
    "x = math.trunc(a*b/c)\n",
    "y = math.trunc(a/b*c)\n",
    "if x>=y:\n",
    "    print(x)\n",
    "else:\n",
    "    print(y)"
   ]
  },
  {
   "cell_type": "markdown",
   "id": "4f169bd8",
   "metadata": {},
   "source": [
    "# 12756\n",
    "고급여관"
   ]
  },
  {
   "cell_type": "code",
   "execution_count": 15,
   "id": "ea146605",
   "metadata": {},
   "outputs": [
    {
     "name": "stdout",
     "output_type": "stream",
     "text": [
      "4 12\n",
      "5 5\n",
      "PLAYER A\n"
     ]
    }
   ],
   "source": [
    "a= list(map(int,input().split()))\n",
    "b= list(map(int,input().split()))\n",
    "while 1:\n",
    "    a[1]-=b[0]\n",
    "    b[1]-=a[0]\n",
    "    if a[1]<=0:\n",
    "        if b[1]<=0:\n",
    "            print(\"DRAW\")\n",
    "            break\n",
    "        else:\n",
    "            print(\"PLAYER B\")\n",
    "            break\n",
    "    if b[1]<=0:\n",
    "        print(\"PLAYER A\")\n",
    "        break"
   ]
  },
  {
   "cell_type": "markdown",
   "id": "f7cf6a1d",
   "metadata": {},
   "source": [
    "# 3028\n",
    "창영마을"
   ]
  },
  {
   "cell_type": "code",
   "execution_count": 17,
   "id": "3b7fd6e9",
   "metadata": {},
   "outputs": [
    {
     "name": "stdout",
     "output_type": "stream",
     "text": [
      "CBABCACCC\n",
      "1\n"
     ]
    }
   ],
   "source": [
    "ans =[1,0,0]\n",
    "a = input()\n",
    "b = len(a)\n",
    "for i in range(b):\n",
    "    if a[i]=='A':\n",
    "        temp = ans[0]\n",
    "        ans[0]=ans[1]\n",
    "        ans[1]=temp\n",
    "    elif a[i]=='B':\n",
    "        temp = ans[1]\n",
    "        ans[1]=ans[2]\n",
    "        ans[2]=temp\n",
    "    elif a[i]=='C':\n",
    "        temp=ans[0]\n",
    "        ans[0]=ans[2]\n",
    "        ans[2]=temp\n",
    "x = ans.index(1)\n",
    "print(x+1)"
   ]
  },
  {
   "cell_type": "markdown",
   "id": "4a627664",
   "metadata": {},
   "source": [
    "# 1551\n",
    "수열의 변화"
   ]
  },
  {
   "cell_type": "code",
   "execution_count": 45,
   "id": "127851a7",
   "metadata": {},
   "outputs": [
    {
     "name": "stdout",
     "output_type": "stream",
     "text": [
      "2 0\n",
      "-100,100\n",
      "-100,100\n"
     ]
    }
   ],
   "source": [
    "a,b = map(int,input().split())\n",
    "put = list(map(int,input().split(',')))\n",
    "while 1:\n",
    "    if b==0:\n",
    "        break\n",
    "    for i in range(a-1):\n",
    "        put[i]=put[i+1]-put[i]\n",
    "    del put[-1]\n",
    "    a-=1\n",
    "    b-=1\n",
    "for i in range(len(put)-1):\n",
    "    print(put[i],end=',')\n",
    "print(put[-1])"
   ]
  },
  {
   "cell_type": "markdown",
   "id": "c9cbffa8",
   "metadata": {},
   "source": [
    "# 1427\n",
    "소트인사이드"
   ]
  },
  {
   "cell_type": "code",
   "execution_count": 48,
   "id": "f04fcec0",
   "metadata": {},
   "outputs": [
    {
     "name": "stdout",
     "output_type": "stream",
     "text": [
      "500613009\n",
      "965310000"
     ]
    }
   ],
   "source": [
    "a = input()\n",
    "ans =[]\n",
    "for i in range(len(a)):\n",
    "    ans.append(a[i])\n",
    "ans.sort()\n",
    "ans.reverse()\n",
    "for i in range(len(a)):\n",
    "    print(ans[i],end='')"
   ]
  },
  {
   "cell_type": "markdown",
   "id": "c1f19c02",
   "metadata": {},
   "source": [
    "# 1676\n",
    "팩토리얼 0의개수"
   ]
  },
  {
   "cell_type": "code",
   "execution_count": 57,
   "id": "281c54d7",
   "metadata": {},
   "outputs": [
    {
     "name": "stdout",
     "output_type": "stream",
     "text": [
      "10\n",
      "2\n"
     ]
    }
   ],
   "source": [
    "a = int(input())\n",
    "fac = 1\n",
    "for i in range(1,a+1):\n",
    "    fac *=i\n",
    "x = str(fac)\n",
    "y=[]\n",
    "for i in range(len(x)):\n",
    "    y.append(x[i])\n",
    "y.reverse()\n",
    "i=0\n",
    "count=0\n",
    "while 1:\n",
    "    if y[i]!='0':break\n",
    "    else:\n",
    "        count+=1\n",
    "    i+=1\n",
    "print(count)"
   ]
  },
  {
   "cell_type": "markdown",
   "id": "7af3b769",
   "metadata": {},
   "source": [
    "# 5355\n",
    "화성수학"
   ]
  },
  {
   "cell_type": "code",
   "execution_count": 89,
   "id": "053f8991",
   "metadata": {},
   "outputs": [
    {
     "name": "stdout",
     "output_type": "stream",
     "text": [
      "3\n",
      "3 @ %\n",
      "14.00\n",
      "10.4 # % @\n",
      "25.20\n",
      "8 #\n",
      "1.00\n"
     ]
    }
   ],
   "source": [
    "a = int(input())\n",
    "for i in range(a):\n",
    "    b =list(input().split())\n",
    "    x = float(b[0])\n",
    "    for j in range(1,len(b)):\n",
    "        if b[j]=='@':\n",
    "            x*=3\n",
    "        elif b[j]==\"%\":\n",
    "            x+=5\n",
    "        elif b[j]==\"#\":\n",
    "            x-=7\n",
    "    print(f\"{x:.2f}\")"
   ]
  },
  {
   "cell_type": "code",
   "execution_count": null,
   "id": "572106b0",
   "metadata": {},
   "outputs": [],
   "source": []
  }
 ],
 "metadata": {
  "kernelspec": {
   "display_name": "Python 3 (ipykernel)",
   "language": "python",
   "name": "python3"
  },
  "language_info": {
   "codemirror_mode": {
    "name": "ipython",
    "version": 3
   },
   "file_extension": ".py",
   "mimetype": "text/x-python",
   "name": "python",
   "nbconvert_exporter": "python",
   "pygments_lexer": "ipython3",
   "version": "3.9.12"
  }
 },
 "nbformat": 4,
 "nbformat_minor": 5
}
