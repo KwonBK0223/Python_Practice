{
 "cells": [
  {
   "cell_type": "markdown",
   "id": "51a72ed6",
   "metadata": {},
   "source": [
    "# 11942\n",
    "고려대는 사랑입니다"
   ]
  },
  {
   "cell_type": "code",
   "execution_count": 1,
   "id": "88872e04",
   "metadata": {},
   "outputs": [
    {
     "name": "stdout",
     "output_type": "stream",
     "text": [
      "고려대학교\n"
     ]
    }
   ],
   "source": [
    "print(\"고려대학교\")"
   ]
  },
  {
   "cell_type": "markdown",
   "id": "a3b7e91f",
   "metadata": {},
   "source": [
    "# 5543\n",
    "상근날드"
   ]
  },
  {
   "cell_type": "code",
   "execution_count": 4,
   "id": "57f5e11d",
   "metadata": {},
   "outputs": [
    {
     "name": "stdout",
     "output_type": "stream",
     "text": [
      "1999\n",
      "1999\n",
      "100\n",
      "189\n",
      "100\n",
      "150\n"
     ]
    }
   ],
   "source": [
    "burger=[]\n",
    "drink=[]\n",
    "for i in range(3):\n",
    "    a=int(input())\n",
    "    burger.append(a)\n",
    "burger_money = min(burger)\n",
    "for i in range(2):\n",
    "    a=int(input())\n",
    "    drink.append(a)\n",
    "drink_money=min(drink)\n",
    "print(burger_money+drink_money-50)"
   ]
  },
  {
   "cell_type": "markdown",
   "id": "17f642cf",
   "metadata": {},
   "source": [
    "# 2523\n",
    "별찍기 -13"
   ]
  },
  {
   "cell_type": "code",
   "execution_count": 8,
   "id": "398d22f9",
   "metadata": {
    "scrolled": true
   },
   "outputs": [
    {
     "name": "stdout",
     "output_type": "stream",
     "text": [
      "3\n",
      "*\n",
      "**\n",
      "***\n",
      "**\n",
      "*\n"
     ]
    }
   ],
   "source": [
    "a = int(input())\n",
    "for i in range(1,a):\n",
    "    print('*'*i)\n",
    "print('*'*a)\n",
    "for i in range(1,a):\n",
    "    print('*'*(a-i))"
   ]
  },
  {
   "cell_type": "markdown",
   "id": "05958b29",
   "metadata": {},
   "source": [
    "# 5086\n",
    "배수와 약수"
   ]
  },
  {
   "cell_type": "code",
   "execution_count": 9,
   "id": "cc3bff31",
   "metadata": {
    "scrolled": true
   },
   "outputs": [
    {
     "name": "stdout",
     "output_type": "stream",
     "text": [
      "8 16\n",
      "factor\n",
      "32 4\n",
      "multiple\n",
      "17 5\n",
      "neither\n",
      "0 0\n"
     ]
    }
   ],
   "source": [
    "while 1:\n",
    "    a,b=map(int,input().split())\n",
    "    if a==b and a==0:\n",
    "        break\n",
    "    elif b%a==0:\n",
    "        print(\"factor\")\n",
    "    elif a%b==0:\n",
    "        print(\"multiple\")\n",
    "    else:\n",
    "        print(\"neither\")"
   ]
  },
  {
   "cell_type": "markdown",
   "id": "66a22620",
   "metadata": {},
   "source": [
    "# 5585\n",
    "거스름돈"
   ]
  },
  {
   "cell_type": "code",
   "execution_count": 26,
   "id": "013308be",
   "metadata": {},
   "outputs": [
    {
     "name": "stdout",
     "output_type": "stream",
     "text": [
      "1\n",
      "15\n"
     ]
    }
   ],
   "source": [
    "a=1000-int(input())\n",
    "count = 0\n",
    "while 1:\n",
    "    if a==0:break\n",
    "    elif a>=500:\n",
    "        a-=500\n",
    "        count+=1\n",
    "    elif a>=100:\n",
    "        a-=100\n",
    "        count+=1\n",
    "    elif a>=50:\n",
    "        a-=50\n",
    "        count+=1\n",
    "    elif a>=10:\n",
    "        a-=10\n",
    "        count+=1\n",
    "    elif a>=5:\n",
    "        a-=5\n",
    "        count+=1\n",
    "    elif a>=1:\n",
    "        a-=1\n",
    "        count+=1\n",
    "    \n",
    "print(count)"
   ]
  },
  {
   "cell_type": "markdown",
   "id": "80e8fcd8",
   "metadata": {},
   "source": [
    "# 3135\n",
    "라디오"
   ]
  },
  {
   "cell_type": "code",
   "execution_count": 24,
   "id": "592200fc",
   "metadata": {},
   "outputs": [
    {
     "name": "stdout",
     "output_type": "stream",
     "text": [
      "88 17\n",
      "3\n",
      "18\n",
      "1\n",
      "42\n",
      "2\n"
     ]
    }
   ],
   "source": [
    "x,y = map(int,input().split())\n",
    "ans = 1\n",
    "k = int(input())\n",
    "botton =[]\n",
    "for i in range(k):\n",
    "    a=int(input())\n",
    "    botton.append(a)\n",
    "for i in range(k):\n",
    "    botton[i] = abs(botton[i]-y)\n",
    "botton.append(abs(x-y)-1)\n",
    "t=min(botton)\n",
    "ans +=t\n",
    "print(ans)"
   ]
  }
 ],
 "metadata": {
  "kernelspec": {
   "display_name": "Python 3 (ipykernel)",
   "language": "python",
   "name": "python3"
  },
  "language_info": {
   "codemirror_mode": {
    "name": "ipython",
    "version": 3
   },
   "file_extension": ".py",
   "mimetype": "text/x-python",
   "name": "python",
   "nbconvert_exporter": "python",
   "pygments_lexer": "ipython3",
   "version": "3.9.12"
  }
 },
 "nbformat": 4,
 "nbformat_minor": 5
}
