{
 "cells": [
  {
   "cell_type": "markdown",
   "id": "9cf9c662",
   "metadata": {},
   "source": [
    "# 4999\n",
    "아!"
   ]
  },
  {
   "cell_type": "code",
   "execution_count": 3,
   "id": "6b9b83c7",
   "metadata": {},
   "outputs": [
    {
     "name": "stdout",
     "output_type": "stream",
     "text": [
      "aaah\n",
      "ah\n",
      "go\n"
     ]
    }
   ],
   "source": [
    "a=len(input())\n",
    "b=len(input())\n",
    "if a>=b:print(\"go\")\n",
    "else:print(\"no\")"
   ]
  },
  {
   "cell_type": "markdown",
   "id": "5ff65a5d",
   "metadata": {},
   "source": [
    "# 2845\n",
    "파티가 끝나고 난 뒤"
   ]
  },
  {
   "cell_type": "code",
   "execution_count": 5,
   "id": "56f0ca3b",
   "metadata": {},
   "outputs": [
    {
     "name": "stdout",
     "output_type": "stream",
     "text": [
      "5 20\n",
      "99 101 1000 0 97\n",
      "-1 1 900 -100 -3 "
     ]
    }
   ],
   "source": [
    "a,b=map(int,input().split())\n",
    "k=a*b\n",
    "t=list(map(int,input().split()))\n",
    "for i in range(len(t)):\n",
    "    t[i]-=k\n",
    "    print(t[i],end=' ')"
   ]
  },
  {
   "cell_type": "markdown",
   "id": "2024e3e7",
   "metadata": {},
   "source": [
    "# 2010\n",
    "플러그"
   ]
  },
  {
   "cell_type": "code",
   "execution_count": 7,
   "id": "078fcbc5",
   "metadata": {},
   "outputs": [
    {
     "name": "stdout",
     "output_type": "stream",
     "text": [
      "2\n",
      "5\n",
      "8\n",
      "12\n"
     ]
    }
   ],
   "source": [
    "a=int(input())\n",
    "b=[]\n",
    "for i in range(a):\n",
    "    b.append(int(input()))\n",
    "ans=sum(b)-(a-1)\n",
    "print(ans)"
   ]
  },
  {
   "cell_type": "code",
   "execution_count": null,
   "id": "bae727e8",
   "metadata": {},
   "outputs": [],
   "source": [
    "# 백준 제출용\n",
    "import sys\n",
    "a=int(sys.stdin.readline())\n",
    "b=[]\n",
    "for i in range(a):\n",
    "    b.append(int(sys.stdin.readline()))\n",
    "ans=sum(b)-(a-1)\n",
    "print(ans)"
   ]
  },
  {
   "cell_type": "markdown",
   "id": "76533ab9",
   "metadata": {},
   "source": [
    "# 1076\n",
    "저항"
   ]
  },
  {
   "cell_type": "code",
   "execution_count": 22,
   "id": "594bc21d",
   "metadata": {},
   "outputs": [
    {
     "name": "stdout",
     "output_type": "stream",
     "text": [
      "yellow\n",
      "violet\n",
      "red\n",
      "4700\n"
     ]
    }
   ],
   "source": [
    "color=['blakc','brown','red','orange','yellow','green','blue','violet','grey','white']\n",
    "ans=0\n",
    "a=input()\n",
    "t,k,x=0,0,0\n",
    "if a in color:\n",
    "    t=color.index(a)\n",
    "ans+=(t*10)\n",
    "b=input()\n",
    "if b in color:\n",
    "    k=color.index(b)\n",
    "ans+=k\n",
    "c=input()\n",
    "if c in color:\n",
    "    x=color.index(c)\n",
    "ans*=(10**x)\n",
    "print(ans)"
   ]
  },
  {
   "cell_type": "markdown",
   "id": "88cc7cc4",
   "metadata": {},
   "source": [
    "# 1145\n",
    "적어도 대부분의 배수"
   ]
  },
  {
   "cell_type": "code",
   "execution_count": 30,
   "id": "248c6fb5",
   "metadata": {},
   "outputs": [
    {
     "name": "stdout",
     "output_type": "stream",
     "text": [
      "3 14 15 92 65\n",
      "195\n"
     ]
    }
   ],
   "source": [
    "import math\n",
    "a=list(map(int,input().split()))\n",
    "ans=[]\n",
    "for i in range(5):\n",
    "    for j in range(i+1,5):\n",
    "        for k in range(j+1,5):\n",
    "            ans.append(math.lcm(a[i],a[j],a[k]))\n",
    "print(min(ans))"
   ]
  },
  {
   "cell_type": "markdown",
   "id": "9aac2f23",
   "metadata": {},
   "source": [
    "# 1769\n",
    "3의 배수"
   ]
  },
  {
   "cell_type": "code",
   "execution_count": 42,
   "id": "7d39a9e4",
   "metadata": {},
   "outputs": [
    {
     "name": "stdout",
     "output_type": "stream",
     "text": [
      "1234567\n",
      "3\n",
      "NO\n"
     ]
    }
   ],
   "source": [
    "a=input()\n",
    "count=0\n",
    "while 1:\n",
    "    if len(a)==1:\n",
    "        break\n",
    "    x=[]\n",
    "    for i in range(len(a)):\n",
    "        x.append(int(a[i]))\n",
    "    a=str(sum(x))\n",
    "    count+=1\n",
    "print(count)\n",
    "if int(a)%3==0:print(\"YES\")\n",
    "else:print(\"NO\")"
   ]
  },
  {
   "cell_type": "markdown",
   "id": "6f28f766",
   "metadata": {},
   "source": [
    "# 1015\n",
    "수열 정렬"
   ]
  },
  {
   "cell_type": "code",
   "execution_count": 61,
   "id": "86f2f121",
   "metadata": {
    "scrolled": true
   },
   "outputs": [
    {
     "name": "stdout",
     "output_type": "stream",
     "text": [
      "8\n",
      "4 1 6 1 3 6 1 4\n",
      "4 0 6 1 3 7 2 5 "
     ]
    }
   ],
   "source": [
    "a=int(input())\n",
    "ans=[0]*a\n",
    "b=list(map(int,input().split()))\n",
    "for i in range(a):\n",
    "    count=0\n",
    "    for j in range(a):\n",
    "        if b[i]>b[j]:\n",
    "            count+=1\n",
    "        ans[i]=count\n",
    "for i in range(a):\n",
    "    for j in range(i+1,a):\n",
    "        if b[i]==b[j]:\n",
    "            ans[j]+=1\n",
    "for i in range(a):\n",
    "    print(ans[i],end=' ')"
   ]
  },
  {
   "cell_type": "markdown",
   "id": "3c8cc7a1",
   "metadata": {},
   "source": [
    "# 2407\n",
    "조합"
   ]
  },
  {
   "cell_type": "code",
   "execution_count": 81,
   "id": "4225229a",
   "metadata": {
    "scrolled": true
   },
   "outputs": [
    {
     "name": "stdout",
     "output_type": "stream",
     "text": [
      "100 6\n",
      "1192052400\n"
     ]
    }
   ],
   "source": [
    "import math\n",
    "a,b=map(int,input().split())\n",
    "ans = math.comb(a,b)\n",
    "print(ans)"
   ]
  },
  {
   "cell_type": "markdown",
   "id": "45cdbe9e",
   "metadata": {},
   "source": [
    "# 11051\n",
    "이항계수 2"
   ]
  },
  {
   "cell_type": "code",
   "execution_count": 86,
   "id": "eb0d2d9c",
   "metadata": {},
   "outputs": [
    {
     "name": "stdout",
     "output_type": "stream",
     "text": [
      "5 2\n",
      "10\n"
     ]
    }
   ],
   "source": [
    "import math\n",
    "a,b=map(int,input().split())\n",
    "ans = math.comb(a,b)\n",
    "ans %= 10007\n",
    "print(ans)"
   ]
  },
  {
   "cell_type": "markdown",
   "id": "c8c4f463",
   "metadata": {},
   "source": [
    "# 2935\n",
    "소음"
   ]
  },
  {
   "cell_type": "code",
   "execution_count": 2,
   "id": "714bf309",
   "metadata": {},
   "outputs": [
    {
     "name": "stdout",
     "output_type": "stream",
     "text": [
      "10000\n",
      "+\n",
      "10\n",
      "10010\n"
     ]
    }
   ],
   "source": [
    "a=int(input())\n",
    "b=input()\n",
    "c=int(input())\n",
    "if b=='+':\n",
    "    print(a+c)\n",
    "elif b=='*':\n",
    "    print(a*c)"
   ]
  },
  {
   "cell_type": "markdown",
   "id": "feb277dd",
   "metadata": {},
   "source": [
    "# 1789\n",
    "수들의 합"
   ]
  },
  {
   "cell_type": "code",
   "execution_count": 5,
   "id": "740620df",
   "metadata": {},
   "outputs": [
    {
     "name": "stdout",
     "output_type": "stream",
     "text": [
      "200\n",
      "19\n"
     ]
    }
   ],
   "source": [
    "a=int(input())\n",
    "sum=0\n",
    "i=1\n",
    "while 1:\n",
    "    if sum>=a:break\n",
    "    sum+=i\n",
    "    i+=1\n",
    "if sum==a:print(i-1)\n",
    "else: print(i-2)"
   ]
  },
  {
   "cell_type": "markdown",
   "id": "c524c746",
   "metadata": {},
   "source": [
    "# 2914\n",
    "저작권"
   ]
  },
  {
   "cell_type": "code",
   "execution_count": 9,
   "id": "aa46a942",
   "metadata": {},
   "outputs": [
    {
     "name": "stdout",
     "output_type": "stream",
     "text": [
      "10 10\n",
      "91\n"
     ]
    }
   ],
   "source": [
    "a,b=map(int,input().split())\n",
    "print(a*(b-1)+1)"
   ]
  }
 ],
 "metadata": {
  "kernelspec": {
   "display_name": "Python 3 (ipykernel)",
   "language": "python",
   "name": "python3"
  },
  "language_info": {
   "codemirror_mode": {
    "name": "ipython",
    "version": 3
   },
   "file_extension": ".py",
   "mimetype": "text/x-python",
   "name": "python",
   "nbconvert_exporter": "python",
   "pygments_lexer": "ipython3",
   "version": "3.9.12"
  }
 },
 "nbformat": 4,
 "nbformat_minor": 5
}
