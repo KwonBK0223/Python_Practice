{
 "cells": [
  {
   "cell_type": "markdown",
   "id": "209a613c",
   "metadata": {},
   "source": [
    "# 2338\n",
    "긴자리 계산"
   ]
  },
  {
   "cell_type": "code",
   "execution_count": 2,
   "id": "3322324f",
   "metadata": {},
   "outputs": [
    {
     "name": "stdout",
     "output_type": "stream",
     "text": [
      "1\n",
      "-1\n",
      "0\n",
      "2\n",
      "-1\n"
     ]
    }
   ],
   "source": [
    "a=int(input())\n",
    "b=int(input())\n",
    "print(a+b)\n",
    "print(a-b)\n",
    "print(a*b)"
   ]
  },
  {
   "cell_type": "markdown",
   "id": "dd0964e9",
   "metadata": {},
   "source": [
    "# 2083\n",
    "럭비클럽"
   ]
  },
  {
   "cell_type": "code",
   "execution_count": 5,
   "id": "cae939d7",
   "metadata": {},
   "outputs": [
    {
     "name": "stdout",
     "output_type": "stream",
     "text": [
      "Joe 16 34\n",
      "Joe Junior\n",
      "Bill 18 65\n",
      "Bill Senior\n",
      "Billy 17 65\n",
      "Billy Junior\n",
      "Sam 17 85\n",
      "Sam Senior\n",
      "# 0 0\n"
     ]
    }
   ],
   "source": [
    "while 1:\n",
    "    a,b,c=input().split()\n",
    "    b=int(b)\n",
    "    c=int(c)\n",
    "    if a=='#' and b==0 and c==0:break\n",
    "    if b>17 or c>=80:\n",
    "        print(a,\"Senior\")\n",
    "    else:\n",
    "        print(a,\"Junior\")"
   ]
  },
  {
   "cell_type": "markdown",
   "id": "94e96f07",
   "metadata": {},
   "source": [
    "# 1284\n",
    "집주소"
   ]
  },
  {
   "cell_type": "code",
   "execution_count": 8,
   "id": "c2cfe127",
   "metadata": {},
   "outputs": [
    {
     "name": "stdout",
     "output_type": "stream",
     "text": [
      "120\n",
      "13\n",
      "5611\n",
      "15\n",
      "100\n",
      "14\n",
      "0\n"
     ]
    }
   ],
   "source": [
    "a=[4,2,3,3,3,3,3,3,3,3]\n",
    "while 1:\n",
    "    k=input()\n",
    "    if k=='0':break\n",
    "    count =0\n",
    "    for i in range(len(k)):\n",
    "        t=int(k[i])\n",
    "        count+=a[t]\n",
    "    print(count+len(k)+1)"
   ]
  },
  {
   "cell_type": "markdown",
   "id": "5092135b",
   "metadata": {},
   "source": [
    "# 1225\n",
    "이상한 곱셈"
   ]
  },
  {
   "cell_type": "code",
   "execution_count": 27,
   "id": "51f8ec90",
   "metadata": {},
   "outputs": [
    {
     "name": "stdout",
     "output_type": "stream",
     "text": [
      "123 45\n",
      "54\n"
     ]
    }
   ],
   "source": [
    "a,b=input().split()\n",
    "a=list(map(int,a))\n",
    "b=list(map(int,b))\n",
    "print(sum(a)*sum(b))"
   ]
  },
  {
   "cell_type": "markdown",
   "id": "dcbfcf30",
   "metadata": {},
   "source": [
    "따로 따로 계산할 필요 없고 << 이러면 시간 초과뜸\n",
    "\n",
    "각 숫자들의 자리수를 먼저 합친뒤 더하면 됨"
   ]
  },
  {
   "cell_type": "markdown",
   "id": "e734b15d",
   "metadata": {},
   "source": [
    "생각의 차이"
   ]
  },
  {
   "cell_type": "markdown",
   "id": "4af43a07",
   "metadata": {},
   "source": [
    "# 1934\n",
    "최소공배수"
   ]
  },
  {
   "cell_type": "code",
   "execution_count": 30,
   "id": "ebeacf44",
   "metadata": {
    "scrolled": false
   },
   "outputs": [
    {
     "name": "stdout",
     "output_type": "stream",
     "text": [
      "3\n",
      "1 45000\n",
      "45000\n",
      "6 10\n",
      "30\n",
      "13 17\n",
      "221\n"
     ]
    }
   ],
   "source": [
    "import math\n",
    "a = int(input())\n",
    "for i in range(a):\n",
    "    x,y=map(int,input().split())\n",
    "    ans=math.lcm(x,y)\n",
    "    print(ans)"
   ]
  },
  {
   "cell_type": "markdown",
   "id": "c5d568ef",
   "metadata": {},
   "source": [
    "# 1312\n",
    "소수"
   ]
  },
  {
   "cell_type": "code",
   "execution_count": 56,
   "id": "d3a74fe3",
   "metadata": {},
   "outputs": [
    {
     "name": "stdout",
     "output_type": "stream",
     "text": [
      "25 7 5\n",
      "2\n"
     ]
    }
   ],
   "source": [
    "a,b,c=map(int,input().split())\n",
    "for i in range(c):\n",
    "    a = (a%b)*10\n",
    "    ans = a//b\n",
    "print(ans)\n",
    "\n",
    "#자리수가 너무 많아지기 때문에 소수점 없이 계속 계산하게 만들기"
   ]
  }
 ],
 "metadata": {
  "kernelspec": {
   "display_name": "Python 3 (ipykernel)",
   "language": "python",
   "name": "python3"
  },
  "language_info": {
   "codemirror_mode": {
    "name": "ipython",
    "version": 3
   },
   "file_extension": ".py",
   "mimetype": "text/x-python",
   "name": "python",
   "nbconvert_exporter": "python",
   "pygments_lexer": "ipython3",
   "version": "3.9.12"
  }
 },
 "nbformat": 4,
 "nbformat_minor": 5
}
