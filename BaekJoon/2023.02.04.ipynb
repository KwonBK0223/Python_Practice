{
 "cells": [
  {
   "cell_type": "markdown",
   "id": "fc8c6f5a",
   "metadata": {},
   "source": [
    "# 문자열"
   ]
  },
  {
   "cell_type": "markdown",
   "id": "49513b84",
   "metadata": {},
   "source": [
    "# 2941\n",
    "크로아티아 알파벳"
   ]
  },
  {
   "cell_type": "markdown",
   "id": "e3b3c6bc",
   "metadata": {},
   "source": [
    "c=, c-, dz=, d-, lj, nj, s=, z="
   ]
  },
  {
   "cell_type": "code",
   "execution_count": 36,
   "id": "03b05c81",
   "metadata": {},
   "outputs": [
    {
     "name": "stdout",
     "output_type": "stream",
     "text": [
      "c=c=c-d-123\n",
      "7\n"
     ]
    }
   ],
   "source": [
    "a = input()\n",
    "if a.find(\"c=\")!=-1: #없으면 -1 , 있으면 값중 첫번째의 위치를 나타냄\n",
    "    a=a.replace(\"c=\",\"1\") #그 알파벳을 하나의 숫자로 변경\n",
    "if a.find(\"c-\")!=-1:\n",
    "    a=a.replace(\"c-\",\"1\")\n",
    "if a.find(\"dz=\")!=-1:\n",
    "    a=a.replace(\"dz=\",\"1\")\n",
    "if a.find(\"d-\")!=-1:\n",
    "    a=a.replace(\"d-\",\"1\")\n",
    "if a.find(\"lj\")!=-1:\n",
    "    a=a.replace(\"lj\",\"1\")\n",
    "if a.find(\"nj\")!=-1:\n",
    "    a=a.replace(\"nj\",\"1\")\n",
    "if a.find(\"s=\")!=-1:\n",
    "    a=a.replace(\"s=\",\"1\")\n",
    "if a.find(\"z=\")!=-1:\n",
    "    a=a.replace(\"z=\",\"1\")\n",
    "print(len(a))\n"
   ]
  },
  {
   "cell_type": "markdown",
   "id": "76c42f35",
   "metadata": {},
   "source": [
    "# 기본수학1"
   ]
  },
  {
   "cell_type": "markdown",
   "id": "a81c7e88",
   "metadata": {},
   "source": [
    "# 1712\n",
    "손익분기점"
   ]
  },
  {
   "cell_type": "code",
   "execution_count": 61,
   "id": "668aa826",
   "metadata": {},
   "outputs": [
    {
     "name": "stdout",
     "output_type": "stream",
     "text": [
      "2100000000 9 10\n",
      "2100000001\n"
     ]
    }
   ],
   "source": [
    "a,b,c = map(int,input().split())\n",
    "k = c-b\n",
    "ans = 0\n",
    "if k<=0:\n",
    "    ans = -1\n",
    "else:\n",
    "    t=a//k\n",
    "    ans = t+1\n",
    "print(ans)"
   ]
  },
  {
   "cell_type": "markdown",
   "id": "9ddace5e",
   "metadata": {},
   "source": [
    "# CLASS 2"
   ]
  },
  {
   "cell_type": "markdown",
   "id": "bccfc60c",
   "metadata": {},
   "source": [
    "# 1085\n",
    "직사각형에서 탈출"
   ]
  },
  {
   "cell_type": "code",
   "execution_count": 74,
   "id": "b8f72d13",
   "metadata": {},
   "outputs": [
    {
     "name": "stdout",
     "output_type": "stream",
     "text": [
      "6 2 100 3\n",
      "1\n"
     ]
    }
   ],
   "source": [
    "x,y,w,h = map(int,input().split())\n",
    "p=[x,y,w-x,h-y]\n",
    "print(min(p))"
   ]
  }
 ],
 "metadata": {
  "kernelspec": {
   "display_name": "Python 3 (ipykernel)",
   "language": "python",
   "name": "python3"
  },
  "language_info": {
   "codemirror_mode": {
    "name": "ipython",
    "version": 3
   },
   "file_extension": ".py",
   "mimetype": "text/x-python",
   "name": "python",
   "nbconvert_exporter": "python",
   "pygments_lexer": "ipython3",
   "version": "3.9.12"
  }
 },
 "nbformat": 4,
 "nbformat_minor": 5
}
