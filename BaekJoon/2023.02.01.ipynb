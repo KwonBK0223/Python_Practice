{
 "cells": [
  {
   "cell_type": "markdown",
   "id": "cb82e58c",
   "metadata": {},
   "source": [
    "# 입출력과 사칙연산"
   ]
  },
  {
   "cell_type": "markdown",
   "id": "d34d0fee",
   "metadata": {},
   "source": [
    "# 2557\n",
    "Hello World!를 출력하시오."
   ]
  },
  {
   "cell_type": "code",
   "execution_count": 1,
   "id": "aa8ea7d4",
   "metadata": {},
   "outputs": [
    {
     "name": "stdout",
     "output_type": "stream",
     "text": [
      "Hello World!\n"
     ]
    }
   ],
   "source": [
    "print(\"Hello World!\")"
   ]
  },
  {
   "cell_type": "markdown",
   "id": "db901746",
   "metadata": {},
   "source": [
    "# 1000\n",
    "두 정수 A와 B를 입력받은 다음, A+B를 출력하는 프로그램을 작성하시오."
   ]
  },
  {
   "cell_type": "code",
   "execution_count": 16,
   "id": "2eb0c66c",
   "metadata": {},
   "outputs": [
    {
     "name": "stdout",
     "output_type": "stream",
     "text": [
      "1 2\n",
      "3\n"
     ]
    }
   ],
   "source": [
    "A,B = input().split()\n",
    "sum = int(A)+int(B)\n",
    "print(sum)"
   ]
  },
  {
   "cell_type": "markdown",
   "id": "c8e1061e",
   "metadata": {},
   "source": [
    "# 1001\n",
    "두 정수 A와 B를 입력받은 다음, A-B를 출력하는 프로그램을 작성하시오."
   ]
  },
  {
   "cell_type": "code",
   "execution_count": 17,
   "id": "6c9b927d",
   "metadata": {},
   "outputs": [
    {
     "name": "stdout",
     "output_type": "stream",
     "text": [
      "3 2\n",
      "1\n"
     ]
    }
   ],
   "source": [
    "A,B = input().split()\n",
    "sum = int(A)-int(B)\n",
    "print(sum)"
   ]
  },
  {
   "cell_type": "markdown",
   "id": "7d5d8379",
   "metadata": {},
   "source": [
    "# 10998\n",
    "두 정수 A와 B를 입력받은 다음, A×B를 출력하는 프로그램을 작성하시오."
   ]
  },
  {
   "cell_type": "code",
   "execution_count": 19,
   "id": "a260b18e",
   "metadata": {
    "scrolled": true
   },
   "outputs": [
    {
     "name": "stdout",
     "output_type": "stream",
     "text": [
      "3 4\n",
      "12\n"
     ]
    }
   ],
   "source": [
    "A,B = input().split()\n",
    "sum = int(A)*int(B)\n",
    "print(sum)"
   ]
  },
  {
   "cell_type": "markdown",
   "id": "479bc685",
   "metadata": {},
   "source": [
    "# 1008\n",
    "두 정수 A와 B를 입력받은 다음, A/B를 출력하는 프로그램을 작성하시오."
   ]
  },
  {
   "cell_type": "code",
   "execution_count": 20,
   "id": "995048ea",
   "metadata": {},
   "outputs": [
    {
     "name": "stdout",
     "output_type": "stream",
     "text": [
      "4 5\n",
      "0.8\n"
     ]
    }
   ],
   "source": [
    "A,B = input().split()\n",
    "sum = int(A)/int(B)\n",
    "print(sum)"
   ]
  },
  {
   "cell_type": "markdown",
   "id": "961af9da",
   "metadata": {},
   "source": [
    "# 10869\n",
    "두 자연수 A와 B가 주어진다. 이때, A+B, A-B, A*B, A/B(몫), A%B(나머지)를 출력하는 프로그램을 작성하시오. "
   ]
  },
  {
   "cell_type": "code",
   "execution_count": 30,
   "id": "ac322579",
   "metadata": {
    "scrolled": false
   },
   "outputs": [
    {
     "name": "stdout",
     "output_type": "stream",
     "text": [
      "7 3\n",
      "10\n",
      "4\n",
      "21\n",
      "2\n",
      "1\n"
     ]
    }
   ],
   "source": [
    "A,B = input().split()\n",
    "sum = int(A)+int(B)\n",
    "minus = int(A)-int(B)\n",
    "mul = int(A)*int(B)\n",
    "div = int(A)/int(B)\n",
    "ex = int(A)%int(B)\n",
    "print(sum)\n",
    "print(minus)\n",
    "print(mul)\n",
    "print(int(div))\n",
    "print(ex)"
   ]
  },
  {
   "cell_type": "markdown",
   "id": "f59ec905",
   "metadata": {},
   "source": [
    "# 10926\n",
    "준하는 사이트에 회원가입을 하다가 joonas라는 아이디가 이미 존재하는 것을 보고 놀랐다. 준하는 놀람을 ??!로 표현한다. 준하가 가입하려고 하는 사이트에 이미 존재하는 아이디가 주어졌을 때, 놀람을 표현하는 프로그램을 작성하시오."
   ]
  },
  {
   "cell_type": "code",
   "execution_count": 31,
   "id": "9ca90ddc",
   "metadata": {},
   "outputs": [
    {
     "name": "stdout",
     "output_type": "stream",
     "text": [
      "joonas\n",
      "joonas??!\n"
     ]
    }
   ],
   "source": [
    "x = input()\n",
    "print(x+\"??!\")"
   ]
  },
  {
   "cell_type": "markdown",
   "id": "03957df9",
   "metadata": {},
   "source": [
    "# 18108\n",
    "ICPC Bangkok Regional에 참가하기 위해 수완나품 국제공항에 막 도착한 팀 레드시프트 일행은 눈을 믿을 수 없었다. 공항의 대형 스크린에 올해가 2562년이라고 적혀 있던 것이었다.\n",
    "\n",
    "불교 국가인 태국은 불멸기원(佛滅紀元), 즉 석가모니가 열반한 해를 기준으로 연도를 세는 불기를 사용한다. 반면, 우리나라는 서기 연도를 사용하고 있다. 불기 연도가 주어질 때 이를 서기 연도로 바꿔 주는 프로그램을 작성하시오."
   ]
  },
  {
   "cell_type": "code",
   "execution_count": 34,
   "id": "38d86914",
   "metadata": {},
   "outputs": [
    {
     "name": "stdout",
     "output_type": "stream",
     "text": [
      "2541\n",
      "1998\n"
     ]
    }
   ],
   "source": [
    "y = input()\n",
    "print(int(y)-543)"
   ]
  },
  {
   "cell_type": "markdown",
   "id": "cbdb517b",
   "metadata": {},
   "source": [
    "# 3003\n",
    "동혁이는 오래된 창고를 뒤지다가 낡은 체스판과 피스를 발견했다.\n",
    "\n",
    "체스판의 먼지를 털어내고 걸레로 닦으니 그럭저럭 쓸만한 체스판이 되었다. 하지만, 검정색 피스는 모두 있었으나, 흰색 피스는 개수가 올바르지 않았다.\n",
    "\n",
    "체스는 총 16개의 피스를 사용하며, 킹 1개, 퀸 1개, 룩 2개, 비숍 2개, 나이트 2개, 폰 8개로 구성되어 있다.\n",
    "\n",
    "동혁이가 발견한 흰색 피스의 개수가 주어졌을 때, 몇 개를 더하거나 빼야 올바른 세트가 되는지 구하는 프로그램을 작성하시오."
   ]
  },
  {
   "cell_type": "code",
   "execution_count": 20,
   "id": "59a645ee",
   "metadata": {},
   "outputs": [
    {
     "name": "stdout",
     "output_type": "stream",
     "text": [
      "2 1 2 1 2 1\n",
      "-1 0 0 1 0 7\n"
     ]
    }
   ],
   "source": [
    "x = [1,1,2,2,2,8]\n",
    "\n",
    "a,b,c,d,e,f = input().split()\n",
    "\n",
    "x[0] -= int(a)\n",
    "x[1] -= int(b)\n",
    "x[2] -= int(c)\n",
    "x[3] -= int(d)\n",
    "x[4] -= int(e)\n",
    "x[5] -= int(f)\n",
    "\n",
    "print(x[0],x[1],x[2],x[3],x[4],x[5])"
   ]
  },
  {
   "cell_type": "markdown",
   "id": "84c9da68",
   "metadata": {},
   "source": [
    "# 10430\n",
    "(A+B)%C는 ((A%C) + (B%C))%C 와 같을까?\n",
    "\n",
    "(A×B)%C는 ((A%C) × (B%C))%C 와 같을까?\n",
    "\n",
    "세 수 A, B, C가 주어졌을 때, 위의 네 가지 값을 구하는 프로그램을 작성하시오."
   ]
  },
  {
   "cell_type": "code",
   "execution_count": 29,
   "id": "d0c724d7",
   "metadata": {},
   "outputs": [
    {
     "name": "stdout",
     "output_type": "stream",
     "text": [
      "5 8 4\n",
      "1\n",
      "1\n",
      "0\n",
      "0\n"
     ]
    }
   ],
   "source": [
    "a,b,c = input().split()\n",
    "A = int(a)\n",
    "B = int(b)\n",
    "C = int(c)\n",
    "num1=(A+B)%C\n",
    "num2=((A%C)+(B%C))%C\n",
    "num3=(A*B)%C\n",
    "num4=((A%C)*(B%C))%C\n",
    "print(num1)\n",
    "print(num2)\n",
    "print(num3)\n",
    "print(num4)"
   ]
  },
  {
   "cell_type": "markdown",
   "id": "08d212fc",
   "metadata": {},
   "source": [
    "# 2588\n",
    "\n",
    "(1)과 (2)위치에 들어갈 세 자리 자연수가 주어질 때 (3), (4), (5), (6)위치에 들어갈 값을 구하는 프로그램을 작성하시오."
   ]
  },
  {
   "cell_type": "code",
   "execution_count": 33,
   "id": "a04c2dd9",
   "metadata": {},
   "outputs": [
    {
     "name": "stdout",
     "output_type": "stream",
     "text": [
      "472\n",
      "385\n",
      "2360\n",
      "3776\n",
      "1416\n",
      "181720\n"
     ]
    }
   ],
   "source": [
    "line1 = int(input())\n",
    "line2 = int(input())\n",
    "a = int(line2/100)\n",
    "b = int((line2-(a*100))/10)\n",
    "c = int(line2-(a*100)-(b*10))\n",
    "line3 = line1*c\n",
    "line4 = line1*b\n",
    "line5 = line1*a\n",
    "line6 = line1*line2\n",
    "print(line3)\n",
    "print(line4)\n",
    "print(line5)\n",
    "print(line6)"
   ]
  },
  {
   "cell_type": "markdown",
   "id": "8d7fe972",
   "metadata": {},
   "source": [
    "# 10171\n",
    "고양이를 출력한다."
   ]
  },
  {
   "cell_type": "code",
   "execution_count": 36,
   "id": "e2b66d1b",
   "metadata": {},
   "outputs": [
    {
     "name": "stdout",
     "output_type": "stream",
     "text": [
      "\\    /\\\n",
      " )  ( ')\n",
      "(  /  )\n",
      " \\(__)|\n"
     ]
    }
   ],
   "source": [
    "print(\"\\\\    /\\\\\")\n",
    "print(\" )  ( ')\")\n",
    "print(\"(  /  )\")\n",
    "print(\" \\\\(__)|\")"
   ]
  },
  {
   "cell_type": "code",
   "execution_count": null,
   "id": "92844d22",
   "metadata": {},
   "outputs": [],
   "source": []
  }
 ],
 "metadata": {
  "kernelspec": {
   "display_name": "Python 3 (ipykernel)",
   "language": "python",
   "name": "python3"
  },
  "language_info": {
   "codemirror_mode": {
    "name": "ipython",
    "version": 3
   },
   "file_extension": ".py",
   "mimetype": "text/x-python",
   "name": "python",
   "nbconvert_exporter": "python",
   "pygments_lexer": "ipython3",
   "version": "3.9.12"
  }
 },
 "nbformat": 4,
 "nbformat_minor": 5
}
