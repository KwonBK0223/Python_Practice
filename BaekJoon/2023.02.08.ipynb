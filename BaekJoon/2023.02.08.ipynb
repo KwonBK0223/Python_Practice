{
 "cells": [
  {
   "cell_type": "markdown",
   "id": "426deeb4",
   "metadata": {},
   "source": [
    "# 5596\n",
    "시험점수"
   ]
  },
  {
   "cell_type": "code",
   "execution_count": 6,
   "id": "898371d6",
   "metadata": {},
   "outputs": [
    {
     "name": "stdout",
     "output_type": "stream",
     "text": [
      "100 80 70 60\n",
      "80 70 60 100\n",
      "310\n"
     ]
    }
   ],
   "source": [
    "a = list(map(int,input().split()))\n",
    "b = list(map(int,input().split()))\n",
    "a_sum = sum(a)\n",
    "b_sum = sum(b)\n",
    "if a_sum>=b_sum:\n",
    "    print(a_sum)\n",
    "else:\n",
    "    print(b_sum)"
   ]
  },
  {
   "cell_type": "markdown",
   "id": "b0062279",
   "metadata": {},
   "source": [
    "# 2985\n",
    "세수"
   ]
  },
  {
   "cell_type": "code",
   "execution_count": 36,
   "id": "4681dd4d",
   "metadata": {},
   "outputs": [
    {
     "name": "stdout",
     "output_type": "stream",
     "text": [
      "5 3 8\n",
      "5+3=8\n"
     ]
    }
   ],
   "source": [
    "a,b,c = map(int,input().split())\n",
    "while 1:\n",
    "    if a+b==c:\n",
    "        print(f'{a}+{b}={c}')\n",
    "        break\n",
    "    elif a-b==c:\n",
    "        print(f'{a}-{b}={c}')\n",
    "        break\n",
    "    elif a*b==c:\n",
    "        print(f'{a}*{b}={c}')\n",
    "        break\n",
    "    elif a/b==c:\n",
    "        print(f'{a}/{b}={c}')\n",
    "        break\n",
    "    elif a==b+c:\n",
    "        print(f'{a}={b}+{c}')\n",
    "        break\n",
    "    elif a==b-c:\n",
    "        print(f'{a}={b}-{c}')\n",
    "        break\n",
    "    elif a==b*c:\n",
    "        print(f'{a}={b}*{c}')\n",
    "        break\n",
    "    elif a==b/c:\n",
    "        print(f'{a}={b}/{c}')\n",
    "        break\n"
   ]
  },
  {
   "cell_type": "markdown",
   "id": "93079f57",
   "metadata": {},
   "source": [
    "# 10718\n",
    "We love kriii"
   ]
  },
  {
   "cell_type": "code",
   "execution_count": 26,
   "id": "20b870d0",
   "metadata": {},
   "outputs": [
    {
     "name": "stdout",
     "output_type": "stream",
     "text": [
      "강한친구 대한육군\n",
      "강한친구 대한육군\n"
     ]
    }
   ],
   "source": [
    "print(\"강한친구 대한육군\")\n",
    "print(\"강한친구 대한육군\")\n"
   ]
  },
  {
   "cell_type": "markdown",
   "id": "09f58b57",
   "metadata": {},
   "source": [
    "# 1264\n",
    "모음의 개수"
   ]
  },
  {
   "cell_type": "code",
   "execution_count": 38,
   "id": "7653b14d",
   "metadata": {
    "scrolled": true
   },
   "outputs": [
    {
     "name": "stdout",
     "output_type": "stream",
     "text": [
      "asdf\n",
      "1\n",
      "adeiu\n",
      "4\n",
      "#\n"
     ]
    }
   ],
   "source": [
    "ans = 0\n",
    "while 1:\n",
    "    a=input()\n",
    "    if a=='#':break\n",
    "    b=len(a)\n",
    "    for i in range(b):\n",
    "        \n",
    "        if a[i] in ['a','e','i','o','u','A','E','I','O','U']:\n",
    "            ans+=1\n",
    "    print(ans)\n",
    "    ans = 0"
   ]
  },
  {
   "cell_type": "code",
   "execution_count": null,
   "id": "9c9f3119",
   "metadata": {},
   "outputs": [],
   "source": []
  }
 ],
 "metadata": {
  "kernelspec": {
   "display_name": "Python 3 (ipykernel)",
   "language": "python",
   "name": "python3"
  },
  "language_info": {
   "codemirror_mode": {
    "name": "ipython",
    "version": 3
   },
   "file_extension": ".py",
   "mimetype": "text/x-python",
   "name": "python",
   "nbconvert_exporter": "python",
   "pygments_lexer": "ipython3",
   "version": "3.9.12"
  }
 },
 "nbformat": 4,
 "nbformat_minor": 5
}
