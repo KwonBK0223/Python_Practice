{
 "cells": [
  {
   "cell_type": "markdown",
   "id": "de079e9e",
   "metadata": {},
   "source": [
    "# 5522\n",
    "카드게임"
   ]
  },
  {
   "cell_type": "code",
   "execution_count": 2,
   "id": "9b8a3824",
   "metadata": {},
   "outputs": [
    {
     "name": "stdout",
     "output_type": "stream",
     "text": [
      "0\n",
      "100\n",
      "0\n",
      "10\n",
      "100\n",
      "210\n"
     ]
    }
   ],
   "source": [
    "ans=0\n",
    "for i in range(5):\n",
    "    a=int(input())\n",
    "    ans+=a\n",
    "print(ans)"
   ]
  },
  {
   "cell_type": "markdown",
   "id": "70499f0e",
   "metadata": {},
   "source": [
    "# 2752\n",
    "세수정렬"
   ]
  },
  {
   "cell_type": "code",
   "execution_count": 3,
   "id": "1f875720",
   "metadata": {},
   "outputs": [
    {
     "name": "stdout",
     "output_type": "stream",
     "text": [
      "3 1 2\n",
      "1 2 3 "
     ]
    }
   ],
   "source": [
    "a=list(map(int,input().split()))\n",
    "a.sort()\n",
    "for i in range(len(a)):\n",
    "    print(a[i],end=' ')"
   ]
  },
  {
   "cell_type": "markdown",
   "id": "f1c59bb8",
   "metadata": {},
   "source": [
    "# 1267\n",
    "휴대폰요금"
   ]
  },
  {
   "cell_type": "code",
   "execution_count": 24,
   "id": "7effba1c",
   "metadata": {
    "scrolled": true
   },
   "outputs": [
    {
     "name": "stdout",
     "output_type": "stream",
     "text": [
      "2\n",
      "60 65\n",
      "Y M 60\n"
     ]
    }
   ],
   "source": [
    "a = int(input())\n",
    "b=list(map(int,input().split()))\n",
    "y=[]\n",
    "m=[]\n",
    "for i in range(a):\n",
    "    k=((b[i]//30)+1)*10\n",
    "    j=((b[i]//60)+1)*15\n",
    "    y.append(k)\n",
    "    m.append(j)\n",
    "if sum(y)==sum(m):\n",
    "    print(\"Y M\",end=' ')\n",
    "    print(sum(y))\n",
    "elif sum(y)<sum(m):\n",
    "    print(\"Y\",end=' ')\n",
    "    print(sum(y))\n",
    "elif sum(y)>sum(m):\n",
    "    print(\"M\",end=' ')\n",
    "    print(sum(m))"
   ]
  },
  {
   "cell_type": "markdown",
   "id": "3cc491f7",
   "metadata": {},
   "source": [
    "# 1075\n",
    "나누기"
   ]
  },
  {
   "cell_type": "code",
   "execution_count": 38,
   "id": "0bebe07d",
   "metadata": {},
   "outputs": [
    {
     "name": "stdout",
     "output_type": "stream",
     "text": [
      "32442\n",
      "99\n",
      "72\n"
     ]
    }
   ],
   "source": [
    "n=int(input())\n",
    "f=int(input())\n",
    "a=(n//100)*100\n",
    "ans = 0\n",
    "for i in range(0,100):\n",
    "    if (a+i)%f==0:\n",
    "        ans=i\n",
    "        break\n",
    "if ans<10:\n",
    "    print(f'0{ans}')\n",
    "else:\n",
    "    print(ans)"
   ]
  },
  {
   "cell_type": "markdown",
   "id": "40552d94",
   "metadata": {},
   "source": [
    "# 1292\n",
    "쉽게푸는문제"
   ]
  },
  {
   "cell_type": "code",
   "execution_count": 48,
   "id": "09ea02ad",
   "metadata": {},
   "outputs": [
    {
     "name": "stdout",
     "output_type": "stream",
     "text": [
      "3 7\n",
      "15\n"
     ]
    }
   ],
   "source": [
    "a,b=map(int,input().split())\n",
    "k=[]\n",
    "i=1\n",
    "while 1:\n",
    "    if len(k)>=b:break\n",
    "    k +=[i]*i\n",
    "    i+=1\n",
    "\n",
    "ans=k[a-1:b]\n",
    "print(sum(ans))"
   ]
  },
  {
   "cell_type": "markdown",
   "id": "9b3b6ebf",
   "metadata": {},
   "source": [
    "# 1010\n",
    "다리 놓기 \n",
    "\n",
    "조합 계산하는 내장함수 math.comb(x,y)   : xCy\n",
    "\n",
    "순열 계산하는 내장함수 math.perm(x,y)   : xPy"
   ]
  },
  {
   "cell_type": "code",
   "execution_count": 49,
   "id": "8d82bdb7",
   "metadata": {
    "scrolled": true
   },
   "outputs": [
    {
     "name": "stdout",
     "output_type": "stream",
     "text": [
      "3\n",
      "2 2\n",
      "1\n",
      "1 5\n",
      "5\n",
      "13 29\n",
      "67863915\n"
     ]
    }
   ],
   "source": [
    "import math\n",
    "a = int(input())\n",
    "for i in range(a):\n",
    "    x,y=map(int,input().split())\n",
    "    ans=math.comb(y,x)               # 조합\n",
    "    print(ans)"
   ]
  },
  {
   "cell_type": "markdown",
   "id": "f2087350",
   "metadata": {},
   "source": [
    "# 1205\n",
    "등수구하기"
   ]
  },
  {
   "cell_type": "code",
   "execution_count": 81,
   "id": "5d26cb18",
   "metadata": {
    "scrolled": true
   },
   "outputs": [
    {
     "name": "stdout",
     "output_type": "stream",
     "text": [
      "0 0 50\n",
      "\n",
      "1\n"
     ]
    }
   ],
   "source": [
    "a,b,c=map(int,input().split())\n",
    "k=list(map(int,input().split()))\n",
    "k += [-1]*(c-len(k))\n",
    "k.append(b)\n",
    "k.sort()\n",
    "k.reverse()\n",
    "if k[c]==b:\n",
    "    print(-1)\n",
    "else:\n",
    "    print(k.index(b)+1)"
   ]
  },
  {
   "cell_type": "code",
   "execution_count": 82,
   "id": "7298d792",
   "metadata": {},
   "outputs": [
    {
     "name": "stdout",
     "output_type": "stream",
     "text": [
      "3 90 10\n",
      "100 90 80\n",
      "2\n"
     ]
    }
   ],
   "source": [
    "a,b,c=map(int,input().split())\n",
    "if a==0:\n",
    "    print(1)\n",
    "else:\n",
    "    k=list(map(int,input().split()))\n",
    "    if a==c and k[-1]>=b:\n",
    "        print(-1)\n",
    "    else:\n",
    "        ans = a+1\n",
    "        for i in range(a):\n",
    "            if k[i]<=b:\n",
    "                ans = i+1\n",
    "                break\n",
    "        print(ans)"
   ]
  },
  {
   "cell_type": "markdown",
   "id": "a28d8759",
   "metadata": {},
   "source": [
    "# 1735\n",
    "분수합"
   ]
  },
  {
   "cell_type": "code",
   "execution_count": 88,
   "id": "f5214283",
   "metadata": {},
   "outputs": [
    {
     "name": "stdout",
     "output_type": "stream",
     "text": [
      "2 7\n",
      "3 5\n",
      "31 35\n"
     ]
    }
   ],
   "source": [
    "import math\n",
    "a,b=map(int,input().split())\n",
    "c,d=map(int,input().split())\n",
    "x=a*d+b*c\n",
    "y=b*d\n",
    "i = math.gcd(x,y)\n",
    "x/=i\n",
    "y/=i\n",
    "print(int(x),int(y))"
   ]
  },
  {
   "cell_type": "markdown",
   "id": "bc643318",
   "metadata": {},
   "source": [
    "# 2751"
   ]
  },
  {
   "cell_type": "code",
   "execution_count": 1,
   "id": "abb63b29",
   "metadata": {},
   "outputs": [
    {
     "name": "stdout",
     "output_type": "stream",
     "text": [
      "5\n",
      "5\n",
      "4\n",
      "3\n",
      "2\n",
      "1\n",
      "1\n",
      "2\n",
      "3\n",
      "4\n",
      "5\n"
     ]
    }
   ],
   "source": [
    "a = int(input())\n",
    "b=[]\n",
    "for i in range(a):\n",
    "    k=int(input())\n",
    "    b.append(k)\n",
    "b.sort()\n",
    "for i in range(a):\n",
    "    print(b[i])"
   ]
  },
  {
   "cell_type": "markdown",
   "id": "9487c000",
   "metadata": {},
   "source": [
    "주피터 노트북에서는 sys.stdin.readline()이 안돌아감\n",
    "\n",
    "input을 sys.stdin.readline()으로 바꾸면 백준에서 용량 줄이기 가능"
   ]
  },
  {
   "cell_type": "code",
   "execution_count": null,
   "id": "e3f3c9e0",
   "metadata": {},
   "outputs": [],
   "source": [
    "import sys\n",
    "a = int(sys.stdin.readline())\n",
    "b=[]\n",
    "for i in range(a):\n",
    "    k=int(sys.stdin.readline())\n",
    "    b.append(k)\n",
    "b.sort()\n",
    "for i in range(a):\n",
    "    print(b[i])"
   ]
  },
  {
   "cell_type": "markdown",
   "id": "27e01567",
   "metadata": {},
   "source": [
    "# 1247\n",
    "부호"
   ]
  },
  {
   "cell_type": "code",
   "execution_count": 3,
   "id": "be844314",
   "metadata": {},
   "outputs": [
    {
     "name": "stdout",
     "output_type": "stream",
     "text": [
      "3\n",
      "0\n",
      "0\n",
      "0\n",
      "0\n",
      "10\n",
      "1\n",
      "2\n",
      "4\n",
      "8\n",
      "16\n",
      "32\n",
      "64\n",
      "128\n",
      "256\n",
      "-512\n",
      "-\n",
      "6\n",
      "9223372036854775807\n",
      "9223372036854775806\n",
      "9223372036854775805\n",
      "-9223372036854775807\n",
      "-9223372036854775806\n",
      "-9223372036854775804\n",
      "+\n"
     ]
    }
   ],
   "source": [
    "for x in range(3):\n",
    "    a=int(input())\n",
    "    b=[]\n",
    "    b_sum=0\n",
    "    for i in range(a):\n",
    "        k=int(input())\n",
    "        b.append(k)\n",
    "    b_sum=sum(b)\n",
    "    if b_sum==0:\n",
    "        print(\"0\")\n",
    "    elif b_sum>0:\n",
    "        print(\"+\")\n",
    "    elif b_sum<0:\n",
    "        print(\"-\")\n",
    "    "
   ]
  },
  {
   "cell_type": "code",
   "execution_count": null,
   "id": "1a4aeaea",
   "metadata": {},
   "outputs": [],
   "source": [
    "#백준 제출용\n",
    "import sys\n",
    "for x in range(3):\n",
    "    a=int(sys.stdin.readline())\n",
    "    b=[]\n",
    "    b_sum=0\n",
    "    for i in range(a):\n",
    "        k=int(sys.stdin.readline())\n",
    "        b.append(k)\n",
    "    b_sum=sum(b)\n",
    "    if b_sum==0:\n",
    "        print(\"0\")\n",
    "    elif b_sum>0:\n",
    "        print(\"+\")\n",
    "    elif b_sum<0:\n",
    "        print(\"-\")\n",
    "    "
   ]
  },
  {
   "cell_type": "markdown",
   "id": "cddf2c24",
   "metadata": {},
   "source": []
  },
  {
   "cell_type": "code",
   "execution_count": null,
   "id": "4073d36d",
   "metadata": {},
   "outputs": [],
   "source": []
  }
 ],
 "metadata": {
  "kernelspec": {
   "display_name": "Python 3 (ipykernel)",
   "language": "python",
   "name": "python3"
  },
  "language_info": {
   "codemirror_mode": {
    "name": "ipython",
    "version": 3
   },
   "file_extension": ".py",
   "mimetype": "text/x-python",
   "name": "python",
   "nbconvert_exporter": "python",
   "pygments_lexer": "ipython3",
   "version": "3.9.12"
  }
 },
 "nbformat": 4,
 "nbformat_minor": 5
}
