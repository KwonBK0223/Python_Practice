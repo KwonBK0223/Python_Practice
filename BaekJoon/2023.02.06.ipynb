{
 "cells": [
  {
   "cell_type": "markdown",
   "id": "bdb40c62",
   "metadata": {},
   "source": [
    "# 1259\n",
    "펠린드롬수"
   ]
  },
  {
   "cell_type": "code",
   "execution_count": 14,
   "id": "14e3ced4",
   "metadata": {
    "scrolled": true
   },
   "outputs": [
    {
     "name": "stdout",
     "output_type": "stream",
     "text": [
      "121\n",
      "yes\n",
      "1231\n",
      "no\n",
      "12421\n",
      "yes\n",
      "0\n"
     ]
    }
   ],
   "source": [
    "while 1:\n",
    "    a= input()\n",
    "    if a==\"0\":break\n",
    "    b= len(a)\n",
    "    c= int(b/2)\n",
    "    count = 0\n",
    "    for i in range(c):\n",
    "        if a[i]==a[b-i-1]:\n",
    "            count +=1\n",
    "    if count==c:\n",
    "        print(\"yes\")\n",
    "    else:\n",
    "        print(\"no\")"
   ]
  },
  {
   "cell_type": "markdown",
   "id": "d85ab103",
   "metadata": {},
   "source": [
    "# 1193\n",
    "분수찾기"
   ]
  },
  {
   "cell_type": "code",
   "execution_count": 57,
   "id": "167503b6",
   "metadata": {},
   "outputs": [
    {
     "name": "stdout",
     "output_type": "stream",
     "text": [
      "14\n",
      "2/4\n"
     ]
    }
   ],
   "source": [
    "a = int(input())\n",
    "sum1 = 0\n",
    "sum2 =0\n",
    "ans=[1,1]\n",
    "for i in range(10000000):\n",
    "    sum1 += i\n",
    "    if a<=sum1:\n",
    "        break\n",
    "b = i\n",
    "c = list(range(b))\n",
    "for i in range(b):\n",
    "    c[i] +=1\n",
    "for i in range(b-1):\n",
    "    sum2 += i+1\n",
    "d = a-sum2    # 입력값의 마지막 남은 숫자\n",
    "e = c[-1]\n",
    "if e%2==0:\n",
    "    ans = [1,e]\n",
    "    for i in range(d-1):\n",
    "        ans[0] +=1\n",
    "        ans[1] -=1\n",
    "else :\n",
    "    ans = [e,1]\n",
    "    for i in range(d-1):\n",
    "        ans[0] -=1\n",
    "        ans[1] +=1\n",
    "print(f'{ans[0]}/{ans[1]}')"
   ]
  },
  {
   "cell_type": "markdown",
   "id": "c6825e42",
   "metadata": {},
   "source": [
    "# 2869\n",
    "달팽이는 올라가고 싶다\n",
    "\n",
    "loop 문을 쓰면 시간 초과로 실패"
   ]
  },
  {
   "cell_type": "code",
   "execution_count": 74,
   "id": "c47ffc2a",
   "metadata": {},
   "outputs": [
    {
     "name": "stdout",
     "output_type": "stream",
     "text": [
      "100 99 1000000000\n",
      "999999901\n"
     ]
    }
   ],
   "source": [
    "import math\n",
    "a,b,v = map(int,input().split())\n",
    "i = (v-b)/(a-b)   # v=(a-b)*i +b\n",
    "print(math.ceil(i))"
   ]
  },
  {
   "cell_type": "markdown",
   "id": "719f6217",
   "metadata": {},
   "source": [
    "# 10757\n",
    "큰수 A+B"
   ]
  },
  {
   "cell_type": "code",
   "execution_count": 78,
   "id": "5683e716",
   "metadata": {},
   "outputs": [
    {
     "name": "stdout",
     "output_type": "stream",
     "text": [
      "9223372036854775807 9223372036854775808\n",
      "18446744073709551615\n"
     ]
    }
   ],
   "source": [
    "a,b = map(int,input().split())\n",
    "print(a+b)"
   ]
  },
  {
   "cell_type": "markdown",
   "id": "95b96980",
   "metadata": {},
   "source": [
    "# 2775\n",
    "부녀회장이 될테야"
   ]
  },
  {
   "cell_type": "code",
   "execution_count": 140,
   "id": "46b5c781",
   "metadata": {},
   "outputs": [
    {
     "name": "stdout",
     "output_type": "stream",
     "text": [
      "2\n",
      "1\n",
      "3\n",
      "6\n",
      "2\n",
      "3\n",
      "10\n"
     ]
    }
   ],
   "source": [
    "t=int(input())\n",
    "for n in range(t):\n",
    "    a=int(input())\n",
    "    b=int(input())\n",
    "    apart=list(range(b))\n",
    "    for i in range(b):\n",
    "        apart[i] +=1\n",
    "    for j in range(a):\n",
    "        sum = 0\n",
    "        for i in range(b):\n",
    "            sum += apart[i]\n",
    "            apart[i]=sum\n",
    "    print(apart[-1])"
   ]
  },
  {
   "cell_type": "markdown",
   "id": "f0ac4012",
   "metadata": {},
   "source": [
    "# 2839\n",
    "설탕 배달"
   ]
  },
  {
   "cell_type": "code",
   "execution_count": 161,
   "id": "a941d6aa",
   "metadata": {},
   "outputs": [
    {
     "name": "stdout",
     "output_type": "stream",
     "text": [
      "11\n",
      "3\n"
     ]
    }
   ],
   "source": [
    "a = int(input())\n",
    "ans = 0\n",
    "while a>=0:\n",
    "    if a%5==0:\n",
    "        ans += a//5\n",
    "        print(ans)\n",
    "        break\n",
    "    else:\n",
    "        ans +=1\n",
    "        a -=3\n",
    "else:\n",
    "    print(-1)"
   ]
  },
  {
   "cell_type": "markdown",
   "id": "e17f9883",
   "metadata": {},
   "source": [
    "# 2292\n",
    "벌집"
   ]
  },
  {
   "cell_type": "code",
   "execution_count": 162,
   "id": "a72d7556",
   "metadata": {},
   "outputs": [
    {
     "name": "stdout",
     "output_type": "stream",
     "text": [
      "13\n",
      "3\n"
     ]
    }
   ],
   "source": [
    "a = int(input())\n",
    "b = 1   #벌집개수\n",
    "ans = 1 \n",
    "while a>b:\n",
    "    b+=6*ans  #벌집은 6의배수\n",
    "    ans+=1\n",
    "print(ans)"
   ]
  }
 ],
 "metadata": {
  "kernelspec": {
   "display_name": "Python 3 (ipykernel)",
   "language": "python",
   "name": "python3"
  },
  "language_info": {
   "codemirror_mode": {
    "name": "ipython",
    "version": 3
   },
   "file_extension": ".py",
   "mimetype": "text/x-python",
   "name": "python",
   "nbconvert_exporter": "python",
   "pygments_lexer": "ipython3",
   "version": "3.9.12"
  }
 },
 "nbformat": 4,
 "nbformat_minor": 5
}
