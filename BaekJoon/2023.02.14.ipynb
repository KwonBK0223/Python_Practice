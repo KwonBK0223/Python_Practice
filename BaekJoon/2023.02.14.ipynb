{
 "cells": [
  {
   "cell_type": "markdown",
   "id": "87a7962c",
   "metadata": {},
   "source": [
    "# 4101\n",
    "크냐?"
   ]
  },
  {
   "cell_type": "code",
   "execution_count": 2,
   "id": "6338d231",
   "metadata": {},
   "outputs": [
    {
     "name": "stdout",
     "output_type": "stream",
     "text": [
      "1 19\n",
      "No\n",
      "4 4\n",
      "No\n",
      "23 14\n",
      "Yes\n",
      "0 0\n"
     ]
    }
   ],
   "source": [
    "while 1:\n",
    "    a,b=map(int,input().split())\n",
    "    if a==b and a==0:\n",
    "        break\n",
    "    elif a>b:\n",
    "        print(\"Yes\")\n",
    "    else:\n",
    "        print(\"No\")"
   ]
  },
  {
   "cell_type": "markdown",
   "id": "20a2576a",
   "metadata": {},
   "source": [
    "# 10808\n",
    "알파벳 개수"
   ]
  },
  {
   "cell_type": "code",
   "execution_count": 3,
   "id": "6966147d",
   "metadata": {},
   "outputs": [
    {
     "name": "stdout",
     "output_type": "stream",
     "text": [
      "baekjoon\n",
      "1 1 0 0 1 0 0 0 0 1 1 0 0 1 2 0 0 0 0 0 0 0 0 0 0 0 "
     ]
    }
   ],
   "source": [
    "a=input()\n",
    "b=[0]*26\n",
    "alp=['a','b','c','d','e','f','g','h','i','j','k','l','m','n','o','p','q','r','s','t','u','v','w','x','y','z']\n",
    "for i in range(len(a)):\n",
    "    for j in range(len(alp)):\n",
    "        if a[i]==alp[j]:\n",
    "            b[j]+=1\n",
    "for i in range(len(alp)):\n",
    "    print(b[i],end=' ')"
   ]
  },
  {
   "cell_type": "markdown",
   "id": "016507ff",
   "metadata": {},
   "source": [
    "# 2490\n",
    "윷놀이"
   ]
  },
  {
   "cell_type": "code",
   "execution_count": 5,
   "id": "600ca56a",
   "metadata": {},
   "outputs": [
    {
     "name": "stdout",
     "output_type": "stream",
     "text": [
      "0 1 0 1\n",
      "B\n",
      "1 1 1 0\n",
      "A\n",
      "0 0 1 1\n",
      "B\n"
     ]
    }
   ],
   "source": [
    "for i in range(3):\n",
    "    a=list(map(int,input().split()))\n",
    "    count=0\n",
    "    for j in range(4):\n",
    "        if a[j]==1:\n",
    "            count+=1\n",
    "    if count ==1:\n",
    "        print(\"C\")\n",
    "    elif count==2:\n",
    "        print(\"B\")\n",
    "    elif count==3:\n",
    "        print(\"A\")\n",
    "    elif count ==4:\n",
    "        print(\"E\")\n",
    "    else:\n",
    "        print(\"D\")\n",
    "        "
   ]
  },
  {
   "cell_type": "markdown",
   "id": "0e265235",
   "metadata": {},
   "source": [
    "# 1453\n",
    "피시방 알바"
   ]
  },
  {
   "cell_type": "code",
   "execution_count": 10,
   "id": "6462a4a5",
   "metadata": {},
   "outputs": [
    {
     "name": "stdout",
     "output_type": "stream",
     "text": [
      "3\n",
      "1 1 1\n",
      "2\n"
     ]
    }
   ],
   "source": [
    "com = [0]*101\n",
    "a = int(input())\n",
    "b = list(map(int,input().split()))\n",
    "count = 0\n",
    "for i in range(a):\n",
    "    com[b[i]]+=1\n",
    "    if com[b[i]]>1:\n",
    "        count+=1\n",
    "print(count)"
   ]
  },
  {
   "cell_type": "markdown",
   "id": "e3598b87",
   "metadata": {},
   "source": [
    "# 14730\n",
    "謎紛芥索紀 (Small)"
   ]
  },
  {
   "cell_type": "code",
   "execution_count": 11,
   "id": "82b3e30d",
   "metadata": {},
   "outputs": [
    {
     "name": "stdout",
     "output_type": "stream",
     "text": [
      "3\n",
      "3 3\n",
      "2 2\n",
      "1 1\n",
      "14\n"
     ]
    }
   ],
   "source": [
    "a = int(input())\n",
    "ans=0\n",
    "for i in range(a):\n",
    "    x,y=map(int,input().split())\n",
    "    ans+= x*y\n",
    "print(ans)"
   ]
  },
  {
   "cell_type": "markdown",
   "id": "e98b124c",
   "metadata": {},
   "source": [
    "# 2163\n",
    "초콜릿 자르기"
   ]
  },
  {
   "cell_type": "code",
   "execution_count": 50,
   "id": "6e5f3af2",
   "metadata": {},
   "outputs": [
    {
     "name": "stdout",
     "output_type": "stream",
     "text": [
      "1 1\n",
      "0\n"
     ]
    }
   ],
   "source": [
    "a , b =map(int,input().split())\n",
    "print(a-1+(b-1)*a)"
   ]
  },
  {
   "cell_type": "markdown",
   "id": "d0225335",
   "metadata": {},
   "source": [
    "# 10156\n",
    "과자"
   ]
  },
  {
   "cell_type": "code",
   "execution_count": 57,
   "id": "7c979745",
   "metadata": {},
   "outputs": [
    {
     "name": "stdout",
     "output_type": "stream",
     "text": [
      "20 10 320\n",
      "0\n"
     ]
    }
   ],
   "source": [
    "a,b,c=map(int,input().split())\n",
    "a *=b\n",
    "c -=a\n",
    "if c<=0:\n",
    "    print(abs(c))\n",
    "else:\n",
    "    print(0)"
   ]
  },
  {
   "cell_type": "markdown",
   "id": "84d48c43",
   "metadata": {},
   "source": [
    "# 2530\n",
    "인공지능 시계"
   ]
  },
  {
   "cell_type": "code",
   "execution_count": 63,
   "id": "340f32b6",
   "metadata": {},
   "outputs": [
    {
     "name": "stdout",
     "output_type": "stream",
     "text": [
      "23 48 59\n",
      "2515\n",
      "0 30 54\n"
     ]
    }
   ],
   "source": [
    "h,m,s = map(int,input().split())\n",
    "sec = int(input())\n",
    "\n",
    "s1 = (s+sec)%60\n",
    "m1 = (s+sec)//60\n",
    "m2 = (m+m1)%60 \n",
    "h1 = (m+m1)//60\n",
    "h2 = (h+h1)%24\n",
    "\n",
    "print(h2,m2,s1)"
   ]
  }
 ],
 "metadata": {
  "kernelspec": {
   "display_name": "Python 3 (ipykernel)",
   "language": "python",
   "name": "python3"
  },
  "language_info": {
   "codemirror_mode": {
    "name": "ipython",
    "version": 3
   },
   "file_extension": ".py",
   "mimetype": "text/x-python",
   "name": "python",
   "nbconvert_exporter": "python",
   "pygments_lexer": "ipython3",
   "version": "3.9.12"
  }
 },
 "nbformat": 4,
 "nbformat_minor": 5
}
