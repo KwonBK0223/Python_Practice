{
 "cells": [
  {
   "cell_type": "markdown",
   "id": "9b8a8a50",
   "metadata": {},
   "source": [
    "# 13277\n",
    "큰 수 곱셈"
   ]
  },
  {
   "cell_type": "code",
   "execution_count": 4,
   "id": "39ff0dc1",
   "metadata": {
    "scrolled": true
   },
   "outputs": [
    {
     "name": "stdout",
     "output_type": "stream",
     "text": [
      "1 2\n",
      "2\n"
     ]
    }
   ],
   "source": [
    "a,b=map(int,input().split())\n",
    "print(a*b)"
   ]
  },
  {
   "cell_type": "markdown",
   "id": "06fa62f8",
   "metadata": {},
   "source": [
    "# 5717\n",
    "상근이의 친구들"
   ]
  },
  {
   "cell_type": "code",
   "execution_count": 5,
   "id": "27f2cdc9",
   "metadata": {},
   "outputs": [
    {
     "name": "stdout",
     "output_type": "stream",
     "text": [
      "2 2\n",
      "4\n",
      "2 3\n",
      "5\n",
      "5 5\n",
      "10\n",
      "1 1\n",
      "2\n",
      "0 0\n"
     ]
    }
   ],
   "source": [
    "while 1:\n",
    "    a,b=map(int,input().split())\n",
    "    if a==b==0:break\n",
    "    print(a+b)"
   ]
  },
  {
   "cell_type": "markdown",
   "id": "7f81fd5a",
   "metadata": {},
   "source": [
    "# 4740\n",
    "거울,오!거울"
   ]
  },
  {
   "cell_type": "code",
   "execution_count": 34,
   "id": "b56e8106",
   "metadata": {},
   "outputs": [
    {
     "name": "stdout",
     "output_type": "stream",
     "text": [
      "AMBULANCE\n",
      "ECNALUBMA\n",
      "Evian\n",
      "naivE\n",
      "madam, i'm adam\n",
      "mada m'i ,madam\n",
      "****\n",
      "****\n",
      "***\n"
     ]
    }
   ],
   "source": [
    "while 1:\n",
    "    a=input()\n",
    "    if a=='***':break\n",
    "    b=[]\n",
    "    for i in range(len(a)-1,-1,-1):\n",
    "        b.append(a[i])\n",
    "    for i in range(len(b)-1):\n",
    "        print(b[i],end='')\n",
    "    print(b[-1])"
   ]
  },
  {
   "cell_type": "markdown",
   "id": "d1993438",
   "metadata": {},
   "source": [
    "# 2702\n",
    "초6 수학"
   ]
  },
  {
   "cell_type": "code",
   "execution_count": 41,
   "id": "8b2595ee",
   "metadata": {
    "scrolled": true
   },
   "outputs": [
    {
     "name": "stdout",
     "output_type": "stream",
     "text": [
      "3\n",
      "5 10\n",
      "10 5\n",
      "7 23\n",
      "161 1\n",
      "42 56\n",
      "168 14\n"
     ]
    }
   ],
   "source": [
    "import math\n",
    "for i in range(int(input())):\n",
    "    a,b=map(int,input().split())\n",
    "    print(math.lcm(a,b),end=' ')\n",
    "    print(math.gcd(a,b))"
   ]
  },
  {
   "cell_type": "markdown",
   "id": "55aa7f0f",
   "metadata": {},
   "source": [
    "# 23278\n",
    "영화 평가"
   ]
  },
  {
   "cell_type": "code",
   "execution_count": 51,
   "id": "8ccf4dd4",
   "metadata": {},
   "outputs": [
    {
     "name": "stdout",
     "output_type": "stream",
     "text": [
      "10 2 2\n",
      "1 1 0 0 1 1 0 1 0 2\n",
      "0.6666666666666666\n"
     ]
    }
   ],
   "source": [
    "a,b,c=map(int,input().split())\n",
    "score=list(map(int,input().split()))\n",
    "score.sort()\n",
    "for i in range(b):\n",
    "    del score[0]\n",
    "for i in range(c):\n",
    "    del score[-1]\n",
    "print(sum(score)/(a-b-c))"
   ]
  },
  {
   "cell_type": "markdown",
   "id": "ff3e332d",
   "metadata": {},
   "source": [
    "# 13241\n",
    "최소공배수"
   ]
  },
  {
   "cell_type": "code",
   "execution_count": 55,
   "id": "9b8f9452",
   "metadata": {},
   "outputs": [
    {
     "name": "stdout",
     "output_type": "stream",
     "text": [
      "121 199\n",
      "24079\n"
     ]
    }
   ],
   "source": [
    "import math\n",
    "a,b=map(int,input().split())\n",
    "print(math.lcm(a,b))"
   ]
  },
  {
   "cell_type": "markdown",
   "id": "b2d2ce8c",
   "metadata": {},
   "source": [
    "# 25344\n",
    "행성 정렬"
   ]
  },
  {
   "cell_type": "code",
   "execution_count": 59,
   "id": "071a3dce",
   "metadata": {},
   "outputs": [
    {
     "name": "stdout",
     "output_type": "stream",
     "text": [
      "5\n",
      "1 2 3\n",
      "6\n"
     ]
    }
   ],
   "source": [
    "import math\n",
    "a=int(input())\n",
    "b=list(map(int,input().split()))\n",
    "ans=1\n",
    "for i in range(a-2):\n",
    "    ans = math.lcm(ans,b[i])\n",
    "print(ans)"
   ]
  }
 ],
 "metadata": {
  "kernelspec": {
   "display_name": "Python 3 (ipykernel)",
   "language": "python",
   "name": "python3"
  },
  "language_info": {
   "codemirror_mode": {
    "name": "ipython",
    "version": 3
   },
   "file_extension": ".py",
   "mimetype": "text/x-python",
   "name": "python",
   "nbconvert_exporter": "python",
   "pygments_lexer": "ipython3",
   "version": "3.9.12"
  }
 },
 "nbformat": 4,
 "nbformat_minor": 5
}
