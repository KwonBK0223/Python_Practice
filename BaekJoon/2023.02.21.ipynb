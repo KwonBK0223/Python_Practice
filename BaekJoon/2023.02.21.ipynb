{
 "cells": [
  {
   "cell_type": "markdown",
   "id": "6713001d",
   "metadata": {},
   "source": [
    "# 14645\n",
    "와이버스"
   ]
  },
  {
   "cell_type": "code",
   "execution_count": 1,
   "id": "e0e8b590",
   "metadata": {
    "scrolled": true
   },
   "outputs": [
    {
     "name": "stdout",
     "output_type": "stream",
     "text": [
      "3 2\n",
      "10 3\n",
      "21 8\n",
      "0 15\n",
      "비와이\n"
     ]
    }
   ],
   "source": [
    "a,b=map(int,input().split())\n",
    "for i in range(a):\n",
    "    x,y=map(int,input().split())\n",
    "print(\"비와이\")"
   ]
  },
  {
   "cell_type": "markdown",
   "id": "f4a24c2d",
   "metadata": {},
   "source": [
    "# 5524\n",
    "입실관리"
   ]
  },
  {
   "cell_type": "code",
   "execution_count": 6,
   "id": "58e9be59",
   "metadata": {},
   "outputs": [
    {
     "name": "stdout",
     "output_type": "stream",
     "text": [
      "4\n",
      "SUZUKI\n",
      "suzuki\n",
      "tanaka\n",
      "tanaka\n",
      "tAkAhAshi\n",
      "takahashi\n",
      "SuZuKi\n",
      "suzuki\n"
     ]
    }
   ],
   "source": [
    "for i in range(int(input())):\n",
    "    x=input()\n",
    "    print(x.lower())    "
   ]
  },
  {
   "cell_type": "markdown",
   "id": "d8d95a92",
   "metadata": {},
   "source": [
    "# 2444\n",
    "별찍기 -7"
   ]
  },
  {
   "cell_type": "code",
   "execution_count": 13,
   "id": "fc999e2e",
   "metadata": {},
   "outputs": [
    {
     "name": "stdout",
     "output_type": "stream",
     "text": [
      "5\n",
      "    *\n",
      "   ***\n",
      "  *****\n",
      " *******\n",
      "*********\n",
      " *******\n",
      "  *****\n",
      "   ***\n",
      "    *\n"
     ]
    }
   ],
   "source": [
    "a=int(input())\n",
    "for i in range(1,a):\n",
    "    print(' '*(a-i)+'*'*(2*i-1))\n",
    "for i in range(a,0,-1):\n",
    "    print(' '*(a-i)+'*'*(2*i-1))"
   ]
  },
  {
   "cell_type": "markdown",
   "id": "2f333ca5",
   "metadata": {},
   "source": [
    "# 2028\n",
    "자기복제수"
   ]
  },
  {
   "cell_type": "code",
   "execution_count": 19,
   "id": "bfd08c21",
   "metadata": {},
   "outputs": [
    {
     "name": "stdout",
     "output_type": "stream",
     "text": [
      "4\n",
      "1\n",
      "YES\n",
      "6\n",
      "YES\n",
      "76\n",
      "YES\n",
      "89\n",
      "NO\n"
     ]
    }
   ],
   "source": [
    "a=int(input())\n",
    "for i in range(a):\n",
    "    x=int(input())\n",
    "    y=len(str(x))\n",
    "    k=x*x\n",
    "    k%=10**y\n",
    "    if k==x:print(\"YES\")\n",
    "    else:print(\"NO\")"
   ]
  },
  {
   "cell_type": "markdown",
   "id": "0cde81bd",
   "metadata": {},
   "source": [
    "# 4150\n",
    "피보나치수"
   ]
  },
  {
   "cell_type": "code",
   "execution_count": 21,
   "id": "fdd429ff",
   "metadata": {},
   "outputs": [
    {
     "name": "stdout",
     "output_type": "stream",
     "text": [
      "100\n",
      "354224848179261915075\n"
     ]
    }
   ],
   "source": [
    "a = int(input())\n",
    "x = 0\n",
    "y = 1\n",
    "z = 0   \n",
    "while 1:\n",
    "    if a == 1:\n",
    "        print(1)\n",
    "        break\n",
    "    for i in range(a-1):\n",
    "        z = y + x\n",
    "        x = y\n",
    "        y = z\n",
    "    print(z)\n",
    "    break"
   ]
  },
  {
   "cell_type": "markdown",
   "id": "5a89b9c3",
   "metadata": {},
   "source": [
    "# 10815\n",
    "숫자카드"
   ]
  },
  {
   "cell_type": "code",
   "execution_count": 27,
   "id": "527efec3",
   "metadata": {},
   "outputs": [
    {
     "name": "stdout",
     "output_type": "stream",
     "text": [
      "5\n",
      "6 3 2 10 -10\n",
      "8\n",
      "10 9 -5 2 3 4 5 -10\n",
      "1 0 0 1 1 0 0 1 "
     ]
    }
   ],
   "source": [
    "a=int(input())\n",
    "card=set(map(int,input().split()))\n",
    "b=int(input())\n",
    "check=list(map(int,input().split()))\n",
    "ans=[0]*b\n",
    "for i in range(b):\n",
    "    if check[i] in card:\n",
    "        ans[i]=1\n",
    "for i in range(b):\n",
    "    print(ans[i],end=' ')"
   ]
  },
  {
   "cell_type": "markdown",
   "id": "fbea7f19",
   "metadata": {},
   "source": [
    "# 1269\n",
    "대칭 차집합"
   ]
  },
  {
   "cell_type": "code",
   "execution_count": 32,
   "id": "24bb13c8",
   "metadata": {},
   "outputs": [
    {
     "name": "stdout",
     "output_type": "stream",
     "text": [
      "3 5\n",
      "1 2 4\n",
      "2 3 4 5 6\n",
      "4\n"
     ]
    }
   ],
   "source": [
    "a,b=map(int,input().split())\n",
    "x=set(map(int,input().split()))\n",
    "y=set(map(int,input().split()))\n",
    "ans1=x-y\n",
    "ans2=y-x\n",
    "k=ans1&ans2\n",
    "ans=len(ans1)+len(ans2)-len(k)\n",
    "print(ans)"
   ]
  }
 ],
 "metadata": {
  "kernelspec": {
   "display_name": "Python 3 (ipykernel)",
   "language": "python",
   "name": "python3"
  },
  "language_info": {
   "codemirror_mode": {
    "name": "ipython",
    "version": 3
   },
   "file_extension": ".py",
   "mimetype": "text/x-python",
   "name": "python",
   "nbconvert_exporter": "python",
   "pygments_lexer": "ipython3",
   "version": "3.9.12"
  }
 },
 "nbformat": 4,
 "nbformat_minor": 5
}
