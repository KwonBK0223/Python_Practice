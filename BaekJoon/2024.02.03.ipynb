{
 "cells": [
  {
   "cell_type": "markdown",
   "metadata": {},
   "source": [
    "# 2164\n",
    "카드2"
   ]
  },
  {
   "cell_type": "code",
   "execution_count": 5,
   "metadata": {},
   "outputs": [
    {
     "name": "stdout",
     "output_type": "stream",
     "text": [
      "2\n"
     ]
    }
   ],
   "source": [
    "from collections import deque\n",
    "\n",
    "deque = deque([i for i in range(1, int(input()) + 1)])\n",
    "\n",
    "while(len(deque)>1):\n",
    "    deque.popleft()\n",
    "    num = deque.popleft()\n",
    "    deque.append(num)\n",
    "\n",
    "print(deque[0])"
   ]
  },
  {
   "cell_type": "markdown",
   "metadata": {},
   "source": [
    "# 9012\n",
    "괄호"
   ]
  },
  {
   "cell_type": "code",
   "execution_count": 7,
   "metadata": {},
   "outputs": [
    {
     "name": "stdout",
     "output_type": "stream",
     "text": [
      "NO\n",
      "NO\n",
      "NO\n"
     ]
    }
   ],
   "source": [
    "for i in range(int(input())):\n",
    "    stack = []\n",
    "    for j in input():\n",
    "        if j == \"(\":\n",
    "            stack.append(j)\n",
    "        elif j == \")\":\n",
    "            if stack:\n",
    "                stack.pop()\n",
    "            else:\n",
    "                print(\"NO\")\n",
    "                break\n",
    "    else:\n",
    "        if not stack:\n",
    "            print(\"YES\")\n",
    "        else:\n",
    "            print(\"NO\")"
   ]
  },
  {
   "cell_type": "markdown",
   "metadata": {},
   "source": [
    "# 10816\n",
    "숫자 카드 2"
   ]
  },
  {
   "cell_type": "code",
   "execution_count": 13,
   "metadata": {},
   "outputs": [],
   "source": [
    "_lst1 = [0] * int(input())\n",
    "_lst1 = list(map(int,input().split()))\n",
    "\n",
    "_lst2 = [0] * int(input())\n",
    "_lst2 = list(map(int,input().split()))"
   ]
  },
  {
   "cell_type": "code",
   "execution_count": 15,
   "metadata": {},
   "outputs": [
    {
     "name": "stdout",
     "output_type": "stream",
     "text": [
      "3 0 0 1 2 0 0 2 "
     ]
    }
   ],
   "source": [
    "_dict = {}\n",
    "for i in _lst1:\n",
    "    if i in _dict:\n",
    "        _dict[i] += 1\n",
    "    else:\n",
    "        _dict[i] = 1\n",
    "\n",
    "for i in _lst2:\n",
    "    result = _dict.get(i)\n",
    "    if result == None:\n",
    "        print(0, end=\" \")\n",
    "    else:\n",
    "        print(result, end= \" \")"
   ]
  },
  {
   "cell_type": "markdown",
   "metadata": {},
   "source": [
    "# 10828\n",
    "스택"
   ]
  },
  {
   "cell_type": "code",
   "execution_count": 17,
   "metadata": {},
   "outputs": [
    {
     "name": "stdout",
     "output_type": "stream",
     "text": [
      "-1\n",
      "123\n",
      "-1\n"
     ]
    }
   ],
   "source": [
    "stack = []\n",
    "for i in range(int(input())):\n",
    "    _input = input().split()\n",
    "\n",
    "    if _input[0] == \"push\":\n",
    "        stack.append(_input[1])\n",
    "    \n",
    "    elif _input[0] == \"pop\":\n",
    "        if len(stack) == 0:\n",
    "            print(-1)\n",
    "        else:\n",
    "            print(stack.pop())\n",
    "    \n",
    "    elif _input[0] == \"size\":\n",
    "        print(len(stack))\n",
    "\n",
    "    elif _input[0] == \"empty\":\n",
    "        if len(stack) == 0:\n",
    "            print(1)\n",
    "        else:\n",
    "            print(0)\n",
    "\n",
    "    elif _input[0] == \"top\":\n",
    "        if len(stack) == 0:\n",
    "            print(-1)\n",
    "        else:\n",
    "            print(stack[-1])"
   ]
  },
  {
   "cell_type": "markdown",
   "metadata": {},
   "source": [
    "# 10845\n",
    "큐"
   ]
  },
  {
   "cell_type": "code",
   "execution_count": 18,
   "metadata": {},
   "outputs": [
    {
     "name": "stdout",
     "output_type": "stream",
     "text": [
      "1\n",
      "2\n",
      "2\n",
      "0\n",
      "1\n",
      "2\n",
      "-1\n",
      "0\n",
      "1\n",
      "-1\n",
      "1\n",
      "-1\n"
     ]
    }
   ],
   "source": [
    "queue = []\n",
    "for i in range(int(input())):\n",
    "    _input = input().split()\n",
    "\n",
    "    if _input[0] == \"push\":\n",
    "        queue.insert(0, _input[1])\n",
    "    \n",
    "    elif _input[0] == \"pop\":\n",
    "        if len(queue) == 0:\n",
    "            print(-1)\n",
    "        else:\n",
    "            print(queue.pop())\n",
    "\n",
    "    elif _input[0] == \"size\":\n",
    "        print(len(queue))\n",
    "    \n",
    "    elif _input[0] == \"empty\":\n",
    "        if len(queue) == 0:\n",
    "            print(1)\n",
    "        else:\n",
    "            print(0)\n",
    "\n",
    "    elif _input[0] == \"front\":\n",
    "        if len(queue) == 0:\n",
    "            print(-1)\n",
    "        else:\n",
    "            print(queue[len(queue) - 1])\n",
    "    \n",
    "    elif _input[0] == \"back\":\n",
    "        if len(queue) == 0:\n",
    "            print(-1)\n",
    "        else:\n",
    "            print(queue[0])"
   ]
  },
  {
   "cell_type": "markdown",
   "metadata": {},
   "source": [
    "# 10866\n",
    "덱"
   ]
  },
  {
   "cell_type": "code",
   "execution_count": 20,
   "metadata": {},
   "outputs": [
    {
     "name": "stdout",
     "output_type": "stream",
     "text": [
      "2\n",
      "1\n",
      "2\n",
      "0\n",
      "2\n",
      "1\n",
      "-1\n",
      "0\n",
      "1\n",
      "-1\n",
      "0\n",
      "3\n"
     ]
    }
   ],
   "source": [
    "from collections import deque\n",
    "\n",
    "d = deque()\n",
    "n = int(input())\n",
    "\n",
    "for i in range(n):\n",
    "    _input = input().split()\n",
    "\n",
    "    if _input[0] == \"push_front\":\n",
    "        d.appendleft(_input[1])\n",
    "    elif _input[0] == \"push_back\":\n",
    "        d.append(_input[1])\n",
    "    elif _input[0] == \"pop_front\":\n",
    "        if d:\n",
    "            print(d[0])    \n",
    "            d.popleft()\n",
    "        else:\n",
    "            print(\"-1\")\n",
    "    elif _input[0] == \"pop_back\":\n",
    "        if d:\n",
    "            print(d[len(d) - 1])    \n",
    "            d.pop()\n",
    "        else:\n",
    "            print(\"-1\")\n",
    "    elif _input[0] == \"size\":\n",
    "        print(len(d))\n",
    "    elif _input[0] == \"empty\":\n",
    "        if d:\n",
    "            print(\"0\")\n",
    "        else:\n",
    "            print(\"1\")\n",
    "    elif _input[0] == \"front\":\n",
    "        if d:\n",
    "            print(d[0])\n",
    "        else:\n",
    "            print(\"-1\")\n",
    "    elif _input[0] == \"back\":\n",
    "        if d:\n",
    "            print(d[len(d) - 1])\n",
    "        else:\n",
    "            print(\"-1\")"
   ]
  },
  {
   "cell_type": "markdown",
   "metadata": {},
   "source": [
    "# 11866\n",
    "요세푸스 문제 0"
   ]
  },
  {
   "cell_type": "code",
   "execution_count": 22,
   "metadata": {},
   "outputs": [
    {
     "name": "stdout",
     "output_type": "stream",
     "text": [
      "<3, 6, 2, 7, 5, 1, 4>\n"
     ]
    }
   ],
   "source": [
    "from collections import deque\n",
    "\n",
    "N, K = map(int,input().split())\n",
    "\n",
    "_deque = deque([i for i in range(1, N+1)])\n",
    "\n",
    "ans = []\n",
    "while len(_deque) != 0:\n",
    "    for i in range(K - 1):\n",
    "        _deque.append(_deque.popleft())\n",
    "    ans.append(str(_deque.popleft()))\n",
    "\n",
    "print('<'+', '.join(ans)+'>')"
   ]
  },
  {
   "cell_type": "code",
   "execution_count": null,
   "metadata": {},
   "outputs": [],
   "source": []
  },
  {
   "cell_type": "code",
   "execution_count": null,
   "metadata": {},
   "outputs": [],
   "source": []
  }
 ],
 "metadata": {
  "kernelspec": {
   "display_name": "base",
   "language": "python",
   "name": "python3"
  },
  "language_info": {
   "codemirror_mode": {
    "name": "ipython",
    "version": 3
   },
   "file_extension": ".py",
   "mimetype": "text/x-python",
   "name": "python",
   "nbconvert_exporter": "python",
   "pygments_lexer": "ipython3",
   "version": "3.11.5"
  }
 },
 "nbformat": 4,
 "nbformat_minor": 2
}
