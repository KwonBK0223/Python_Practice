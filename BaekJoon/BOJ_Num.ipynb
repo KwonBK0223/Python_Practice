{
 "cells": [
  {
   "cell_type": "markdown",
   "id": "4e9a258a",
   "metadata": {},
   "source": [
    "# 2023.02.01"
   ]
  },
  {
   "cell_type": "markdown",
   "id": "ba1e3791",
   "metadata": {},
   "source": [
    "2557, 1000, 1001, 10998, 1008, 10869, 10926, 18108, 3003, 10430, 2588, 10171"
   ]
  },
  {
   "cell_type": "code",
   "execution_count": 1,
   "id": "179683ab",
   "metadata": {},
   "outputs": [
    {
     "name": "stdout",
     "output_type": "stream",
     "text": [
      "Todya : 12\n",
      "Total : 12\n"
     ]
    }
   ],
   "source": [
    "today=[2557, 1000, 1001, 10998, 1008, 10869, 10926, 18108, 3003, 10430, 2588, 10171]\n",
    "total = today\n",
    "print(\"Todya :\",len(today))\n",
    "print(\"Total :\",len(total))"
   ]
  },
  {
   "cell_type": "markdown",
   "id": "1776c4f0",
   "metadata": {},
   "source": [
    "# 2023.02.02"
   ]
  },
  {
   "cell_type": "markdown",
   "id": "90e5a071",
   "metadata": {},
   "source": [
    "10172, 25083, 1330, 9498, 2753, 14681, 2284, 2525, 2480, 2739, 10950, 8393, 25304, 15552, 11021, 11022, 2438, 2439, 10952, 10951, 1110, 10807, 10871, 10818, 2562, 5597, 3052, 1546, 10699, 7287, 11382, 2420, 2741, 10872, 15964, 2475"
   ]
  },
  {
   "cell_type": "code",
   "execution_count": 2,
   "id": "ce4d1ccb",
   "metadata": {},
   "outputs": [
    {
     "name": "stdout",
     "output_type": "stream",
     "text": [
      "Todya : 36\n",
      "Total : 48\n"
     ]
    }
   ],
   "source": [
    "today=[10172, 25083, 1330, 9498, 2753, 14681, 2284, 2525, 2480, 2739, 10950, 8393, 25304, 15552, 11021, 11022, 2438, 2439, 10952, 10951, 1110, 10807, 10871, 10818, 2562, 5597, 3052, 1546, 10699, 7287, 11382, 2420, 2741, 10872, 15964, 2475]\n",
    "total += today\n",
    "print(\"Todya :\",len(today))\n",
    "print(\"Total :\",len(total))"
   ]
  },
  {
   "cell_type": "markdown",
   "id": "bc020359",
   "metadata": {},
   "source": [
    "# 2023.02.03"
   ]
  },
  {
   "cell_type": "markdown",
   "id": "a0099097",
   "metadata": {},
   "source": [
    "11654, 2743, 2744, 2754, 10809, 11718, 9086, 2738, 2675, 2920, 11720, 1152, 1157, 2577, 2742, 2908, 8958,4344,15596,4673,1065,5622"
   ]
  },
  {
   "cell_type": "code",
   "execution_count": 3,
   "id": "048db8ee",
   "metadata": {},
   "outputs": [
    {
     "name": "stdout",
     "output_type": "stream",
     "text": [
      "Todya : 22\n",
      "Total : 70\n"
     ]
    }
   ],
   "source": [
    "today=[11654, 2743, 2744, 2754, 10809, 11718, 9086, 2738, 2675, 2920, 11720, 1152, 1157, 2577, 2742, 2908, 8958,4344,15596,4673,1065,5622]\n",
    "total += today\n",
    "print(\"Todya :\",len(today))\n",
    "print(\"Total :\",len(total))"
   ]
  }
 ],
 "metadata": {
  "kernelspec": {
   "display_name": "Python 3 (ipykernel)",
   "language": "python",
   "name": "python3"
  },
  "language_info": {
   "codemirror_mode": {
    "name": "ipython",
    "version": 3
   },
   "file_extension": ".py",
   "mimetype": "text/x-python",
   "name": "python",
   "nbconvert_exporter": "python",
   "pygments_lexer": "ipython3",
   "version": "3.9.12"
  }
 },
 "nbformat": 4,
 "nbformat_minor": 5
}
