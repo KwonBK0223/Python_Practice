{
 "cells": [
  {
   "cell_type": "markdown",
   "id": "a2dcbc96",
   "metadata": {},
   "source": [
    "# 2023.02.01 "
   ]
  },
  {
   "cell_type": "markdown",
   "id": "4e9a258a",
   "metadata": {},
   "source": [
    "# Start"
   ]
  },
  {
   "cell_type": "markdown",
   "id": "ba1e3791",
   "metadata": {},
   "source": [
    "2557, 1000, 1001, 10998, 1008, 10869, 10926, 18108, 3003, 10430, 2588, 10171"
   ]
  },
  {
   "cell_type": "code",
   "execution_count": 1,
   "id": "179683ab",
   "metadata": {},
   "outputs": [
    {
     "name": "stdout",
     "output_type": "stream",
     "text": [
      "Todya : 12\n",
      "Total : 12\n"
     ]
    }
   ],
   "source": [
    "today=[2557, 1000, 1001, 10998, 1008, 10869, 10926, 18108, 3003, 10430, 2588, 10171]\n",
    "total = today\n",
    "print(\"Todya :\",len(today))\n",
    "print(\"Total :\",len(total))"
   ]
  },
  {
   "cell_type": "markdown",
   "id": "4854fd68",
   "metadata": {},
   "source": [
    "# 2023.02.02  "
   ]
  },
  {
   "cell_type": "markdown",
   "id": "1776c4f0",
   "metadata": {},
   "source": [
    "# Bronze2"
   ]
  },
  {
   "cell_type": "markdown",
   "id": "90e5a071",
   "metadata": {},
   "source": [
    "10172, 25083, 1330, 9498, 2753, 14681, 2284, 2525, 2480, 2739, 10950, 8393, 25304, 15552, 11021, 11022, 2438, 2439, 10952, 10951, 1110, 10807, 10871, 10818, 2562, 5597, 3052, 1546, 10699, 7287, 11382, 2420, 2741, 10872, 15964, 2475"
   ]
  },
  {
   "cell_type": "code",
   "execution_count": 2,
   "id": "ce4d1ccb",
   "metadata": {},
   "outputs": [
    {
     "name": "stdout",
     "output_type": "stream",
     "text": [
      "Todya : 36\n",
      "Total : 48\n"
     ]
    }
   ],
   "source": [
    "today=[10172, 25083, 1330, 9498, 2753, 14681, 2284, 2525, 2480, 2739, 10950, 8393, 25304, 15552, 11021, 11022, 2438, 2439, 10952, 10951, 1110, 10807, 10871, 10818, 2562, 5597, 3052, 1546, 10699, 7287, 11382, 2420, 2741, 10872, 15964, 2475]\n",
    "total += today\n",
    "print(\"Todya :\",len(today))\n",
    "print(\"Total :\",len(total))"
   ]
  },
  {
   "cell_type": "markdown",
   "id": "e3ea78bc",
   "metadata": {},
   "source": [
    "# 2023.02.03 "
   ]
  },
  {
   "cell_type": "markdown",
   "id": "bc020359",
   "metadata": {},
   "source": [
    "# Silver5"
   ]
  },
  {
   "cell_type": "markdown",
   "id": "a0099097",
   "metadata": {},
   "source": [
    "11654, 2743, 2744, 2754, 10809, 11718, 9086, 2738, 2675, 2920, 11720, 1152, 1157, 2577, 2742, 2908, 8958,4344,15596,4673,1065,5622"
   ]
  },
  {
   "cell_type": "code",
   "execution_count": 3,
   "id": "048db8ee",
   "metadata": {},
   "outputs": [
    {
     "name": "stdout",
     "output_type": "stream",
     "text": [
      "Todya : 22\n",
      "Total : 70\n"
     ]
    }
   ],
   "source": [
    "today=[11654, 2743, 2744, 2754, 10809, 11718, 9086, 2738, 2675, 2920, 11720, 1152, 1157, 2577, 2742, 2908, 8958,4344,15596,4673,1065,5622]\n",
    "total += today\n",
    "print(\"Todya :\",len(today))\n",
    "print(\"Total :\",len(total))"
   ]
  },
  {
   "cell_type": "markdown",
   "id": "f6615e92",
   "metadata": {},
   "source": [
    "# 2023.02.04"
   ]
  },
  {
   "cell_type": "markdown",
   "id": "9ca75a7a",
   "metadata": {},
   "source": [
    "2941, 1712, 1085"
   ]
  },
  {
   "cell_type": "code",
   "execution_count": 4,
   "id": "ec6d6039",
   "metadata": {},
   "outputs": [
    {
     "name": "stdout",
     "output_type": "stream",
     "text": [
      "Todya : 3\n",
      "Total : 73\n"
     ]
    }
   ],
   "source": [
    "today=[2941, 1712, 1085]\n",
    "total += today\n",
    "print(\"Todya :\",len(today))\n",
    "print(\"Total :\",len(total))"
   ]
  },
  {
   "cell_type": "markdown",
   "id": "e94a451b",
   "metadata": {},
   "source": [
    "# 2023.02.05"
   ]
  },
  {
   "cell_type": "markdown",
   "id": "4ec0b63a",
   "metadata": {},
   "source": [
    "2566, 4153, 10250"
   ]
  },
  {
   "cell_type": "code",
   "execution_count": 5,
   "id": "b810858b",
   "metadata": {
    "scrolled": true
   },
   "outputs": [
    {
     "name": "stdout",
     "output_type": "stream",
     "text": [
      "Todya : 3\n",
      "Total : 76\n"
     ]
    }
   ],
   "source": [
    "today=[2566, 4153, 10250]\n",
    "total += today\n",
    "print(\"Todya :\",len(today))\n",
    "print(\"Total :\",len(total))"
   ]
  },
  {
   "cell_type": "markdown",
   "id": "0eaa3755",
   "metadata": {},
   "source": [
    "# 2023.02.06\n",
    "1259,1193,2869,10757,2775,2839,2292"
   ]
  },
  {
   "cell_type": "code",
   "execution_count": 6,
   "id": "6bf9361d",
   "metadata": {},
   "outputs": [
    {
     "name": "stdout",
     "output_type": "stream",
     "text": [
      "Todya : 7\n",
      "Total : 83\n"
     ]
    }
   ],
   "source": [
    "today=[1259,1193,2869,10757,2775,2839,2292]\n",
    "total += today\n",
    "print(\"Todya :\",len(today))\n",
    "print(\"Total :\",len(total))"
   ]
  },
  {
   "cell_type": "markdown",
   "id": "d249e7c5",
   "metadata": {},
   "source": [
    "# 2023.02.07"
   ]
  },
  {
   "cell_type": "markdown",
   "id": "5a0e82a2",
   "metadata": {},
   "source": [
    "11653,27434,2750,2587,25305"
   ]
  },
  {
   "cell_type": "code",
   "execution_count": 7,
   "id": "50671cb7",
   "metadata": {},
   "outputs": [
    {
     "name": "stdout",
     "output_type": "stream",
     "text": [
      "Todya : 5\n",
      "Total : 88\n"
     ]
    }
   ],
   "source": [
    "today=[11653,27434,2750,2587,25305]\n",
    "total += today\n",
    "print(\"Todya :\",len(today))\n",
    "print(\"Total :\",len(total))"
   ]
  },
  {
   "cell_type": "markdown",
   "id": "8e9c594c",
   "metadata": {},
   "source": [
    "# 2023.02.08"
   ]
  },
  {
   "cell_type": "markdown",
   "id": "5bb576d3",
   "metadata": {},
   "source": [
    "# Silver4"
   ]
  },
  {
   "cell_type": "markdown",
   "id": "0d240fb0",
   "metadata": {},
   "source": [
    "5596,2985,10718,1264"
   ]
  },
  {
   "cell_type": "code",
   "execution_count": 8,
   "id": "a1acf3e4",
   "metadata": {
    "scrolled": true
   },
   "outputs": [
    {
     "name": "stdout",
     "output_type": "stream",
     "text": [
      "Todya : 4\n",
      "Total : 92\n"
     ]
    }
   ],
   "source": [
    "today=[5596,2985,10718,1264]\n",
    "total += today\n",
    "print(\"Todya :\",len(today))\n",
    "print(\"Total :\",len(total))"
   ]
  },
  {
   "cell_type": "markdown",
   "id": "0b4ab589",
   "metadata": {},
   "source": [
    "# 2023.02.09"
   ]
  },
  {
   "cell_type": "markdown",
   "id": "8cc9bd06",
   "metadata": {},
   "source": [
    "1316, 2609,1271"
   ]
  },
  {
   "cell_type": "code",
   "execution_count": 9,
   "id": "356b8a16",
   "metadata": {},
   "outputs": [
    {
     "name": "stdout",
     "output_type": "stream",
     "text": [
      "Todya : 3\n",
      "Total : 95\n"
     ]
    }
   ],
   "source": [
    "today=[1316, 2609,1271]\n",
    "total += today\n",
    "print(\"Todya :\",len(today))\n",
    "print(\"Total :\",len(total))"
   ]
  },
  {
   "cell_type": "markdown",
   "id": "78277c77",
   "metadata": {},
   "source": [
    "# 2023.02.10"
   ]
  },
  {
   "cell_type": "markdown",
   "id": "c8022767",
   "metadata": {},
   "source": [
    "2798,11050,2440,10039,10817,2441,11721,11719,2242,10870,2747,1924,1357,1978"
   ]
  },
  {
   "cell_type": "code",
   "execution_count": 10,
   "id": "9d29db84",
   "metadata": {
    "scrolled": false
   },
   "outputs": [
    {
     "name": "stdout",
     "output_type": "stream",
     "text": [
      "Todya : 14\n",
      "Total : 109\n"
     ]
    }
   ],
   "source": [
    "today=[2798,11050,2440,10039,10817,2441,11721,11719,2242,10870,2747,1924,1357,1978]\n",
    "total += today\n",
    "print(\"Todya :\",len(today))\n",
    "print(\"Total :\",len(total))"
   ]
  },
  {
   "cell_type": "markdown",
   "id": "3efaad3b",
   "metadata": {},
   "source": [
    "# 2023.02.11"
   ]
  },
  {
   "cell_type": "markdown",
   "id": "ce22db08",
   "metadata": {},
   "source": [
    "# Silver3"
   ]
  },
  {
   "cell_type": "markdown",
   "id": "7578b4ed",
   "metadata": {},
   "source": [
    "2558,3046,10178,10953,2693,9506,7568,11399,1920,10773"
   ]
  },
  {
   "cell_type": "code",
   "execution_count": 11,
   "id": "29890cea",
   "metadata": {},
   "outputs": [
    {
     "name": "stdout",
     "output_type": "stream",
     "text": [
      "Todya : 10\n",
      "Total : 119\n"
     ]
    }
   ],
   "source": [
    "today=[2558,3046,10178,10953,2693,9506,7568,11399,1920,10773]\n",
    "total += today\n",
    "print(\"Todya :\",len(today))\n",
    "print(\"Total :\",len(total))"
   ]
  },
  {
   "cell_type": "markdown",
   "id": "cda86f53",
   "metadata": {},
   "source": [
    "# 2023.02.12"
   ]
  },
  {
   "cell_type": "markdown",
   "id": "31fa42c0",
   "metadata": {},
   "source": [
    "16394,15726,12756,3028,1551,1427,1676,5355"
   ]
  },
  {
   "cell_type": "code",
   "execution_count": 12,
   "id": "ea3acec8",
   "metadata": {},
   "outputs": [
    {
     "name": "stdout",
     "output_type": "stream",
     "text": [
      "Todya : 8\n",
      "Total : 127\n"
     ]
    }
   ],
   "source": [
    "today=[16394,15726,12756,3028,1551,1427,1676,5355]\n",
    "total += today\n",
    "print(\"Todya :\",len(today))\n",
    "print(\"Total :\",len(total))"
   ]
  },
  {
   "cell_type": "markdown",
   "id": "e435a46c",
   "metadata": {},
   "source": [
    "# 2023.02.13"
   ]
  },
  {
   "cell_type": "markdown",
   "id": "1a0d8b88",
   "metadata": {},
   "source": [
    "11942,5543,2523,5086,5585,3135"
   ]
  },
  {
   "cell_type": "code",
   "execution_count": 13,
   "id": "87d31945",
   "metadata": {},
   "outputs": [
    {
     "name": "stdout",
     "output_type": "stream",
     "text": [
      "Todya : 6\n",
      "Total : 133\n"
     ]
    }
   ],
   "source": [
    "today=[11942,5543,2523,5086,5585,3135]\n",
    "total += today\n",
    "print(\"Todya :\",len(today))\n",
    "print(\"Total :\",len(total))"
   ]
  },
  {
   "cell_type": "markdown",
   "id": "df7a26ca",
   "metadata": {},
   "source": [
    "# 2023.02.14"
   ]
  },
  {
   "cell_type": "markdown",
   "id": "994cc2bf",
   "metadata": {},
   "source": [
    "4101,10808,2490,1453,14730,2163,10156,2530"
   ]
  },
  {
   "cell_type": "code",
   "execution_count": 14,
   "id": "61524cd7",
   "metadata": {},
   "outputs": [
    {
     "name": "stdout",
     "output_type": "stream",
     "text": [
      "Todya : 8\n",
      "Total : 141\n"
     ]
    }
   ],
   "source": [
    "today=[4101,10808,2490,1453,14730,2163,10156,2530]\n",
    "total += today\n",
    "print(\"Todya :\",len(today))\n",
    "print(\"Total :\",len(total))"
   ]
  },
  {
   "cell_type": "markdown",
   "id": "10c72c45",
   "metadata": {},
   "source": [
    "# 2023.02.15"
   ]
  },
  {
   "cell_type": "markdown",
   "id": "c3320225",
   "metadata": {},
   "source": [
    "# Silver2"
   ]
  },
  {
   "cell_type": "markdown",
   "id": "d0c18640",
   "metadata": {},
   "source": [
    "5522,2752,1267,1075,1292,1010,1205,1735,2751,1247"
   ]
  },
  {
   "cell_type": "code",
   "execution_count": 15,
   "id": "17148a5e",
   "metadata": {},
   "outputs": [
    {
     "name": "stdout",
     "output_type": "stream",
     "text": [
      "Todya : 10\n",
      "Total : 151\n"
     ]
    }
   ],
   "source": [
    "today=[5522,2752,1267,1075,1292,1010,1205,1735,2751,1247]\n",
    "total += today\n",
    "print(\"Todya :\",len(today))\n",
    "print(\"Total :\",len(total))"
   ]
  }
 ],
 "metadata": {
  "kernelspec": {
   "display_name": "Python 3 (ipykernel)",
   "language": "python",
   "name": "python3"
  },
  "language_info": {
   "codemirror_mode": {
    "name": "ipython",
    "version": 3
   },
   "file_extension": ".py",
   "mimetype": "text/x-python",
   "name": "python",
   "nbconvert_exporter": "python",
   "pygments_lexer": "ipython3",
   "version": "3.9.12"
  }
 },
 "nbformat": 4,
 "nbformat_minor": 5
}
