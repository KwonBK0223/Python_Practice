{
 "cells": [
  {
   "cell_type": "markdown",
   "id": "2c7082a8",
   "metadata": {},
   "source": [
    "# 11653\n",
    "소인수 분해"
   ]
  },
  {
   "cell_type": "code",
   "execution_count": 17,
   "id": "8b838def",
   "metadata": {},
   "outputs": [
    {
     "name": "stdout",
     "output_type": "stream",
     "text": [
      "9991\n",
      "97\n",
      "103\n"
     ]
    }
   ],
   "source": [
    "a = int(input())\n",
    "i=2\n",
    "ans =[]\n",
    "while 1:\n",
    "    if a==1:break\n",
    "    if a%i==0:\n",
    "        print(i)\n",
    "        a /= i\n",
    "    else:\n",
    "        i+=1\n"
   ]
  },
  {
   "cell_type": "markdown",
   "id": "45991a34",
   "metadata": {},
   "source": [
    "# 27434\n",
    "팩토리얼 3"
   ]
  },
  {
   "cell_type": "code",
   "execution_count": 19,
   "id": "31e9cc19",
   "metadata": {},
   "outputs": [
    {
     "name": "stdout",
     "output_type": "stream",
     "text": [
      "0\n",
      "1\n"
     ]
    }
   ],
   "source": [
    "a = int(input())\n",
    "ans = 1\n",
    "for i in range(1,a+1):\n",
    "    ans *=i\n",
    "print(ans)"
   ]
  },
  {
   "cell_type": "markdown",
   "id": "2a3ca2cc",
   "metadata": {},
   "source": [
    "# 2750\n",
    "수 정렬하기"
   ]
  },
  {
   "cell_type": "code",
   "execution_count": 25,
   "id": "e25a21ee",
   "metadata": {
    "scrolled": true
   },
   "outputs": [
    {
     "name": "stdout",
     "output_type": "stream",
     "text": [
      "5\n",
      "5\n",
      "2\n",
      "3\n",
      "4\n",
      "1\n",
      "1\n",
      "2\n",
      "3\n",
      "4\n",
      "5\n"
     ]
    }
   ],
   "source": [
    "a = int(input())\n",
    "b=[]\n",
    "for i in range(a):\n",
    "    k=int(input())\n",
    "    b.append(k)\n",
    "b.sort()\n",
    "for i in range(a):\n",
    "    print(b[i])"
   ]
  },
  {
   "cell_type": "markdown",
   "id": "e26f70b0",
   "metadata": {},
   "source": [
    "# 2587\n",
    "대표값2"
   ]
  },
  {
   "cell_type": "code",
   "execution_count": 33,
   "id": "681de158",
   "metadata": {},
   "outputs": [
    {
     "name": "stdout",
     "output_type": "stream",
     "text": [
      "10\n",
      "40\n",
      "30\n",
      "60\n",
      "30\n",
      "34\n",
      "30\n"
     ]
    }
   ],
   "source": [
    "a=[]\n",
    "for i in range(5):\n",
    "    num = int(input())\n",
    "    a.append(num)\n",
    "a.sort()\n",
    "b = int(sum(a)/5)\n",
    "c = a[2]\n",
    "print(b)\n",
    "print(c)"
   ]
  },
  {
   "cell_type": "markdown",
   "id": "71aaf731",
   "metadata": {},
   "source": [
    "# 25305\n",
    "커트라인"
   ]
  },
  {
   "cell_type": "code",
   "execution_count": 36,
   "id": "6d67ab80",
   "metadata": {},
   "outputs": [
    {
     "name": "stdout",
     "output_type": "stream",
     "text": [
      "5 2\n",
      "100 76 85 93 98\n",
      "98\n"
     ]
    }
   ],
   "source": [
    "a,b = map(int,input().split())\n",
    "st = list(map(int,input().split()))\n",
    "st.sort()\n",
    "print(st[-b])"
   ]
  }
 ],
 "metadata": {
  "kernelspec": {
   "display_name": "Python 3 (ipykernel)",
   "language": "python",
   "name": "python3"
  },
  "language_info": {
   "codemirror_mode": {
    "name": "ipython",
    "version": 3
   },
   "file_extension": ".py",
   "mimetype": "text/x-python",
   "name": "python",
   "nbconvert_exporter": "python",
   "pygments_lexer": "ipython3",
   "version": "3.9.12"
  }
 },
 "nbformat": 4,
 "nbformat_minor": 5
}
