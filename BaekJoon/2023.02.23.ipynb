{
 "cells": [
  {
   "cell_type": "markdown",
   "id": "4fbcf9a3",
   "metadata": {},
   "source": [
    "# 15740\n",
    "A+B -9"
   ]
  },
  {
   "cell_type": "code",
   "execution_count": 2,
   "id": "d086c746",
   "metadata": {
    "scrolled": true
   },
   "outputs": [
    {
     "name": "stdout",
     "output_type": "stream",
     "text": [
      "1 2\n",
      "3\n"
     ]
    }
   ],
   "source": [
    "print(sum(list(map(int,input().split()))))"
   ]
  },
  {
   "cell_type": "markdown",
   "id": "f167b4b0",
   "metadata": {},
   "source": [
    "# 5575\n",
    "타임카드"
   ]
  },
  {
   "cell_type": "code",
   "execution_count": 5,
   "id": "e47e30e6",
   "metadata": {},
   "outputs": [
    {
     "name": "stdout",
     "output_type": "stream",
     "text": [
      "9 0 0 18 0 0\n",
      "9 0 0\n",
      "9 0 1 18 0 0\n",
      "8 59 59\n",
      "12 14 52 12 15 30\n",
      "0 0 38\n"
     ]
    }
   ],
   "source": [
    "for i in range(3):\n",
    "    a,b,c,d,e,f=map(int,input().split())\n",
    "    start=a*3600+b*60+c\n",
    "    end=d*3600+e*60+f\n",
    "    time=end-start\n",
    "    h=time//3600\n",
    "    m=(time-h*3600)//60\n",
    "    s=time-h*3600-m*60\n",
    "    print(h,m,s)"
   ]
  },
  {
   "cell_type": "markdown",
   "id": "92b7b07c",
   "metadata": {},
   "source": [
    "# 2445\n",
    "별 찍기 -8"
   ]
  },
  {
   "cell_type": "code",
   "execution_count": 9,
   "id": "b90d19e6",
   "metadata": {},
   "outputs": [
    {
     "name": "stdout",
     "output_type": "stream",
     "text": [
      "5\n",
      "*        *\n",
      "**      **\n",
      "***    ***\n",
      "****  ****\n",
      "**********\n",
      "****  ****\n",
      "***    ***\n",
      "**      **\n",
      "*        *\n"
     ]
    }
   ],
   "source": [
    "a=int(input())\n",
    "for i in range(1,a+1):\n",
    "    print('*'*i+' '*(2*a-2*i)+'*'*i)\n",
    "for i in range(a-1,0,-1):\n",
    "    print('*'*i+' '*(2*a-2*i)+'*'*i)"
   ]
  },
  {
   "cell_type": "markdown",
   "id": "a609bdab",
   "metadata": {},
   "source": [
    "# 2592\n",
    "대표값"
   ]
  },
  {
   "cell_type": "code",
   "execution_count": 10,
   "id": "6af4fda0",
   "metadata": {},
   "outputs": [
    {
     "name": "stdout",
     "output_type": "stream",
     "text": [
      "10\n",
      "40\n",
      "30\n",
      "60\n",
      "30\n",
      "20\n",
      "60\n",
      "30\n",
      "40\n",
      "50\n",
      "37\n",
      "30\n"
     ]
    }
   ],
   "source": [
    "import statistics\n",
    "ans=[0]*10\n",
    "for i in range(10):\n",
    "    ans[i]=int(input())\n",
    "t=sum(ans)\n",
    "m=statistics.mode(ans)\n",
    "print(t//10)\n",
    "print(m)"
   ]
  },
  {
   "cell_type": "markdown",
   "id": "7a8b9f37",
   "metadata": {},
   "source": [
    "# 10989\n",
    "수 정렬하기 3"
   ]
  },
  {
   "cell_type": "code",
   "execution_count": 22,
   "id": "54b1cd4d",
   "metadata": {},
   "outputs": [
    {
     "name": "stdout",
     "output_type": "stream",
     "text": [
      "10\n",
      "5\n",
      "2\n",
      "3\n",
      "1\n",
      "4\n",
      "2\n",
      "3\n",
      "5\n",
      "1\n",
      "7\n",
      "1\n",
      "1\n",
      "2\n",
      "2\n",
      "3\n",
      "3\n",
      "4\n",
      "5\n",
      "5\n",
      "7\n"
     ]
    }
   ],
   "source": [
    "a = int(input())\n",
    "b=[0]*10001\n",
    "for i in range(a):\n",
    "    k=int(input())\n",
    "    b[k-1]+=1\n",
    "for i in range(10001):\n",
    "    if b[i] !=0:\n",
    "        for j in range(b[i]):\n",
    "            print(i+1)"
   ]
  },
  {
   "cell_type": "markdown",
   "id": "314aed06",
   "metadata": {},
   "source": [
    "숫자를 그 배열에 입력하고\n",
    "\n",
    "배열의 인덱스 값을 설정하는 것으로 시간 단축"
   ]
  },
  {
   "cell_type": "code",
   "execution_count": null,
   "id": "d906fcd1",
   "metadata": {},
   "outputs": [],
   "source": [
    "import sys\n",
    "a = int(sys.stdin.readline())\n",
    "b=[0]*10001\n",
    "for i in range(a):\n",
    "    k=int(sys.stdin.readline())\n",
    "    b[k-1]+=1\n",
    "for i in range(10001):\n",
    "    if b[i] !=0:\n",
    "        for j in range(b[i]):\n",
    "            print(i+1)"
   ]
  },
  {
   "cell_type": "markdown",
   "id": "1978fde2",
   "metadata": {},
   "source": [
    "# 16212\n",
    "정열적인 정렬"
   ]
  },
  {
   "cell_type": "code",
   "execution_count": 31,
   "id": "a2db19f3",
   "metadata": {},
   "outputs": [
    {
     "name": "stdout",
     "output_type": "stream",
     "text": [
      "6\n",
      "14 5 8 7 1 10\n",
      "1 5 7 8 10 14 "
     ]
    }
   ],
   "source": [
    "a=int(input())\n",
    "k=list(map(int,input().split()))\n",
    "k.sort()\n",
    "for i in range(a):\n",
    "    print(k[i],end=' ')"
   ]
  }
 ],
 "metadata": {
  "kernelspec": {
   "display_name": "Python 3 (ipykernel)",
   "language": "python",
   "name": "python3"
  },
  "language_info": {
   "codemirror_mode": {
    "name": "ipython",
    "version": 3
   },
   "file_extension": ".py",
   "mimetype": "text/x-python",
   "name": "python",
   "nbconvert_exporter": "python",
   "pygments_lexer": "ipython3",
   "version": "3.9.12"
  }
 },
 "nbformat": 4,
 "nbformat_minor": 5
}
