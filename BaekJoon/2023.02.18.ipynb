{
 "cells": [
  {
   "cell_type": "markdown",
   "id": "cb08deca",
   "metadata": {},
   "source": [
    "# 15727\n",
    "조별과제를 하려는데 조장이 사라졌다"
   ]
  },
  {
   "cell_type": "code",
   "execution_count": 26,
   "id": "5c2e935e",
   "metadata": {},
   "outputs": [
    {
     "name": "stdout",
     "output_type": "stream",
     "text": [
      "15\n",
      "3\n"
     ]
    }
   ],
   "source": [
    "a=int(input())\n",
    "if a%5==0:print(a//5)\n",
    "else:print((a//5)+1)"
   ]
  },
  {
   "cell_type": "markdown",
   "id": "e64209a8",
   "metadata": {},
   "source": [
    "# 4470\n",
    "줄번호"
   ]
  },
  {
   "cell_type": "code",
   "execution_count": 27,
   "id": "13524e9f",
   "metadata": {},
   "outputs": [
    {
     "name": "stdout",
     "output_type": "stream",
     "text": [
      "5\n",
      "as\n",
      "1. as\n",
      "s\n",
      "2. s\n",
      "asdf\n",
      "3. asdf\n",
      "asdf\n",
      "4. asdf\n",
      "asdf\n",
      "5. asdf\n"
     ]
    }
   ],
   "source": [
    "a=int(input())\n",
    "for i in range(1,a+1):\n",
    "    b=input()\n",
    "    print(f'{i}. {b}')"
   ]
  },
  {
   "cell_type": "markdown",
   "id": "019452a4",
   "metadata": {},
   "source": [
    "# 2576\n",
    "홀수"
   ]
  },
  {
   "cell_type": "code",
   "execution_count": 31,
   "id": "561a4722",
   "metadata": {
    "scrolled": true
   },
   "outputs": [
    {
     "name": "stdout",
     "output_type": "stream",
     "text": [
      "2\n",
      "4\n",
      "20\n",
      "32\n",
      "6\n",
      "10\n",
      "8\n",
      "-1\n"
     ]
    }
   ],
   "source": [
    "a=[]\n",
    "for i in range(7):\n",
    "    a.append(int(input()))\n",
    "ans=[]\n",
    "for i in range(7):\n",
    "    if a[i]%2==1:\n",
    "        ans.append(a[i])\n",
    "if len(ans)==0:\n",
    "    print(-1)\n",
    "else:\n",
    "    ans.sort()\n",
    "    print(sum(ans))\n",
    "    print(ans[0])"
   ]
  },
  {
   "cell_type": "markdown",
   "id": "a635a647",
   "metadata": {},
   "source": [
    "# 1977\n",
    "완전제곱수"
   ]
  },
  {
   "cell_type": "code",
   "execution_count": 43,
   "id": "c447f1fd",
   "metadata": {},
   "outputs": [
    {
     "name": "stdout",
     "output_type": "stream",
     "text": [
      "75\n",
      "80\n",
      "-1\n"
     ]
    }
   ],
   "source": [
    "x=[0]*101\n",
    "for i in range(101):\n",
    "    x[i]=i*i\n",
    "a=int(input())\n",
    "b=int(input())\n",
    "ans=[]\n",
    "i=1\n",
    "k=list(range(a,b+1))\n",
    "for i in range(len(k)):\n",
    "    if k[i] in x:\n",
    "        ans.append(k[i])\n",
    "if len(ans)==0:\n",
    "    print(-1)\n",
    "else:\n",
    "    print(sum(ans))\n",
    "    print(min(ans))"
   ]
  },
  {
   "cell_type": "markdown",
   "id": "9ca6405d",
   "metadata": {},
   "source": [
    "# 2435\n",
    "기상청 인턴 신현수"
   ]
  },
  {
   "cell_type": "code",
   "execution_count": 51,
   "id": "4a90853e",
   "metadata": {},
   "outputs": [
    {
     "name": "stdout",
     "output_type": "stream",
     "text": [
      "10 2\n",
      "3 -2 -4 -9 0 3 7 13 8 -3\n",
      "21\n"
     ]
    }
   ],
   "source": [
    "a,b=map(int,input().split())\n",
    "x=list(map(int,input().split()))\n",
    "k=a-b+1\n",
    "ans=[0]*k\n",
    "for i in range(k):\n",
    "    ans2=x[i:i+b]\n",
    "    t=sum(ans2)\n",
    "    ans[i]=t\n",
    "print(max(ans))"
   ]
  },
  {
   "cell_type": "markdown",
   "id": "8e9b819e",
   "metadata": {},
   "source": [
    "# 11650\n",
    "좌표 정렬하기"
   ]
  },
  {
   "cell_type": "code",
   "execution_count": 65,
   "id": "66152c78",
   "metadata": {},
   "outputs": [
    {
     "name": "stdout",
     "output_type": "stream",
     "text": [
      "5\n",
      "3 4\n",
      "1 1\n",
      "1 -1\n",
      "2 2\n",
      "3 3\n",
      "1 -1\n",
      "1 1\n",
      "2 2\n",
      "3 3\n",
      "3 4\n"
     ]
    }
   ],
   "source": [
    "a = int(input())\n",
    "b = []\n",
    "for i in range(a):\n",
    "    x=list(map(int,input().split()))\n",
    "    b.append(x)\n",
    "b.sort()\n",
    "for i in range(a):\n",
    "    print(b[i][0],b[i][1])"
   ]
  },
  {
   "cell_type": "markdown",
   "id": "85e58bbf",
   "metadata": {},
   "source": [
    "# 1822\n",
    "차집합"
   ]
  },
  {
   "cell_type": "code",
   "execution_count": 89,
   "id": "9bec64af",
   "metadata": {},
   "outputs": [
    {
     "name": "stdout",
     "output_type": "stream",
     "text": [
      "3 5\n",
      "2 5 4\n",
      "1 2 3 4 5\n",
      "0\n"
     ]
    }
   ],
   "source": [
    "a,b=map(int,input().split())\n",
    "x=set(map(int,input().split()))\n",
    "y=set(map(int,input().split()))\n",
    "k=x-y\n",
    "t=list(k)\n",
    "ans1=len(k)\n",
    "print(ans1)\n",
    "t.sort()\n",
    "for i in range(ans1):\n",
    "    print(t[i],end=' ')"
   ]
  }
 ],
 "metadata": {
  "kernelspec": {
   "display_name": "Python 3 (ipykernel)",
   "language": "python",
   "name": "python3"
  },
  "language_info": {
   "codemirror_mode": {
    "name": "ipython",
    "version": 3
   },
   "file_extension": ".py",
   "mimetype": "text/x-python",
   "name": "python",
   "nbconvert_exporter": "python",
   "pygments_lexer": "ipython3",
   "version": "3.9.12"
  }
 },
 "nbformat": 4,
 "nbformat_minor": 5
}
