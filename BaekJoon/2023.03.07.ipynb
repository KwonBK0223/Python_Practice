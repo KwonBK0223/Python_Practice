{
 "cells": [
  {
   "cell_type": "markdown",
   "id": "6ed99220",
   "metadata": {},
   "source": [
    "# 15733\n",
    "나는 누구인가"
   ]
  },
  {
   "cell_type": "code",
   "execution_count": 1,
   "id": "6047ca42",
   "metadata": {},
   "outputs": [
    {
     "name": "stdout",
     "output_type": "stream",
     "text": [
      "I'm Sexy\n"
     ]
    }
   ],
   "source": [
    "print(\"I'm Sexy\")"
   ]
  },
  {
   "cell_type": "markdown",
   "id": "83ce9cab",
   "metadata": {},
   "source": [
    "# 25591\n",
    "푸앙이와 종윤이"
   ]
  },
  {
   "cell_type": "code",
   "execution_count": 4,
   "id": "0b705696",
   "metadata": {},
   "outputs": [
    {
     "name": "stdout",
     "output_type": "stream",
     "text": [
      "48 49\n",
      "52 51 -3 2652 26 52\n",
      "23 52\n"
     ]
    }
   ],
   "source": [
    "x,y=map(int,input().split())\n",
    "a=100-x\n",
    "b=100-y\n",
    "c=100-(a+b)\n",
    "d=a*b\n",
    "q=d//100\n",
    "r=d%100\n",
    "print(a,b,c,d,q,r)\n",
    "print(c+q,r)"
   ]
  },
  {
   "cell_type": "markdown",
   "id": "6d79ca09",
   "metadata": {},
   "source": [
    "# 14579\n",
    "덧셈과 곱셈"
   ]
  },
  {
   "cell_type": "code",
   "execution_count": 14,
   "id": "41d876d3",
   "metadata": {},
   "outputs": [
    {
     "name": "stdout",
     "output_type": "stream",
     "text": [
      "3 5\n",
      "900\n"
     ]
    }
   ],
   "source": [
    "a,b=map(int,input().split())\n",
    "k=list(range(b+1))\n",
    "del k[0]\n",
    "ans=1\n",
    "for i in range(a,b+1):\n",
    "    t=k[:i]\n",
    "    x=sum(t)\n",
    "    ans*=x\n",
    "ans %= 14579\n",
    "print(ans)"
   ]
  },
  {
   "cell_type": "markdown",
   "id": "d0047c17",
   "metadata": {},
   "source": [
    "# 2484\n",
    "주사위 네개"
   ]
  },
  {
   "cell_type": "code",
   "execution_count": 18,
   "id": "222c58bf",
   "metadata": {
    "scrolled": true
   },
   "outputs": [
    {
     "name": "stdout",
     "output_type": "stream",
     "text": [
      "4\n",
      "3 3 3 3\n",
      "3 3 6 3\n",
      "2 2 6 6\n",
      "6 2 1 5\n",
      "65000\n"
     ]
    }
   ],
   "source": [
    "k=int(input())\n",
    "ans=[0]*k\n",
    "for i in range(k):\n",
    "    a=list(map(int,input().split()))\n",
    "    a.sort()\n",
    "    if a[0]==a[1]==a[2]==a[3]:\n",
    "        ans[i]=50000+a[0]*5000\n",
    "    elif a[0]==a[1]==a[2] or a[1]==a[2]==a[3]:\n",
    "        ans[i]=10000+a[1]*1000\n",
    "    elif a[0]==a[1] and a[2]==a[3]:\n",
    "        ans[i]=2000+a[0]*500+a[2]*500\n",
    "    elif a[0]==a[1]:\n",
    "        ans[i]=1000+a[0]*100\n",
    "    elif a[1]==a[2]:\n",
    "        ans[i]=1000+a[1]*100\n",
    "    elif a[2]==a[3]:\n",
    "        ans[i]=1000+a[2]*100\n",
    "    else:\n",
    "        ans[i]=a[-1]*100\n",
    "print(max(ans))"
   ]
  },
  {
   "cell_type": "markdown",
   "id": "a491cea9",
   "metadata": {},
   "source": [
    "# 15792\n",
    "A/B -2"
   ]
  },
  {
   "cell_type": "code",
   "execution_count": 29,
   "id": "e1a4b4a8",
   "metadata": {
    "scrolled": true
   },
   "outputs": [
    {
     "name": "stdout",
     "output_type": "stream",
     "text": [
      "1 3\n",
      "0.3333333333333333333333333333333333333333333333333333333333333333333333333333333333333333333333333333333333333333333333333333333333333333333333333333333333333333333333333333333333333333333333333333333333333333333333333333333333333333333333333333333333333333333333333333333333333333333333333333333333333333333333333333333333333333333333333333333333333333333333333333333333333333333333333333333333333333333333333333333333333333333333333333333333333333333333333333333333333333333333333333333333333333333333333333333333333333333333333333333333333333333333333333333333333333333333333333333333333333333333333333333333333333333333333333333333333333333333333333333333333333333333333333333333333333333333333333333333333333333333333333333333333333333333333333333333333333333333333333333333333333333333333333333333333333333333333333333333333333333333333333333333333333333333333333333333333333333333333333333333333333333333333333333333333333333333333333333333333333333333333333333333333333333333333333333333333333\n"
     ]
    }
   ],
   "source": [
    "A, B = map(int, input().split())\n",
    "ans = (str(A//B)+\".\")  # 자연수부분을 먼저 계산 해서 문자열로 두기\n",
    "A = (A % B) * 10  # 나머지들로만 계산\n",
    "for i in range(1000): #계속 10씩 곱해주면서 몫을 뒤에 붙여줌\n",
    "    ans += str(A // B)\n",
    "    A = (A % B) * 10\n",
    "print(ans)"
   ]
  },
  {
   "cell_type": "code",
   "execution_count": 30,
   "id": "d48876ed",
   "metadata": {},
   "outputs": [
    {
     "data": {
      "text/plain": [
       "1002"
      ]
     },
     "execution_count": 30,
     "metadata": {},
     "output_type": "execute_result"
    }
   ],
   "source": [
    "len(ans) # 서브 테스크 10의 -1000제곱까지 하니까 길이 맞추기"
   ]
  },
  {
   "cell_type": "markdown",
   "id": "4613bcde",
   "metadata": {},
   "source": [
    "# 26517\n",
    "연속인가??"
   ]
  },
  {
   "cell_type": "code",
   "execution_count": 42,
   "id": "89db2b95",
   "metadata": {},
   "outputs": [
    {
     "name": "stdout",
     "output_type": "stream",
     "text": [
      "-7\n",
      "-9 -6 -7 -8\n",
      "No\n"
     ]
    }
   ],
   "source": [
    "k=int(input())\n",
    "a,b,c,d=map(int,input().split())\n",
    "ans1=a*k+b\n",
    "ans2=c*k+d\n",
    "if ans1 == ans2:\n",
    "    print(\"Yes\",ans1)\n",
    "else:\n",
    "    print(\"No\")"
   ]
  },
  {
   "cell_type": "code",
   "execution_count": null,
   "id": "91706335",
   "metadata": {},
   "outputs": [],
   "source": []
  }
 ],
 "metadata": {
  "kernelspec": {
   "display_name": "Python 3 (ipykernel)",
   "language": "python",
   "name": "python3"
  },
  "language_info": {
   "codemirror_mode": {
    "name": "ipython",
    "version": 3
   },
   "file_extension": ".py",
   "mimetype": "text/x-python",
   "name": "python",
   "nbconvert_exporter": "python",
   "pygments_lexer": "ipython3",
   "version": "3.9.12"
  }
 },
 "nbformat": 4,
 "nbformat_minor": 5
}
