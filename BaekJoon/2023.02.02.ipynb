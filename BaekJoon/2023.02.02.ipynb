{
 "cells": [
  {
   "cell_type": "markdown",
   "id": "ac6fa169",
   "metadata": {},
   "source": [
    "# 10172\n",
    "개를 출력한다."
   ]
  },
  {
   "cell_type": "code",
   "execution_count": 1,
   "id": "c50bf39a",
   "metadata": {},
   "outputs": [
    {
     "name": "stdout",
     "output_type": "stream",
     "text": [
      "|\\_/|\n",
      "|q p|   /}\n",
      "( 0 )\"\"\"\\\n",
      "|\"^\"`    |\n",
      "||_/=\\\\__|\n"
     ]
    }
   ],
   "source": [
    "print(\"|\\_/|\")\n",
    "print(\"|q p|   /}\")\n",
    "print('( 0 )\"\"\"\\\\') \n",
    "print('|\"^\"`    |')\n",
    "print(\"||_/=\\\\\\__|\") "
   ]
  },
  {
   "cell_type": "markdown",
   "id": "1d714e2a",
   "metadata": {},
   "source": [
    "# 25083\n",
    "새싹을 출력한다.\n",
    "\n"
   ]
  },
  {
   "cell_type": "code",
   "execution_count": 2,
   "id": "8129c9c5",
   "metadata": {},
   "outputs": [
    {
     "name": "stdout",
     "output_type": "stream",
     "text": [
      "         ,r'\"7\n",
      "r`-_   ,'  ,/\n",
      " \\. \". L_r'\n",
      "   `~\\/\n",
      "      |\n",
      "      |\n"
     ]
    }
   ],
   "source": [
    "print(\"         ,r'\\\"7\")\n",
    "print(\"r`-_   ,'  ,/\")\n",
    "print(\" \\\\. \\\". L_r'\")\n",
    "print(\"   `~\\\\/\")\n",
    "print(\"      |\")\n",
    "print(\"      |\")"
   ]
  },
  {
   "cell_type": "markdown",
   "id": "fd584777",
   "metadata": {},
   "source": [
    "# 조건문"
   ]
  },
  {
   "cell_type": "markdown",
   "id": "44669f52",
   "metadata": {},
   "source": [
    "# 1330\n",
    "두 정수 A와 B가 주어졌을 때, A와 B를 비교하는 프로그램을 작성하시오."
   ]
  },
  {
   "cell_type": "code",
   "execution_count": 6,
   "id": "ea66ae4f",
   "metadata": {},
   "outputs": [
    {
     "name": "stdout",
     "output_type": "stream",
     "text": [
      "5 5\n",
      "==\n"
     ]
    }
   ],
   "source": [
    "a,b = input().split()\n",
    "if int(a) > int(b):\n",
    "    print('>')\n",
    "elif int(a) < int(b):\n",
    "    print('<')\n",
    "else:\n",
    "    print(\"==\")"
   ]
  },
  {
   "cell_type": "markdown",
   "id": "4fb2322e",
   "metadata": {},
   "source": [
    "# 9498\n",
    "시험 점수를 입력받아 90 ~ 100점은 A, 80 ~ 89점은 B, 70 ~ 79점은 C, 60 ~ 69점은 D, 나머지 점수는 F를 출력하는 프로그램을 작성하시오."
   ]
  },
  {
   "cell_type": "code",
   "execution_count": 9,
   "id": "bb452a89",
   "metadata": {},
   "outputs": [
    {
     "name": "stdout",
     "output_type": "stream",
     "text": [
      "100\n",
      "A\n"
     ]
    }
   ],
   "source": [
    "a = int(input())\n",
    "if a>= 90:\n",
    "    print('A')\n",
    "elif a>=80:\n",
    "    print('B')\n",
    "elif a>=70:\n",
    "    print('C')\n",
    "elif a>=60:\n",
    "    print('D')\n",
    "else:\n",
    "    print('F')\n",
    "    "
   ]
  },
  {
   "cell_type": "markdown",
   "id": "391293cd",
   "metadata": {},
   "source": [
    "# 2753\n",
    "연도가 주어졌을 때, 윤년이면 1, 아니면 0을 출력하는 프로그램을 작성하시오.\n",
    "\n",
    "윤년은 연도가 4의 배수이면서, 100의 배수가 아닐 때 또는 400의 배수일 때이다.\n",
    "\n",
    "예를 들어, 2012년은 4의 배수이면서 100의 배수가 아니라서 윤년이다. 1900년은 100의 배수이고 400의 배수는 아니기 때문에 윤년이 아니다. 하지만, 2000년은 400의 배수이기 때문에 윤년이다."
   ]
  },
  {
   "cell_type": "code",
   "execution_count": 19,
   "id": "2746fae2",
   "metadata": {},
   "outputs": [
    {
     "name": "stdout",
     "output_type": "stream",
     "text": [
      "1999\n",
      "0\n"
     ]
    }
   ],
   "source": [
    "a = int(input())\n",
    "if a%4!=0:\n",
    "    print('0')\n",
    "elif a%400==0:\n",
    "    print('1')\n",
    "elif a%100==0:\n",
    "    print('0')\n",
    "else:\n",
    "    print('1')"
   ]
  },
  {
   "cell_type": "markdown",
   "id": "55b8940b",
   "metadata": {},
   "source": [
    "# 14681\n",
    "사분면 고르기"
   ]
  },
  {
   "cell_type": "code",
   "execution_count": 27,
   "id": "dafe06a0",
   "metadata": {},
   "outputs": [
    {
     "name": "stdout",
     "output_type": "stream",
     "text": [
      "9\n",
      "-13\n",
      "4\n"
     ]
    }
   ],
   "source": [
    "a = int(input())\n",
    "b = int(input())\n",
    "if a>0:\n",
    "    if b>0:\n",
    "        print(1)\n",
    "    else:\n",
    "        print(4)\n",
    "else:\n",
    "    if b>0:\n",
    "        print(2)\n",
    "    else:\n",
    "        print(3)\n"
   ]
  },
  {
   "cell_type": "markdown",
   "id": "4452f5f5",
   "metadata": {},
   "source": [
    "# 2284\n",
    "알람시계\n",
    "\n",
    "45분빼기(24시 시각)"
   ]
  },
  {
   "cell_type": "code",
   "execution_count": 41,
   "id": "0c2502b7",
   "metadata": {
    "scrolled": true
   },
   "outputs": [
    {
     "name": "stdout",
     "output_type": "stream",
     "text": [
      "14 30\n",
      "13 45\n"
     ]
    }
   ],
   "source": [
    "h,m = input().split()\n",
    "a = int(h)\n",
    "b = int(m)\n",
    "if b>=45:\n",
    "    b -= 45\n",
    "else :\n",
    "    b = b+60-45\n",
    "    if a>0:\n",
    "        a -=1\n",
    "    else:\n",
    "        a = 23\n",
    "print(a,b)"
   ]
  },
  {
   "cell_type": "markdown",
   "id": "76f69d68",
   "metadata": {},
   "source": [
    "# 2525\n",
    "오븐시계\n",
    "\n",
    "시작하는 시각과 걸리는 시간 입력하면 끝나는 시각 출력"
   ]
  },
  {
   "cell_type": "code",
   "execution_count": 46,
   "id": "09ebd996",
   "metadata": {},
   "outputs": [
    {
     "name": "stdout",
     "output_type": "stream",
     "text": [
      "23 48\n",
      "25\n",
      "0 13\n"
     ]
    }
   ],
   "source": [
    "h,m = input().split()\n",
    "a = int(h)\n",
    "b = int(m)\n",
    "min = int(input())\n",
    "total = a*60+b+min\n",
    "a = int(total/60)\n",
    "b = total%60\n",
    "if a>=24:\n",
    "    a -= 24\n",
    "\n",
    "print(a,b)"
   ]
  },
  {
   "cell_type": "markdown",
   "id": "e09d08b0",
   "metadata": {},
   "source": [
    "# 2480\n",
    "주사위 세개\n",
    "\n",
    "1.같은 눈이 3개가 나오면 10,000원+(같은 눈)×1,000원의 상금을 받게 된다. \n",
    "\n",
    "2.같은 눈이 2개만 나오는 경우에는 1,000원+(같은 눈)×100원의 상금을 받게 된다. \n",
    "\n",
    "3.모두 다른 눈이 나오는 경우에는 (그 중 가장 큰 눈)×100원의 상금을 받게 된다. "
   ]
  },
  {
   "cell_type": "code",
   "execution_count": 52,
   "id": "ac722a42",
   "metadata": {},
   "outputs": [
    {
     "name": "stdout",
     "output_type": "stream",
     "text": [
      "6 2 5\n",
      "600\n"
     ]
    }
   ],
   "source": [
    "coin1,coin2,coin3 = input().split()\n",
    "a = int(coin1)\n",
    "b = int(coin2)\n",
    "c = int(coin3)\n",
    "t = [a,b,c]\n",
    "t2 = 0\n",
    "count = 0\n",
    "result = 0\n",
    "if a==b:\n",
    "    count+=1\n",
    "    if b==c:\n",
    "        count+=1\n",
    "    elif b!=c:\n",
    "        if c==a:\n",
    "            count+=1\n",
    "elif a!=b:\n",
    "    if b==c:\n",
    "        count+=1\n",
    "        if c==a:\n",
    "            count+=1\n",
    "    elif b!=c:\n",
    "        if c==a:\n",
    "            count+=1\n",
    "\n",
    "if count==2:\n",
    "    result = 10000+(a*1000)\n",
    "elif count==1:\n",
    "    if a==b:\n",
    "        t2 = a\n",
    "    elif b==c:\n",
    "        t2 =b\n",
    "    elif c==a:\n",
    "        t2 = a\n",
    "    result = 1000+(t2*100)\n",
    "else:\n",
    "    result = max(t)*100\n",
    "print(result)"
   ]
  },
  {
   "cell_type": "markdown",
   "id": "ad95f742",
   "metadata": {},
   "source": [
    "# 반복문"
   ]
  },
  {
   "cell_type": "markdown",
   "id": "3c9f0d75",
   "metadata": {},
   "source": [
    "# 2739\n",
    "구구단"
   ]
  },
  {
   "cell_type": "code",
   "execution_count": 7,
   "id": "ce657c6f",
   "metadata": {},
   "outputs": [
    {
     "name": "stdout",
     "output_type": "stream",
     "text": [
      "2\n",
      "2 * 1 = 2\n",
      "2 * 2 = 4\n",
      "2 * 3 = 6\n",
      "2 * 4 = 8\n",
      "2 * 5 = 10\n",
      "2 * 6 = 12\n",
      "2 * 7 = 14\n",
      "2 * 8 = 16\n",
      "2 * 9 = 18\n"
     ]
    }
   ],
   "source": [
    "a = int(input())\n",
    "i = 1\n",
    "while i<10:\n",
    "    print(a,'*',i,'=',a*i)\n",
    "    i +=1"
   ]
  },
  {
   "cell_type": "markdown",
   "id": "09af4f9b",
   "metadata": {},
   "source": [
    "# 10950\n",
    "A+B를 여러번 출력하는 문제"
   ]
  },
  {
   "cell_type": "code",
   "execution_count": 25,
   "id": "79df5856",
   "metadata": {},
   "outputs": [
    {
     "name": "stdout",
     "output_type": "stream",
     "text": [
      "5\n",
      "1 1\n",
      "12 34\n",
      "5 500\n",
      "40 60\n",
      "1000 1000\n",
      "2\n",
      "46\n",
      "505\n",
      "100\n",
      "2000\n"
     ]
    }
   ],
   "source": [
    "a = int(input())\n",
    "b =[]\n",
    "i = 0\n",
    "while i<a:\n",
    "    n,m=input().split()\n",
    "    result = int(n)+int(m)\n",
    "    b.append(result)\n",
    "    i+=1\n",
    "i = 0\n",
    "while i<a:\n",
    "    print(b[i])\n",
    "    i+=1"
   ]
  },
  {
   "cell_type": "markdown",
   "id": "fc539a5b",
   "metadata": {},
   "source": [
    "# 8393\n",
    "1부터 N까지의 합을 구하는 문제. 물론 반복문 없이 풀 수도 있습니다."
   ]
  },
  {
   "cell_type": "code",
   "execution_count": 19,
   "id": "3bd04c6d",
   "metadata": {},
   "outputs": [
    {
     "name": "stdout",
     "output_type": "stream",
     "text": [
      "10\n",
      "55\n"
     ]
    }
   ],
   "source": [
    "a = int(input())\n",
    "i = 0\n",
    "result = 0\n",
    "for i in range(a+1):\n",
    "    result += i\n",
    "print(result)"
   ]
  },
  {
   "cell_type": "markdown",
   "id": "f575b15a",
   "metadata": {},
   "source": [
    "# 25304\n",
    "영수증"
   ]
  },
  {
   "cell_type": "code",
   "execution_count": 23,
   "id": "43b19e0a",
   "metadata": {
    "scrolled": true
   },
   "outputs": [
    {
     "name": "stdout",
     "output_type": "stream",
     "text": [
      "260000\n",
      "4\n",
      "20000 5\n",
      "30000 2\n",
      "10000 6\n",
      "5000 8\n",
      "Yes\n"
     ]
    }
   ],
   "source": [
    "a = int(input())\n",
    "b = int(input())\n",
    "i = 0\n",
    "sum1 = 0\n",
    "sum2 = 0\n",
    "for i in range(b):\n",
    "    c,d = input().split()\n",
    "    sum1 = int(c)*int(d)\n",
    "    sum2 += sum1\n",
    "if sum2 == a:\n",
    "    print(\"Yes\")\n",
    "else :\n",
    "    print(\"No\")"
   ]
  },
  {
   "cell_type": "markdown",
   "id": "01d6d8e1",
   "metadata": {},
   "source": [
    "# 15552\n",
    "빠르게 입력받고 출력하는 문제"
   ]
  },
  {
   "cell_type": "code",
   "execution_count": 37,
   "id": "0b54a2a4",
   "metadata": {
    "scrolled": true
   },
   "outputs": [
    {
     "name": "stdout",
     "output_type": "stream",
     "text": [
      "5 1 1 12 34 5 500 40 60 1000 1000\n"
     ]
    },
    {
     "ename": "ValueError",
     "evalue": "invalid literal for int() with base 10: '5 1 1 12 34 5 500 40 60 1000 1000'",
     "output_type": "error",
     "traceback": [
      "\u001b[1;31m---------------------------------------------------------------------------\u001b[0m",
      "\u001b[1;31mValueError\u001b[0m                                Traceback (most recent call last)",
      "Input \u001b[1;32mIn [37]\u001b[0m, in \u001b[0;36m<cell line: 2>\u001b[1;34m()\u001b[0m\n\u001b[0;32m      1\u001b[0m \u001b[38;5;28;01mimport\u001b[39;00m \u001b[38;5;21;01msys\u001b[39;00m\n\u001b[1;32m----> 2\u001b[0m T\u001b[38;5;241m=\u001b[39m\u001b[38;5;28;43mint\u001b[39;49m\u001b[43m(\u001b[49m\u001b[38;5;28;43minput\u001b[39;49m\u001b[43m(\u001b[49m\u001b[43m)\u001b[49m\u001b[43m)\u001b[49m\n\u001b[0;32m      3\u001b[0m \u001b[38;5;28;01mfor\u001b[39;00m i \u001b[38;5;129;01min\u001b[39;00m \u001b[38;5;28mrange\u001b[39m(T):\n\u001b[0;32m      4\u001b[0m     a,b\u001b[38;5;241m=\u001b[39m\u001b[38;5;28mmap\u001b[39m(\u001b[38;5;28mint\u001b[39m,sys\u001b[38;5;241m.\u001b[39mstdin\u001b[38;5;241m.\u001b[39mreadline()\u001b[38;5;241m.\u001b[39msplit())\n",
      "\u001b[1;31mValueError\u001b[0m: invalid literal for int() with base 10: '5 1 1 12 34 5 500 40 60 1000 1000'"
     ]
    }
   ],
   "source": [
    "import sys\n",
    "T=int(input())\n",
    "for i in range(T):\n",
    "    a,b=map(int,sys.stdin.readline().split())\n",
    "    print(a+b)"
   ]
  },
  {
   "cell_type": "markdown",
   "id": "a2a985af",
   "metadata": {},
   "source": [
    "# 11021\n",
    "A+B를 조금 더 아름답게 출력하는 문제"
   ]
  },
  {
   "cell_type": "code",
   "execution_count": 49,
   "id": "1f0c4e3f",
   "metadata": {},
   "outputs": [
    {
     "name": "stdout",
     "output_type": "stream",
     "text": [
      "5\n",
      "1 1\n",
      "2 3\n",
      "3 4\n",
      "9 8\n",
      "5 2\n",
      "Case #1: 2\n",
      "Case #2: 5\n",
      "Case #3: 7\n",
      "Case #4: 17\n",
      "Case #5: 7\n"
     ]
    }
   ],
   "source": [
    "a = int(input())\n",
    "b = []\n",
    "sum = 0\n",
    "for i in range(a):\n",
    "    c,d = map(int,input().split())\n",
    "    sum = c+d\n",
    "    b.append(sum)\n",
    "for i in range(a):\n",
    "    print(f'Case #{i+1}: {b[i]}')"
   ]
  },
  {
   "cell_type": "markdown",
   "id": "4bc9e342",
   "metadata": {},
   "source": [
    "# 11022\n",
    "A+B를 더 아름답게 출력하는 문제"
   ]
  },
  {
   "cell_type": "code",
   "execution_count": 52,
   "id": "5064595f",
   "metadata": {},
   "outputs": [
    {
     "name": "stdout",
     "output_type": "stream",
     "text": [
      "5\n",
      "1 1\n",
      "Case #1: 1 + 1 = 2\n",
      "2 3\n",
      "Case #2: 2 + 3 = 5\n",
      "3 4\n",
      "Case #3: 3 + 4 = 7\n",
      "9 8\n",
      "Case #4: 9 + 8 = 17\n",
      "5 2\n",
      "Case #5: 5 + 2 = 7\n"
     ]
    }
   ],
   "source": [
    "a = int(input())\n",
    "b = []\n",
    "sum = 0\n",
    "for i in range(a):\n",
    "    c,d = map(int,input().split())\n",
    "    sum = c+d\n",
    "    b.append(sum)\n",
    "    print(f'Case #{i+1}: {c} + {d} = {b[i]}')\n",
    "#f 로 합쳐서 출력"
   ]
  },
  {
   "cell_type": "markdown",
   "id": "f4285857",
   "metadata": {},
   "source": [
    "# 2438\n",
    "별을 찍는 문제 1"
   ]
  },
  {
   "cell_type": "code",
   "execution_count": 55,
   "id": "01fe8508",
   "metadata": {},
   "outputs": [
    {
     "name": "stdout",
     "output_type": "stream",
     "text": [
      "5\n",
      "*\n",
      "**\n",
      "***\n",
      "****\n",
      "*****\n"
     ]
    }
   ],
   "source": [
    "a = int(input())\n",
    "for i in range(a):\n",
    "    print('*'*(i+1))"
   ]
  },
  {
   "cell_type": "markdown",
   "id": "b754e23a",
   "metadata": {},
   "source": [
    "# 2439\n",
    "별을 찍는 문제 2"
   ]
  },
  {
   "cell_type": "code",
   "execution_count": 63,
   "id": "37815ad3",
   "metadata": {},
   "outputs": [
    {
     "name": "stdout",
     "output_type": "stream",
     "text": [
      "5\n",
      "     *\n",
      "    **\n",
      "   ***\n",
      "  ****\n",
      " *****\n"
     ]
    }
   ],
   "source": [
    "a= int(input())\n",
    "for i in range(1,a+1):\n",
    "    print(' '*(a-i)+'*'*i)"
   ]
  },
  {
   "cell_type": "markdown",
   "id": "6f5bcd85",
   "metadata": {},
   "source": [
    "# 10952\n",
    "0 0이 들어올 때까지 A+B를 출력하는 문제"
   ]
  },
  {
   "cell_type": "code",
   "execution_count": 69,
   "id": "16dbb0e6",
   "metadata": {},
   "outputs": [
    {
     "name": "stdout",
     "output_type": "stream",
     "text": [
      "1 1\n",
      "2\n",
      "2 3\n",
      "5\n",
      "3 4\n",
      "7\n",
      "9 8\n",
      "17\n",
      "5 2\n",
      "7\n",
      "0 0\n"
     ]
    }
   ],
   "source": [
    "while 1:\n",
    "    a,b = map(int,input().split())\n",
    "    if a==b==0:\n",
    "        break\n",
    "    print(a+b)\n",
    "    "
   ]
  },
  {
   "cell_type": "markdown",
   "id": "c0a6d22e",
   "metadata": {},
   "source": [
    "# 10951\n",
    "입력이 끝날 때까지 A+B를 출력하는 문제. EOF에 대해 알아 보세요."
   ]
  },
  {
   "cell_type": "code",
   "execution_count": 71,
   "id": "f800d396",
   "metadata": {},
   "outputs": [
    {
     "name": "stdout",
     "output_type": "stream",
     "text": [
      "1 1\n",
      "2\n",
      "2 3\n",
      "5\n",
      "3 4\n",
      "7\n",
      "9 8\n",
      "17\n",
      "5 2\n",
      "7\n",
      "\n"
     ]
    }
   ],
   "source": [
    "while 1:\n",
    "    try:\n",
    "        a,b=map(int,input().split())\n",
    "        print(a+b)\n",
    "    except:\n",
    "        break"
   ]
  },
  {
   "cell_type": "markdown",
   "id": "f067adaf",
   "metadata": {},
   "source": [
    "# 1110\n",
    "원래 수로 돌아올 때까지 연산을 반복하는 문제"
   ]
  },
  {
   "cell_type": "code",
   "execution_count": 100,
   "id": "0633d339",
   "metadata": {},
   "outputs": [
    {
     "name": "stdout",
     "output_type": "stream",
     "text": [
      "68\n",
      "4\n"
     ]
    }
   ],
   "source": [
    "count = 0\n",
    "n = int(input())\n",
    "ans = n\n",
    "while True:\n",
    "    a = n//10\n",
    "    b = n%10\n",
    "    c = (a+b)%10\n",
    "    n = (b*10)+c\n",
    "    count = count +1\n",
    "    if n==ans:\n",
    "        break\n",
    "print(count)"
   ]
  },
  {
   "cell_type": "markdown",
   "id": "c262b410",
   "metadata": {},
   "source": [
    "# 1차원배열"
   ]
  },
  {
   "cell_type": "markdown",
   "id": "b25bf8fc",
   "metadata": {},
   "source": [
    "# 10807\n",
    "배열을 입력받고 v를 찾는 문제"
   ]
  },
  {
   "cell_type": "code",
   "execution_count": 13,
   "id": "221c2cf6",
   "metadata": {},
   "outputs": [
    {
     "name": "stdout",
     "output_type": "stream",
     "text": [
      "1 4 1 2 4 2 4 2 3 4 4\n",
      "2\n",
      "3\n"
     ]
    }
   ],
   "source": [
    "#a = int(input())\n",
    "list1=list(map(int,input().split()))\n",
    "k = int(input())\n",
    "print(list1.count(k))"
   ]
  },
  {
   "cell_type": "markdown",
   "id": "cb169a46",
   "metadata": {},
   "source": [
    "# 10871\n",
    "배열을 입력받고 X보다 작은 수를 찾는 문제"
   ]
  },
  {
   "cell_type": "code",
   "execution_count": 21,
   "id": "dadaf5e9",
   "metadata": {},
   "outputs": [
    {
     "name": "stdout",
     "output_type": "stream",
     "text": [
      "10 5\n",
      "1 10 4 9 2 3 8 5 7 6\n",
      "1\n",
      "4\n",
      "2\n",
      "3\n"
     ]
    }
   ],
   "source": [
    "n,x = map(int,input().split())\n",
    "list1=list(map(int,input().split()))\n",
    "count = 0\n",
    "ans = []\n",
    "for i in range(n):\n",
    "    if list1[i]<x:\n",
    "        count+=1\n",
    "        ans.append(list1[i])\n",
    "for i in range(count):\n",
    "    print(ans[i])"
   ]
  },
  {
   "cell_type": "markdown",
   "id": "95e91025",
   "metadata": {},
   "source": [
    "# 10818\n",
    "최솟값과 최댓값을 찾는 문제"
   ]
  },
  {
   "cell_type": "code",
   "execution_count": 25,
   "id": "c71706e2",
   "metadata": {},
   "outputs": [
    {
     "name": "stdout",
     "output_type": "stream",
     "text": [
      "5\n",
      "20 10 35 30 7\n",
      "7 35\n"
     ]
    }
   ],
   "source": [
    "a = int(input())\n",
    "list1=list(map(int,input().split()))\n",
    "print(min(list1),max(list1))"
   ]
  },
  {
   "cell_type": "markdown",
   "id": "ca194b65",
   "metadata": {},
   "source": [
    "# 2562\n",
    "최댓값이 어디에 있는지 찾는 문제"
   ]
  },
  {
   "cell_type": "code",
   "execution_count": 31,
   "id": "ef32be5f",
   "metadata": {},
   "outputs": [
    {
     "name": "stdout",
     "output_type": "stream",
     "text": [
      "3\n",
      "29\n",
      "38\n",
      "12\n",
      "57\n",
      "74\n",
      "40\n",
      "85\n",
      "61\n",
      "85\n",
      "8\n"
     ]
    }
   ],
   "source": [
    "a=[]\n",
    "for i in range(9):\n",
    "    b = int(input())\n",
    "    a.append(b)\n",
    "c = max(a)\n",
    "for i in range(9):\n",
    "    if c==a[i]:\n",
    "        ans = i+1\n",
    "print(c)\n",
    "print(ans)"
   ]
  },
  {
   "cell_type": "markdown",
   "id": "9128fa65",
   "metadata": {},
   "source": [
    "# 5597\n",
    "과제 제출 기한이 지났습니다."
   ]
  },
  {
   "cell_type": "code",
   "execution_count": 45,
   "id": "0ac6fd5c",
   "metadata": {},
   "outputs": [
    {
     "name": "stdout",
     "output_type": "stream",
     "text": [
      "3\n",
      "1\n",
      "4\n",
      "5\n",
      "7\n",
      "9\n",
      "6\n",
      "10\n",
      "11\n",
      "12\n",
      "13\n",
      "14\n",
      "15\n",
      "16\n",
      "17\n",
      "18\n",
      "19\n",
      "20\n",
      "21\n",
      "22\n",
      "23\n",
      "24\n",
      "25\n",
      "26\n",
      "27\n",
      "28\n",
      "29\n",
      "30\n",
      "2\n",
      "8\n"
     ]
    }
   ],
   "source": [
    "a=[1,2,3,4,5,6,7,8,9,10,11,12,13,14,15,16,17,18,19,20,21,22,23,24,25,26,27,28,29,30]\n",
    "for i in range(28):\n",
    "    b=int(input())\n",
    "    for i in range(30):\n",
    "        if a[i]==b:\n",
    "            a[i]=0\n",
    "a.sort()\n",
    "a.reverse()\n",
    "print(a[1])\n",
    "print(a[0])"
   ]
  },
  {
   "cell_type": "markdown",
   "id": "47767111",
   "metadata": {},
   "source": [
    "# 3052\n",
    "배열을 활용하여 서로 다른 값의 개수를 찾는 문제"
   ]
  },
  {
   "cell_type": "code",
   "execution_count": 86,
   "id": "20dc1397",
   "metadata": {},
   "outputs": [
    {
     "name": "stdout",
     "output_type": "stream",
     "text": [
      "39\n",
      "40\n",
      "41\n",
      "42\n",
      "43\n",
      "44\n",
      "82\n",
      "83\n",
      "84\n",
      "85\n",
      "[2, 2, 1, 0, 0, 0, 0, 0, 0, 0, 0, 0, 0, 0, 0, 0, 0, 0, 0, 0, 0, 0, 0, 0, 0, 0, 0, 0, 0, 0, 0, 0, 0, 0, 0, 0, 0, 0, 0, 1, 2, 2]\n",
      "6\n"
     ]
    }
   ],
   "source": [
    "list1=[]\n",
    "list2=[]\n",
    "ans = 0\n",
    "for i in range(10):\n",
    "    b = int(input())\n",
    "    c = b%42\n",
    "    list1.append(c)\n",
    "for i in range(42):\n",
    "    d = list1.count(i)\n",
    "    list2.append(d)\n",
    "\n",
    "for i in range(42):\n",
    "    if list2[i]!=0:\n",
    "        ans += 1\n",
    "print(ans)"
   ]
  },
  {
   "cell_type": "markdown",
   "id": "82fd6fb0",
   "metadata": {},
   "source": [
    "# 1546\n",
    "평균을 조작하는 문제"
   ]
  },
  {
   "cell_type": "code",
   "execution_count": 91,
   "id": "e81d2edc",
   "metadata": {},
   "outputs": [
    {
     "name": "stdout",
     "output_type": "stream",
     "text": [
      "4\n",
      "1 100 100 100\n",
      "75.25\n"
     ]
    }
   ],
   "source": [
    "total = 0\n",
    "a = int(input())\n",
    "list1=list(map(int,input().split()))\n",
    "b = max(list1)\n",
    "for i in range(a):\n",
    "    c = (list1[i]/b)*100\n",
    "    total += c\n",
    "ans = total/a\n",
    "print(ans)"
   ]
  },
  {
   "cell_type": "markdown",
   "id": "973d6882",
   "metadata": {},
   "source": [
    "# 새싹"
   ]
  },
  {
   "cell_type": "markdown",
   "id": "9f4782d9",
   "metadata": {},
   "source": [
    "# 10699\n",
    "오늘 날짜"
   ]
  },
  {
   "cell_type": "code",
   "execution_count": 111,
   "id": "5f6b9c01",
   "metadata": {},
   "outputs": [
    {
     "name": "stdout",
     "output_type": "stream",
     "text": [
      "2023-02-02\n"
     ]
    }
   ],
   "source": [
    "import datetime as dt\n",
    "x=dt.datetime.now()\n",
    "a= x.year\n",
    "b= x.month\n",
    "c= x.day\n",
    "if b<10:\n",
    "    if c<10:\n",
    "        print(f'{a}-0{b}-0{c}')\n",
    "    else:\n",
    "        print(f'{a}-0{b}-{c}')\n",
    "else:\n",
    "    if c<10:\n",
    "        print(f'{a}-{b}-0{c}')\n",
    "    else:\n",
    "        print(f'{a}-{b}-{c}')"
   ]
  },
  {
   "cell_type": "markdown",
   "id": "d13499b3",
   "metadata": {},
   "source": [
    "# 7287\n",
    "등록"
   ]
  },
  {
   "cell_type": "code",
   "execution_count": 112,
   "id": "6eb7d354",
   "metadata": {},
   "outputs": [
    {
     "name": "stdout",
     "output_type": "stream",
     "text": [
      "41\n",
      "house9895\n"
     ]
    }
   ],
   "source": [
    "print(41)\n",
    "print(\"house9895\")"
   ]
  },
  {
   "cell_type": "markdown",
   "id": "63ea0e1d",
   "metadata": {},
   "source": [
    "# 11382\n",
    "꼬마정민"
   ]
  },
  {
   "cell_type": "code",
   "execution_count": 114,
   "id": "337efc44",
   "metadata": {},
   "outputs": [
    {
     "name": "stdout",
     "output_type": "stream",
     "text": [
      "77 77 7777\n",
      "7931\n"
     ]
    }
   ],
   "source": [
    "a,b,c = map(int,input().split())\n",
    "print(a+b+c)"
   ]
  },
  {
   "cell_type": "markdown",
   "id": "09e6672d",
   "metadata": {},
   "source": [
    "# 2420\n",
    "사파리 월드"
   ]
  },
  {
   "cell_type": "code",
   "execution_count": 116,
   "id": "5377ed3f",
   "metadata": {},
   "outputs": [
    {
     "name": "stdout",
     "output_type": "stream",
     "text": [
      "-2 5\n",
      "7\n"
     ]
    }
   ],
   "source": [
    "a,b = map(int,input().split())\n",
    "print(abs(a-b))"
   ]
  },
  {
   "cell_type": "markdown",
   "id": "bd73c56c",
   "metadata": {},
   "source": [
    "# 2741\n",
    "N찍기"
   ]
  },
  {
   "cell_type": "code",
   "execution_count": 118,
   "id": "a9269f66",
   "metadata": {},
   "outputs": [
    {
     "name": "stdout",
     "output_type": "stream",
     "text": [
      "5\n",
      "1\n",
      "2\n",
      "3\n",
      "4\n",
      "5\n"
     ]
    }
   ],
   "source": [
    "a = int(input())\n",
    "for i in range(a):\n",
    "    print(i+1)"
   ]
  },
  {
   "cell_type": "markdown",
   "id": "d08707c1",
   "metadata": {},
   "source": [
    "# 10872\n",
    "팩토리얼"
   ]
  },
  {
   "cell_type": "code",
   "execution_count": 124,
   "id": "b81af795",
   "metadata": {},
   "outputs": [
    {
     "name": "stdout",
     "output_type": "stream",
     "text": [
      "10\n",
      "3628800\n"
     ]
    }
   ],
   "source": [
    "a = int(input())\n",
    "ans = 1\n",
    "for i in range(1,a+1):\n",
    "    ans *=i\n",
    "print(ans)"
   ]
  },
  {
   "cell_type": "markdown",
   "id": "51b8c018",
   "metadata": {},
   "source": [
    "# 15964\n",
    "이상한 기호"
   ]
  },
  {
   "cell_type": "code",
   "execution_count": 143,
   "id": "ca0b7aa6",
   "metadata": {},
   "outputs": [
    {
     "name": "stdout",
     "output_type": "stream",
     "text": [
      "3 4\n"
     ]
    },
    {
     "data": {
      "text/plain": [
       "-7"
      ]
     },
     "execution_count": 143,
     "metadata": {},
     "output_type": "execute_result"
    }
   ],
   "source": [
    "def k(A,B):\n",
    "    return (A+B)*(A-B)\n",
    "a,b = map(int,input().split())\n",
    "k(a,b)"
   ]
  },
  {
   "cell_type": "markdown",
   "id": "28964c44",
   "metadata": {},
   "source": [
    "# 2475\n",
    "검증수"
   ]
  },
  {
   "cell_type": "code",
   "execution_count": 145,
   "id": "1b34134c",
   "metadata": {},
   "outputs": [
    {
     "name": "stdout",
     "output_type": "stream",
     "text": [
      "0 4 2 5 6\n",
      "1\n"
     ]
    }
   ],
   "source": [
    "a,b,c,d,e = map(int,input().split())\n",
    "sum = a*a+b*b+c*c+d*d+e*e\n",
    "ans = sum%10\n",
    "print(ans)"
   ]
  },
  {
   "cell_type": "code",
   "execution_count": null,
   "id": "d3deffdc",
   "metadata": {},
   "outputs": [],
   "source": []
  }
 ],
 "metadata": {
  "kernelspec": {
   "display_name": "Python 3 (ipykernel)",
   "language": "python",
   "name": "python3"
  },
  "language_info": {
   "codemirror_mode": {
    "name": "ipython",
    "version": 3
   },
   "file_extension": ".py",
   "mimetype": "text/x-python",
   "name": "python",
   "nbconvert_exporter": "python",
   "pygments_lexer": "ipython3",
   "version": "3.9.12"
  }
 },
 "nbformat": 4,
 "nbformat_minor": 5
}
