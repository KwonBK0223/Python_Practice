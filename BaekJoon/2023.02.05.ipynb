{
 "cells": [
  {
   "cell_type": "markdown",
   "id": "22f5d768",
   "metadata": {},
   "source": [
    "# 2566\n",
    "최댓값"
   ]
  },
  {
   "cell_type": "code",
   "execution_count": 31,
   "id": "2e056e86",
   "metadata": {
    "scrolled": true
   },
   "outputs": [
    {
     "name": "stdout",
     "output_type": "stream",
     "text": [
      "3 23 85 34 17 74 25 52 65\n",
      "10 7 39 42 88 52 14 72 63\n",
      "87 42 18 78 53 45 18 84 53\n",
      "34 28 64 85 12 16 75 36 55\n",
      "21 77 45 35 28 75 90 76 1\n",
      "25 87 65 15 28 11 37 28 74\n",
      "65 27 75 41 7 89 78 64 39\n",
      "47 47 70 45 23 65 3 41 44\n",
      "87 13 82 38 31 12 29 29 80\n",
      "90\n",
      "4 6 "
     ]
    }
   ],
   "source": [
    "matrix = []\n",
    "list1 = [] # 각행 최대값 리스트\n",
    "for i in range(9):\n",
    "    a = list(map(int,input().split()))\n",
    "    matrix.append(a)\n",
    "for i in range(9):\n",
    "    b = max(matrix[i])\n",
    "    list1.append(b)\n",
    "c = max(list1)\n",
    "for i in range(9):\n",
    "    for j in range(9):\n",
    "        if matrix[i][j] == c:\n",
    "            e = i+1\n",
    "            f = j+1\n",
    "print(c)\n",
    "print(e,f,end =\" \")"
   ]
  },
  {
   "cell_type": "markdown",
   "id": "02805271",
   "metadata": {},
   "source": [
    "# 4153\n",
    "직각삼각형"
   ]
  },
  {
   "cell_type": "code",
   "execution_count": 83,
   "id": "4b1a65e5",
   "metadata": {
    "scrolled": true
   },
   "outputs": [
    {
     "name": "stdout",
     "output_type": "stream",
     "text": [
      "3 4 5\n",
      "right\n",
      "25 52 60\n",
      "wrong\n",
      "5 12 13\n",
      "right\n",
      "0 0 0\n"
     ]
    }
   ],
   "source": [
    "while 1:\n",
    "    a = list(map(int,input().split()))\n",
    "    if a==[0,0,0]:\n",
    "        break\n",
    "    x = max(a)\n",
    "    a.remove(x)\n",
    "    y = a[0]\n",
    "    z = a[1]\n",
    "    if x*x == y*y + z*z:\n",
    "        print(\"right\")\n",
    "    else:\n",
    "        print(\"wrong\")\n",
    "    "
   ]
  },
  {
   "cell_type": "markdown",
   "id": "2ce99225",
   "metadata": {},
   "source": [
    "# 10250\n",
    "ACM 호텔"
   ]
  },
  {
   "cell_type": "code",
   "execution_count": 94,
   "id": "6cfb7b13",
   "metadata": {},
   "outputs": [
    {
     "name": "stdout",
     "output_type": "stream",
     "text": [
      "2\n",
      "6 12 10\n",
      "402\n",
      "30 50 72\n",
      "1203\n"
     ]
    }
   ],
   "source": [
    "num = int(input())\n",
    "for i in range(num):\n",
    "    x,y,z = map(int,input().split())\n",
    "    a = (z//x)+1\n",
    "    b = (z%x)\n",
    "    if z % x == 0:\n",
    "        a= z//x\n",
    "        b= x\n",
    "    ans = b*100+a\n",
    "    print(ans)"
   ]
  }
 ],
 "metadata": {
  "kernelspec": {
   "display_name": "Python 3 (ipykernel)",
   "language": "python",
   "name": "python3"
  },
  "language_info": {
   "codemirror_mode": {
    "name": "ipython",
    "version": 3
   },
   "file_extension": ".py",
   "mimetype": "text/x-python",
   "name": "python",
   "nbconvert_exporter": "python",
   "pygments_lexer": "ipython3",
   "version": "3.9.12"
  }
 },
 "nbformat": 4,
 "nbformat_minor": 5
}
