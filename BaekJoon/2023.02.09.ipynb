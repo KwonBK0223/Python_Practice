{
 "cells": [
  {
   "cell_type": "markdown",
   "id": "f8879164",
   "metadata": {},
   "source": [
    "# 1316\n",
    "그룹 단어 체커"
   ]
  },
  {
   "cell_type": "code",
   "execution_count": 20,
   "id": "c17469ed",
   "metadata": {},
   "outputs": [
    {
     "name": "stdout",
     "output_type": "stream",
     "text": [
      "1\n",
      "z\n",
      "1\n"
     ]
    }
   ],
   "source": [
    "n = int(input())\n",
    "ans = 0\n",
    "for j in range(n):\n",
    "    a=input()\n",
    "    b=len(a)\n",
    "    c=[]\n",
    "    count = 0\n",
    "    for i in range(b):\n",
    "        c.append(a[i])\n",
    "    for i in range(b-1):   #연속되는 값을 비교뒤 같으면 앞에것을 '0' 으로 바꿈\n",
    "        if c[i]==c[i+1]:   #연속해서 3개 이상 나오더라도 마지막 값만 남고 \n",
    "            c[i]='0'        #전부 '0'으로 바뀜\n",
    "    while '0' in c:\n",
    "        c.remove('0')       #'0' 모두 제거하고\n",
    "    c.sort()                \n",
    "    for i in range(len(c)-1):\n",
    "        if c[i]!=c[i+1]:   \n",
    "            count +=1      #연속된 2개의 값을 비교해서 같은 횟수를 찾고\n",
    "    if count == len(c)-1:  # 그 값과 반복한 횟수의 길이가 같다면 그룹단어\n",
    "        ans+=1\n",
    "print(ans)"
   ]
  },
  {
   "cell_type": "markdown",
   "id": "859bc80a",
   "metadata": {},
   "source": [
    "# 2609\n",
    "최대공약수와 최소공배수"
   ]
  },
  {
   "cell_type": "markdown",
   "id": "abed8416",
   "metadata": {},
   "source": [
    "정의로 풀기"
   ]
  },
  {
   "cell_type": "code",
   "execution_count": 59,
   "id": "883f2ff1",
   "metadata": {},
   "outputs": [
    {
     "name": "stdout",
     "output_type": "stream",
     "text": [
      "24 18\n",
      "6\n",
      "72\n"
     ]
    }
   ],
   "source": [
    "a, b = map(int,input().split())\n",
    "lcm = 1\n",
    "list1 = []\n",
    "list2 = []\n",
    "if a<b:\n",
    "    temp = a\n",
    "    a = b\n",
    "    b = temp\n",
    "for i in range(2,b+1):\n",
    "    if a%i == 0:\n",
    "        list1.append(i)\n",
    "for i in list1:\n",
    "    if b%i == 0:\n",
    "        list2.append(i)\n",
    "lcm = max(list2)\n",
    "gcd = (a*b)/lcm\n",
    "print(lcm)\n",
    "print(int(gcd))"
   ]
  },
  {
   "cell_type": "markdown",
   "id": "35af41f0",
   "metadata": {},
   "source": [
    "파이썬 함수"
   ]
  },
  {
   "cell_type": "code",
   "execution_count": 62,
   "id": "d4c50c46",
   "metadata": {
    "scrolled": true
   },
   "outputs": [
    {
     "name": "stdout",
     "output_type": "stream",
     "text": [
      "24 18\n",
      "6\n",
      "72\n"
     ]
    }
   ],
   "source": [
    "import math\n",
    "a,b = map(int,input().split())\n",
    "print(math.gcd(a,b))\n",
    "print(math.lcm(a,b))"
   ]
  },
  {
   "cell_type": "markdown",
   "id": "31824600",
   "metadata": {},
   "source": [
    "# 1271\n",
    "엄청난 부자2"
   ]
  },
  {
   "cell_type": "code",
   "execution_count": 99,
   "id": "f76ed15f",
   "metadata": {},
   "outputs": [
    {
     "name": "stdout",
     "output_type": "stream",
     "text": [
      "1000 100\n",
      "10\n",
      "0\n"
     ]
    }
   ],
   "source": [
    "a,b = map(int,input().split())\n",
    "print(a//b)\n",
    "print(a%b)"
   ]
  }
 ],
 "metadata": {
  "kernelspec": {
   "display_name": "Python 3 (ipykernel)",
   "language": "python",
   "name": "python3"
  },
  "language_info": {
   "codemirror_mode": {
    "name": "ipython",
    "version": 3
   },
   "file_extension": ".py",
   "mimetype": "text/x-python",
   "name": "python",
   "nbconvert_exporter": "python",
   "pygments_lexer": "ipython3",
   "version": "3.9.12"
  }
 },
 "nbformat": 4,
 "nbformat_minor": 5
}
