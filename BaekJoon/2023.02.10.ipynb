{
 "cells": [
  {
   "cell_type": "markdown",
   "id": "b8864e5b",
   "metadata": {},
   "source": [
    "# 2798\n",
    "블랙잭"
   ]
  },
  {
   "cell_type": "code",
   "execution_count": 23,
   "id": "86d8e9d6",
   "metadata": {},
   "outputs": [
    {
     "name": "stdout",
     "output_type": "stream",
     "text": [
      "10 500\n",
      "93 181 245 214 315 36 185 138 216 295\n",
      "497\n"
     ]
    }
   ],
   "source": [
    "n,m = map(int,input().split())\n",
    "card = list(map(int,input().split()))\n",
    "ans = 0\n",
    "for i in range(n):\n",
    "    for j in range(i+1,n):       # 카드를 총 3장을 받는데 그 카드를\n",
    "        for k in range(j+1,n):   # 앞에 순서부터 뽑는다\n",
    "            if card[i]+card[j]+card[k]>m: continue \n",
    "            else :\n",
    "                ans = max(ans, card[i]+card[j]+card[k])\n",
    "print(ans)\n"
   ]
  },
  {
   "cell_type": "markdown",
   "id": "e6d62862",
   "metadata": {},
   "source": [
    "# 11050\n",
    "이항계수"
   ]
  },
  {
   "cell_type": "code",
   "execution_count": 37,
   "id": "2ac95e56",
   "metadata": {
    "scrolled": true
   },
   "outputs": [
    {
     "name": "stdout",
     "output_type": "stream",
     "text": [
      "5 2\n",
      "10\n"
     ]
    }
   ],
   "source": [
    "a,b = map(int,input().split())\n",
    "up = 1\n",
    "down1 = 1\n",
    "down2 = 1\n",
    "\n",
    "for i in range(a):\n",
    "    up *= (a-i)\n",
    "for i in range(b):\n",
    "    down1 *=(b-i)\n",
    "for i in range(a-b):\n",
    "    down2 *=(a-b-i)\n",
    "ans = int(up/(down1*down2))\n",
    "print(ans)"
   ]
  },
  {
   "cell_type": "markdown",
   "id": "4e22722d",
   "metadata": {},
   "source": [
    "# 2440\n",
    "별찍기 -3"
   ]
  },
  {
   "cell_type": "code",
   "execution_count": 38,
   "id": "9ce49d2a",
   "metadata": {
    "scrolled": true
   },
   "outputs": [
    {
     "name": "stdout",
     "output_type": "stream",
     "text": [
      "5\n",
      "*****\n",
      "****\n",
      "***\n",
      "**\n",
      "*\n"
     ]
    }
   ],
   "source": [
    "a = int(input())\n",
    "while 1:\n",
    "    if a==0:break\n",
    "    print('*'*a)\n",
    "    a-=1"
   ]
  },
  {
   "cell_type": "markdown",
   "id": "96a67aa6",
   "metadata": {},
   "source": [
    "# 10039\n",
    "평균점수"
   ]
  },
  {
   "cell_type": "code",
   "execution_count": 44,
   "id": "72286238",
   "metadata": {},
   "outputs": [
    {
     "name": "stdout",
     "output_type": "stream",
     "text": [
      "10\n",
      "65\n",
      "100\n",
      "30\n",
      "95\n",
      "68\n"
     ]
    }
   ],
   "source": [
    "score =[]\n",
    "for i in range(5):\n",
    "    a = int(input())\n",
    "    score.append(a)\n",
    "for i in range(5):\n",
    "    if score[i]<40:\n",
    "        score[i]=40\n",
    "total = sum(score)\n",
    "ans = int(total/5)\n",
    "print(ans)"
   ]
  },
  {
   "cell_type": "markdown",
   "id": "2f4717ed",
   "metadata": {},
   "source": [
    "# 10817\n",
    "세수"
   ]
  },
  {
   "cell_type": "code",
   "execution_count": 45,
   "id": "4dcdd58b",
   "metadata": {},
   "outputs": [
    {
     "name": "stdout",
     "output_type": "stream",
     "text": [
      "20 30 10\n",
      "20\n"
     ]
    }
   ],
   "source": [
    "a = list(map(int,input().split()))\n",
    "a.sort()\n",
    "print(a[1])"
   ]
  },
  {
   "cell_type": "markdown",
   "id": "7356af85",
   "metadata": {},
   "source": [
    "# 2441\n",
    "별찍기 -4\n"
   ]
  },
  {
   "cell_type": "code",
   "execution_count": 58,
   "id": "16747765",
   "metadata": {},
   "outputs": [
    {
     "name": "stdout",
     "output_type": "stream",
     "text": [
      "5\n",
      "*****\n",
      " ****\n",
      "  ***\n",
      "   **\n",
      "    *\n"
     ]
    }
   ],
   "source": [
    "a = int(input())\n",
    "i = 0\n",
    "while 1:\n",
    "    if a==0:break\n",
    "    print(' '*i+'*'*a)\n",
    "    a-=1\n",
    "    i+=1"
   ]
  },
  {
   "cell_type": "markdown",
   "id": "8a99abb3",
   "metadata": {},
   "source": [
    "# 11721\n",
    "열 개씩 끊어 출력"
   ]
  },
  {
   "cell_type": "code",
   "execution_count": 66,
   "id": "ef700054",
   "metadata": {},
   "outputs": [
    {
     "name": "stdout",
     "output_type": "stream",
     "text": [
      "OneTwoThreeFourFiveSixSevenEightNineTen\n",
      "OneTwoThre\n",
      "eFourFiveS\n",
      "ixSevenEig\n",
      "htNineTen\n"
     ]
    }
   ],
   "source": [
    "a = input()\n",
    "b = len(a)\n",
    "c = (b//10)+1\n",
    "for i in range(c):\n",
    "    print(a[0+i*10:10+10*i])"
   ]
  },
  {
   "cell_type": "markdown",
   "id": "d3968e57",
   "metadata": {},
   "source": [
    "# 11719\n",
    "그대로 출력하기 2"
   ]
  },
  {
   "cell_type": "code",
   "execution_count": null,
   "id": "27566026",
   "metadata": {},
   "outputs": [],
   "source": [
    "while True:\n",
    "    try:\n",
    "        print(input())\n",
    "    except EOFError:\n",
    "        break"
   ]
  },
  {
   "cell_type": "markdown",
   "id": "d503536e",
   "metadata": {},
   "source": [
    "# 2242\n",
    "별 찍기 -5"
   ]
  },
  {
   "cell_type": "code",
   "execution_count": 69,
   "id": "cd49ce61",
   "metadata": {
    "scrolled": true
   },
   "outputs": [
    {
     "name": "stdout",
     "output_type": "stream",
     "text": [
      "5\n",
      "    *\n",
      "   ***\n",
      "  *****\n",
      " *******\n",
      "*********\n"
     ]
    }
   ],
   "source": [
    "a = int(input())\n",
    "for i in range(a):\n",
    "    print(' '*(a-1-i)+'*'*(2*i+1))"
   ]
  },
  {
   "cell_type": "markdown",
   "id": "d015faef",
   "metadata": {},
   "source": [
    "# 10870\n",
    "피보나치 수 5"
   ]
  },
  {
   "cell_type": "code",
   "execution_count": 86,
   "id": "55e11942",
   "metadata": {},
   "outputs": [
    {
     "name": "stdout",
     "output_type": "stream",
     "text": [
      "17\n",
      "1597\n"
     ]
    }
   ],
   "source": [
    "a = int(input())\n",
    "x = 0\n",
    "y = 1\n",
    "z = 0   # 이걸 선언 안해주면 런타임 에러 in BOJ\n",
    "while 1:\n",
    "    if a == 1:\n",
    "        print(1)\n",
    "        break\n",
    "    for i in range(a-1):\n",
    "        z = y + x\n",
    "        x = y\n",
    "        y = z\n",
    "    print(z)\n",
    "    break"
   ]
  },
  {
   "cell_type": "markdown",
   "id": "31686042",
   "metadata": {},
   "source": [
    "# 2747\n",
    "피보나치수"
   ]
  },
  {
   "cell_type": "code",
   "execution_count": 99,
   "id": "ccd5c452",
   "metadata": {},
   "outputs": [
    {
     "name": "stdout",
     "output_type": "stream",
     "text": [
      "10\n",
      "55\n"
     ]
    }
   ],
   "source": [
    "a = int(input())\n",
    "x = 0\n",
    "y = 1\n",
    "z = 0   # 이걸 선언 안해주면 런타임 에러 in BOJ\n",
    "while 1:\n",
    "    if a == 1:\n",
    "        print(1)\n",
    "        break\n",
    "    for i in range(a-1):\n",
    "        z = y + x\n",
    "        x = y\n",
    "        y = z\n",
    "    print(z)\n",
    "    break"
   ]
  },
  {
   "cell_type": "markdown",
   "id": "0491971a",
   "metadata": {},
   "source": [
    "# 1924\n",
    "2007년"
   ]
  },
  {
   "cell_type": "code",
   "execution_count": 139,
   "id": "512e9030",
   "metadata": {},
   "outputs": [
    {
     "name": "stdout",
     "output_type": "stream",
     "text": [
      "3 14\n",
      "WED\n"
     ]
    }
   ],
   "source": [
    "day = [31,28,31,30,31,30,31,31,30,31,30,31]\n",
    "week = ['SUN','MON','TUE','WED','THU','FRI','SAT']\n",
    "a,b = map(int,input().split())\n",
    "mon = a-1\n",
    "day_sum = day[0:mon]\n",
    "total = 0\n",
    "ans = 0\n",
    "for i in range(len(day_sum)):\n",
    "    total += day_sum[i]\n",
    "total += b\n",
    "ans = total%7\n",
    "print(week[ans])"
   ]
  },
  {
   "cell_type": "markdown",
   "id": "57f8f735",
   "metadata": {},
   "source": [
    "# 1357\n",
    "뒤집힌 덧셈"
   ]
  },
  {
   "cell_type": "code",
   "execution_count": 177,
   "id": "cd056b7b",
   "metadata": {},
   "outputs": [
    {
     "name": "stdout",
     "output_type": "stream",
     "text": [
      "456 789\n",
      "1461\n"
     ]
    }
   ],
   "source": [
    "a ,b =map(int,input().split())\n",
    "a1 = str(a)\n",
    "b1 = str(b)\n",
    "a2=a1[::-1]   #문자열을 reverse 하는 방법\n",
    "b2=b1[::-1]\n",
    "a3=int(a2)\n",
    "b3=int(b2)\n",
    "s = a3+b3\n",
    "s1 = str(s)\n",
    "s2 = s1[::-1]\n",
    "print(int(s2))"
   ]
  }
 ],
 "metadata": {
  "kernelspec": {
   "display_name": "Python 3 (ipykernel)",
   "language": "python",
   "name": "python3"
  },
  "language_info": {
   "codemirror_mode": {
    "name": "ipython",
    "version": 3
   },
   "file_extension": ".py",
   "mimetype": "text/x-python",
   "name": "python",
   "nbconvert_exporter": "python",
   "pygments_lexer": "ipython3",
   "version": "3.9.12"
  }
 },
 "nbformat": 4,
 "nbformat_minor": 5
}
