{
 "cells": [
  {
   "cell_type": "markdown",
   "id": "7d43abb4",
   "metadata": {},
   "source": [
    "# 2558\n",
    "A+B"
   ]
  },
  {
   "cell_type": "code",
   "execution_count": 1,
   "id": "6d45e0c7",
   "metadata": {},
   "outputs": [
    {
     "name": "stdout",
     "output_type": "stream",
     "text": [
      "1\n",
      "2\n",
      "3\n"
     ]
    }
   ],
   "source": [
    "a = int(input())\n",
    "b = int(input())\n",
    "print(a+b)"
   ]
  },
  {
   "cell_type": "markdown",
   "id": "27b2d7f4",
   "metadata": {},
   "source": [
    "# 3046\n",
    "R2"
   ]
  },
  {
   "cell_type": "code",
   "execution_count": 4,
   "id": "9b74b79c",
   "metadata": {},
   "outputs": [
    {
     "name": "stdout",
     "output_type": "stream",
     "text": [
      "4 3\n",
      "2\n"
     ]
    }
   ],
   "source": [
    "r1 ,s=map(int,input().split())\n",
    "r2 = 2*s-r1\n",
    "print(r2)\n"
   ]
  },
  {
   "cell_type": "markdown",
   "id": "139cae18",
   "metadata": {},
   "source": [
    "# 10178\n",
    "할로윈의 사탕"
   ]
  },
  {
   "cell_type": "code",
   "execution_count": 15,
   "id": "ded0156e",
   "metadata": {},
   "outputs": [
    {
     "name": "stdout",
     "output_type": "stream",
     "text": [
      "5\n",
      "22 3\n",
      "You get 7 piece(s) and your dad gets 1 piece(s).\n",
      "15 5\n",
      "You get 3 piece(s) and your dad gets 0 piece(s).\n",
      "99 8\n",
      "You get 12 piece(s) and your dad gets 3 piece(s).\n",
      "7 4\n",
      "You get 1 piece(s) and your dad gets 3 piece(s).\n",
      "101 5\n",
      "You get 20 piece(s) and your dad gets 1 piece(s).\n"
     ]
    }
   ],
   "source": [
    "a = int(input())\n",
    "for i in range(a):\n",
    "    x,y=map(int,input().split())\n",
    "    print(f'You get {x//y} piece(s) and your dad gets {x%y} piece(s).')"
   ]
  },
  {
   "cell_type": "markdown",
   "id": "a1d288a3",
   "metadata": {},
   "source": [
    "# 10953\n",
    "A+B 사이에 AB사이에 , 넣기"
   ]
  },
  {
   "cell_type": "code",
   "execution_count": 21,
   "id": "0652d34e",
   "metadata": {},
   "outputs": [
    {
     "name": "stdout",
     "output_type": "stream",
     "text": [
      "5\n",
      "1,1\n",
      "2\n",
      "2,3\n",
      "5\n",
      "3,4\n",
      "7\n",
      "9,8\n",
      "17\n",
      "5,2\n",
      "7\n"
     ]
    }
   ],
   "source": [
    "a = int(input())\n",
    "for i in range(a):\n",
    "    x,y=map(int,input().split(','))\n",
    "    print(x+y)\n",
    "    "
   ]
  },
  {
   "cell_type": "markdown",
   "id": "6ef54136",
   "metadata": {},
   "source": [
    "# 2693\n",
    "N번째 큰수"
   ]
  },
  {
   "cell_type": "code",
   "execution_count": 23,
   "id": "0dcdf85c",
   "metadata": {},
   "outputs": [
    {
     "name": "stdout",
     "output_type": "stream",
     "text": [
      "4\n",
      "1 2 3 4 5 6 7 8 9 1000\n",
      "8\n",
      "338 304 619 95 343 496 489 116 98 127\n",
      "489\n",
      "931 240 986 894 826 640 965 833 136 138\n",
      "931\n",
      "940 955 364 188 133 254 501 122 768 408\n",
      "768\n"
     ]
    }
   ],
   "source": [
    "a = int(input())\n",
    "b=[]\n",
    "for i in range(a):\n",
    "    b=list(map(int,input().split()))\n",
    "    b.sort()\n",
    "    print(b[-3])"
   ]
  },
  {
   "cell_type": "markdown",
   "id": "04f70ace",
   "metadata": {},
   "source": [
    "# 9506\n",
    "약수 합"
   ]
  },
  {
   "cell_type": "code",
   "execution_count": 36,
   "id": "b1544829",
   "metadata": {},
   "outputs": [
    {
     "name": "stdout",
     "output_type": "stream",
     "text": [
      "6\n",
      "6 = 1 + 2 + 3\n",
      "12\n",
      "12 is NOT perfect.\n",
      "28\n",
      "28 = 1 + 2 + 4 + 7 + 14\n",
      "-1\n"
     ]
    }
   ],
   "source": [
    "while 1:\n",
    "    a = int(input())\n",
    "    if a==-1:\n",
    "        break\n",
    "    b = 0\n",
    "    c=[]\n",
    "    for i in range(1,a):\n",
    "        if a%i==0:\n",
    "            b+=i\n",
    "            c.append(i)\n",
    "    t=len(c)\n",
    "    if a!=b:\n",
    "        print(f'{a} is NOT perfect.')\n",
    "    else:\n",
    "        print(a,'=',end=' ')\n",
    "        for i in range(t-1):\n",
    "            print(c[i],'+',end=' ')\n",
    "        print(c[-1])"
   ]
  },
  {
   "cell_type": "markdown",
   "id": "dc2550d8",
   "metadata": {},
   "source": [
    "# 7568\n",
    "덩치"
   ]
  },
  {
   "cell_type": "code",
   "execution_count": 47,
   "id": "f8c09c78",
   "metadata": {},
   "outputs": [
    {
     "name": "stdout",
     "output_type": "stream",
     "text": [
      "5\n",
      "55 185\n",
      "58 183\n",
      "88 186\n",
      "60 175\n",
      "46 155\n",
      "2 2 1 2 5 "
     ]
    }
   ],
   "source": [
    "a = int(input())\n",
    "b=[]\n",
    "rank =[]\n",
    "count = 0\n",
    "for i in range(a):\n",
    "    c=list(map(int,input().split()))\n",
    "    b.append(c)\n",
    "for i in range(a):\n",
    "    count = 0\n",
    "    for j in range(a):\n",
    "        \n",
    "        if b[i][0]<b[j][0]:\n",
    "            if b[i][1]<b[j][1]:\n",
    "                count +=1\n",
    "    rank.append(count)\n",
    "for i in range(a):\n",
    "    print(rank[i]+1,end=' ')\n",
    "\n"
   ]
  },
  {
   "cell_type": "markdown",
   "id": "e46553d8",
   "metadata": {},
   "source": [
    "# 11399\n",
    "ATM"
   ]
  },
  {
   "cell_type": "code",
   "execution_count": 52,
   "id": "fe2a3f8e",
   "metadata": {},
   "outputs": [
    {
     "name": "stdout",
     "output_type": "stream",
     "text": [
      "5\n",
      "1 2 3 3 4\n",
      "32\n"
     ]
    }
   ],
   "source": [
    "a = int(input())\n",
    "b = list(map(int,input().split()))\n",
    "b.sort()\n",
    "k = 0\n",
    "ans = 0\n",
    "for i in range(a):\n",
    "    k+=b[i]\n",
    "    ans+=k\n",
    "print(ans)"
   ]
  },
  {
   "cell_type": "markdown",
   "id": "05b64b7f",
   "metadata": {},
   "source": [
    "# 1920\n",
    "수 찾기"
   ]
  },
  {
   "cell_type": "code",
   "execution_count": 57,
   "id": "7a570c1c",
   "metadata": {
    "scrolled": true
   },
   "outputs": [
    {
     "name": "stdout",
     "output_type": "stream",
     "text": [
      "5\n",
      "4 1 5 2 3\n",
      "5\n",
      "1 3 7 9 5\n",
      "1\n",
      "1\n",
      "0\n",
      "0\n",
      "1\n"
     ]
    }
   ],
   "source": [
    "import sys\n",
    "n = int(input())\n",
    "list1 = set(map(int,input().split()))# 검색 시간을 줄이기 위해서 list 대신 set\n",
    "m = int(input())\n",
    "list2 = list(map(int,input().split()))\n",
    "for i in range(m):\n",
    "    if list2[i] in list1:\n",
    "        print(1)\n",
    "    else:\n",
    "        print(0)"
   ]
  },
  {
   "cell_type": "markdown",
   "id": "a3006908",
   "metadata": {},
   "source": [
    "# 10773\n",
    "제로"
   ]
  },
  {
   "cell_type": "code",
   "execution_count": 66,
   "id": "2287b819",
   "metadata": {},
   "outputs": [
    {
     "name": "stdout",
     "output_type": "stream",
     "text": [
      "10\n",
      "1\n",
      "3\n",
      "5\n",
      "4\n",
      "0\n",
      "0\n",
      "7\n",
      "0\n",
      "0\n",
      "6\n",
      "7\n"
     ]
    }
   ],
   "source": [
    "a= int(input())\n",
    "k =[]\n",
    "ans = 0\n",
    "for i in range(a):\n",
    "    b = int(input())\n",
    "    if b==0:\n",
    "        del k[-1]\n",
    "    else:\n",
    "        k.append(b)\n",
    "for i in range(len(k)):\n",
    "    ans += k[i]\n",
    "print(ans)"
   ]
  }
 ],
 "metadata": {
  "kernelspec": {
   "display_name": "Python 3 (ipykernel)",
   "language": "python",
   "name": "python3"
  },
  "language_info": {
   "codemirror_mode": {
    "name": "ipython",
    "version": 3
   },
   "file_extension": ".py",
   "mimetype": "text/x-python",
   "name": "python",
   "nbconvert_exporter": "python",
   "pygments_lexer": "ipython3",
   "version": "3.9.12"
  }
 },
 "nbformat": 4,
 "nbformat_minor": 5
}
